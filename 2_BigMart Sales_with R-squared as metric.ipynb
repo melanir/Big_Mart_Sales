{
 "cells": [
  {
   "cell_type": "markdown",
   "metadata": {},
   "source": [
    "## Data Description"
   ]
  },
  {
   "cell_type": "markdown",
   "metadata": {},
   "source": [
    "https://www.kaggle.com/brijbhushannanda1979/bigmart-sales-data"
   ]
  },
  {
   "cell_type": "markdown",
   "metadata": {},
   "source": [
    "- Item_Identifier: Unique product ID\n",
    "\n",
    "- Item_Weight: Weight of product\n",
    "\n",
    "- Item_Fat_Content: Whether the product is low fat or not\n",
    "\n",
    "- Item_Visibility: The % of total display area of all products in a store allocated to the particular product\n",
    "\n",
    "- Item_Type: The category to which the product belongs\n",
    "\n",
    "- Item_MRP: Maximum Retail Price (list price) of the product\n",
    "\n",
    "- Outlet_Identifier: Unique store ID\n",
    "\n",
    "- Outlet_Establishment_Year: The year in which store was established\n",
    "\n",
    "- Outlet_Size: The size of the store in terms of ground area covered\n",
    "\n",
    "- Outlet_Location_Type: The type of city in which the store is located\n",
    "\n",
    "- Outlet_Type: Whether the outlet is just a grocery store or some sort of supermarket\n",
    "\n",
    "- Item_Outlet_Sales: Sales of the product in the particulat store. This is the outcome variable to be predicted."
   ]
  },
  {
   "cell_type": "code",
   "execution_count": 1,
   "metadata": {},
   "outputs": [],
   "source": [
    "import time\n",
    "import pandas as pd\n",
    "import numpy as np\n",
    "import matplotlib.pyplot as plt\n",
    "import seaborn as sns\n",
    "import gc\n",
    "import re"
   ]
  },
  {
   "cell_type": "code",
   "execution_count": 2,
   "metadata": {},
   "outputs": [],
   "source": [
    "from scipy.stats import mode\n",
    "from sklearn.preprocessing import OneHotEncoder\n",
    "from sklearn.model_selection import train_test_split\n",
    "from sklearn.feature_extraction import FeatureHasher\n",
    "from sklearn.preprocessing import StandardScaler"
   ]
  },
  {
   "cell_type": "code",
   "execution_count": 3,
   "metadata": {},
   "outputs": [],
   "source": [
    "from sklearn.linear_model import LinearRegression\n",
    "from sklearn.tree import DecisionTreeRegressor\n",
    "from sklearn.ensemble import RandomForestRegressor\n",
    "from xgboost import XGBRegressor\n",
    "from lightgbm import LGBMRegressor\n",
    "import lightgbm as lgb\n",
    "import catboost as cb\n",
    "from catboost import CatBoostRegressor\n",
    "from sklearn.metrics import r2_score\n",
    "from sklearn.metrics import mean_squared_error\n",
    "from sklearn.model_selection import GridSearchCV, cross_val_score, KFold, StratifiedKFold"
   ]
  },
  {
   "cell_type": "code",
   "execution_count": 4,
   "metadata": {},
   "outputs": [],
   "source": [
    "import warnings\n",
    "warnings.filterwarnings(\"ignore\")"
   ]
  },
  {
   "cell_type": "code",
   "execution_count": 5,
   "metadata": {},
   "outputs": [],
   "source": [
    "train_df = pd.read_csv(\"train.csv\")"
   ]
  },
  {
   "cell_type": "code",
   "execution_count": 6,
   "metadata": {},
   "outputs": [
    {
     "data": {
      "text/plain": [
       "(8523, 12)"
      ]
     },
     "execution_count": 6,
     "metadata": {},
     "output_type": "execute_result"
    }
   ],
   "source": [
    "train_df.shape"
   ]
  },
  {
   "cell_type": "code",
   "execution_count": 7,
   "metadata": {},
   "outputs": [
    {
     "data": {
      "text/html": [
       "<div>\n",
       "<style scoped>\n",
       "    .dataframe tbody tr th:only-of-type {\n",
       "        vertical-align: middle;\n",
       "    }\n",
       "\n",
       "    .dataframe tbody tr th {\n",
       "        vertical-align: top;\n",
       "    }\n",
       "\n",
       "    .dataframe thead th {\n",
       "        text-align: right;\n",
       "    }\n",
       "</style>\n",
       "<table border=\"1\" class=\"dataframe\">\n",
       "  <thead>\n",
       "    <tr style=\"text-align: right;\">\n",
       "      <th></th>\n",
       "      <th>Item_Identifier</th>\n",
       "      <th>Item_Weight</th>\n",
       "      <th>Item_Fat_Content</th>\n",
       "      <th>Item_Visibility</th>\n",
       "      <th>Item_Type</th>\n",
       "      <th>Item_MRP</th>\n",
       "      <th>Outlet_Identifier</th>\n",
       "      <th>Outlet_Establishment_Year</th>\n",
       "      <th>Outlet_Size</th>\n",
       "      <th>Outlet_Location_Type</th>\n",
       "      <th>Outlet_Type</th>\n",
       "      <th>Item_Outlet_Sales</th>\n",
       "    </tr>\n",
       "  </thead>\n",
       "  <tbody>\n",
       "    <tr>\n",
       "      <th>0</th>\n",
       "      <td>FDA15</td>\n",
       "      <td>9.30</td>\n",
       "      <td>Low Fat</td>\n",
       "      <td>0.016047</td>\n",
       "      <td>Dairy</td>\n",
       "      <td>249.8092</td>\n",
       "      <td>OUT049</td>\n",
       "      <td>1999</td>\n",
       "      <td>Medium</td>\n",
       "      <td>Tier 1</td>\n",
       "      <td>Supermarket Type1</td>\n",
       "      <td>3735.1380</td>\n",
       "    </tr>\n",
       "    <tr>\n",
       "      <th>1</th>\n",
       "      <td>DRC01</td>\n",
       "      <td>5.92</td>\n",
       "      <td>Regular</td>\n",
       "      <td>0.019278</td>\n",
       "      <td>Soft Drinks</td>\n",
       "      <td>48.2692</td>\n",
       "      <td>OUT018</td>\n",
       "      <td>2009</td>\n",
       "      <td>Medium</td>\n",
       "      <td>Tier 3</td>\n",
       "      <td>Supermarket Type2</td>\n",
       "      <td>443.4228</td>\n",
       "    </tr>\n",
       "    <tr>\n",
       "      <th>2</th>\n",
       "      <td>FDN15</td>\n",
       "      <td>17.50</td>\n",
       "      <td>Low Fat</td>\n",
       "      <td>0.016760</td>\n",
       "      <td>Meat</td>\n",
       "      <td>141.6180</td>\n",
       "      <td>OUT049</td>\n",
       "      <td>1999</td>\n",
       "      <td>Medium</td>\n",
       "      <td>Tier 1</td>\n",
       "      <td>Supermarket Type1</td>\n",
       "      <td>2097.2700</td>\n",
       "    </tr>\n",
       "    <tr>\n",
       "      <th>3</th>\n",
       "      <td>FDX07</td>\n",
       "      <td>19.20</td>\n",
       "      <td>Regular</td>\n",
       "      <td>0.000000</td>\n",
       "      <td>Fruits and Vegetables</td>\n",
       "      <td>182.0950</td>\n",
       "      <td>OUT010</td>\n",
       "      <td>1998</td>\n",
       "      <td>NaN</td>\n",
       "      <td>Tier 3</td>\n",
       "      <td>Grocery Store</td>\n",
       "      <td>732.3800</td>\n",
       "    </tr>\n",
       "    <tr>\n",
       "      <th>4</th>\n",
       "      <td>NCD19</td>\n",
       "      <td>8.93</td>\n",
       "      <td>Low Fat</td>\n",
       "      <td>0.000000</td>\n",
       "      <td>Household</td>\n",
       "      <td>53.8614</td>\n",
       "      <td>OUT013</td>\n",
       "      <td>1987</td>\n",
       "      <td>High</td>\n",
       "      <td>Tier 3</td>\n",
       "      <td>Supermarket Type1</td>\n",
       "      <td>994.7052</td>\n",
       "    </tr>\n",
       "  </tbody>\n",
       "</table>\n",
       "</div>"
      ],
      "text/plain": [
       "  Item_Identifier  Item_Weight Item_Fat_Content  Item_Visibility  \\\n",
       "0           FDA15         9.30          Low Fat         0.016047   \n",
       "1           DRC01         5.92          Regular         0.019278   \n",
       "2           FDN15        17.50          Low Fat         0.016760   \n",
       "3           FDX07        19.20          Regular         0.000000   \n",
       "4           NCD19         8.93          Low Fat         0.000000   \n",
       "\n",
       "               Item_Type  Item_MRP Outlet_Identifier  \\\n",
       "0                  Dairy  249.8092            OUT049   \n",
       "1            Soft Drinks   48.2692            OUT018   \n",
       "2                   Meat  141.6180            OUT049   \n",
       "3  Fruits and Vegetables  182.0950            OUT010   \n",
       "4              Household   53.8614            OUT013   \n",
       "\n",
       "   Outlet_Establishment_Year Outlet_Size Outlet_Location_Type  \\\n",
       "0                       1999      Medium               Tier 1   \n",
       "1                       2009      Medium               Tier 3   \n",
       "2                       1999      Medium               Tier 1   \n",
       "3                       1998         NaN               Tier 3   \n",
       "4                       1987        High               Tier 3   \n",
       "\n",
       "         Outlet_Type  Item_Outlet_Sales  \n",
       "0  Supermarket Type1          3735.1380  \n",
       "1  Supermarket Type2           443.4228  \n",
       "2  Supermarket Type1          2097.2700  \n",
       "3      Grocery Store           732.3800  \n",
       "4  Supermarket Type1           994.7052  "
      ]
     },
     "execution_count": 7,
     "metadata": {},
     "output_type": "execute_result"
    }
   ],
   "source": [
    "train_df.head()"
   ]
  },
  {
   "cell_type": "code",
   "execution_count": 8,
   "metadata": {},
   "outputs": [],
   "source": [
    "test_df = pd.read_csv(\"test.csv\")"
   ]
  },
  {
   "cell_type": "code",
   "execution_count": 9,
   "metadata": {},
   "outputs": [
    {
     "data": {
      "text/plain": [
       "(5681, 11)"
      ]
     },
     "execution_count": 9,
     "metadata": {},
     "output_type": "execute_result"
    }
   ],
   "source": [
    "test_df.shape"
   ]
  },
  {
   "cell_type": "code",
   "execution_count": 10,
   "metadata": {},
   "outputs": [
    {
     "data": {
      "text/html": [
       "<div>\n",
       "<style scoped>\n",
       "    .dataframe tbody tr th:only-of-type {\n",
       "        vertical-align: middle;\n",
       "    }\n",
       "\n",
       "    .dataframe tbody tr th {\n",
       "        vertical-align: top;\n",
       "    }\n",
       "\n",
       "    .dataframe thead th {\n",
       "        text-align: right;\n",
       "    }\n",
       "</style>\n",
       "<table border=\"1\" class=\"dataframe\">\n",
       "  <thead>\n",
       "    <tr style=\"text-align: right;\">\n",
       "      <th></th>\n",
       "      <th>Item_Identifier</th>\n",
       "      <th>Item_Weight</th>\n",
       "      <th>Item_Fat_Content</th>\n",
       "      <th>Item_Visibility</th>\n",
       "      <th>Item_Type</th>\n",
       "      <th>Item_MRP</th>\n",
       "      <th>Outlet_Identifier</th>\n",
       "      <th>Outlet_Establishment_Year</th>\n",
       "      <th>Outlet_Size</th>\n",
       "      <th>Outlet_Location_Type</th>\n",
       "      <th>Outlet_Type</th>\n",
       "    </tr>\n",
       "  </thead>\n",
       "  <tbody>\n",
       "    <tr>\n",
       "      <th>0</th>\n",
       "      <td>FDW58</td>\n",
       "      <td>20.750</td>\n",
       "      <td>Low Fat</td>\n",
       "      <td>0.007565</td>\n",
       "      <td>Snack Foods</td>\n",
       "      <td>107.8622</td>\n",
       "      <td>OUT049</td>\n",
       "      <td>1999</td>\n",
       "      <td>Medium</td>\n",
       "      <td>Tier 1</td>\n",
       "      <td>Supermarket Type1</td>\n",
       "    </tr>\n",
       "    <tr>\n",
       "      <th>1</th>\n",
       "      <td>FDW14</td>\n",
       "      <td>8.300</td>\n",
       "      <td>reg</td>\n",
       "      <td>0.038428</td>\n",
       "      <td>Dairy</td>\n",
       "      <td>87.3198</td>\n",
       "      <td>OUT017</td>\n",
       "      <td>2007</td>\n",
       "      <td>NaN</td>\n",
       "      <td>Tier 2</td>\n",
       "      <td>Supermarket Type1</td>\n",
       "    </tr>\n",
       "    <tr>\n",
       "      <th>2</th>\n",
       "      <td>NCN55</td>\n",
       "      <td>14.600</td>\n",
       "      <td>Low Fat</td>\n",
       "      <td>0.099575</td>\n",
       "      <td>Others</td>\n",
       "      <td>241.7538</td>\n",
       "      <td>OUT010</td>\n",
       "      <td>1998</td>\n",
       "      <td>NaN</td>\n",
       "      <td>Tier 3</td>\n",
       "      <td>Grocery Store</td>\n",
       "    </tr>\n",
       "    <tr>\n",
       "      <th>3</th>\n",
       "      <td>FDQ58</td>\n",
       "      <td>7.315</td>\n",
       "      <td>Low Fat</td>\n",
       "      <td>0.015388</td>\n",
       "      <td>Snack Foods</td>\n",
       "      <td>155.0340</td>\n",
       "      <td>OUT017</td>\n",
       "      <td>2007</td>\n",
       "      <td>NaN</td>\n",
       "      <td>Tier 2</td>\n",
       "      <td>Supermarket Type1</td>\n",
       "    </tr>\n",
       "    <tr>\n",
       "      <th>4</th>\n",
       "      <td>FDY38</td>\n",
       "      <td>NaN</td>\n",
       "      <td>Regular</td>\n",
       "      <td>0.118599</td>\n",
       "      <td>Dairy</td>\n",
       "      <td>234.2300</td>\n",
       "      <td>OUT027</td>\n",
       "      <td>1985</td>\n",
       "      <td>Medium</td>\n",
       "      <td>Tier 3</td>\n",
       "      <td>Supermarket Type3</td>\n",
       "    </tr>\n",
       "  </tbody>\n",
       "</table>\n",
       "</div>"
      ],
      "text/plain": [
       "  Item_Identifier  Item_Weight Item_Fat_Content  Item_Visibility    Item_Type  \\\n",
       "0           FDW58       20.750          Low Fat         0.007565  Snack Foods   \n",
       "1           FDW14        8.300              reg         0.038428        Dairy   \n",
       "2           NCN55       14.600          Low Fat         0.099575       Others   \n",
       "3           FDQ58        7.315          Low Fat         0.015388  Snack Foods   \n",
       "4           FDY38          NaN          Regular         0.118599        Dairy   \n",
       "\n",
       "   Item_MRP Outlet_Identifier  Outlet_Establishment_Year Outlet_Size  \\\n",
       "0  107.8622            OUT049                       1999      Medium   \n",
       "1   87.3198            OUT017                       2007         NaN   \n",
       "2  241.7538            OUT010                       1998         NaN   \n",
       "3  155.0340            OUT017                       2007         NaN   \n",
       "4  234.2300            OUT027                       1985      Medium   \n",
       "\n",
       "  Outlet_Location_Type        Outlet_Type  \n",
       "0               Tier 1  Supermarket Type1  \n",
       "1               Tier 2  Supermarket Type1  \n",
       "2               Tier 3      Grocery Store  \n",
       "3               Tier 2  Supermarket Type1  \n",
       "4               Tier 3  Supermarket Type3  "
      ]
     },
     "execution_count": 10,
     "metadata": {},
     "output_type": "execute_result"
    }
   ],
   "source": [
    "test_df.head()"
   ]
  },
  {
   "cell_type": "code",
   "execution_count": 11,
   "metadata": {},
   "outputs": [
    {
     "name": "stdout",
     "output_type": "stream",
     "text": [
      "Train set: 0.78 Mb\n",
      "Test set: 0.48 Mb\n"
     ]
    }
   ],
   "source": [
    "#Checking the memory usage of both dataframes\n",
    "\n",
    "print(\"Train set: {:2.2f} Mb\".format(train_df.memory_usage().sum() / 1024**2))\n",
    "print(\"Test set: {:2.2f} Mb\".format(test_df.memory_usage().sum() / 1024**2))"
   ]
  },
  {
   "cell_type": "markdown",
   "metadata": {},
   "source": [
    "These dataframes are small and their memory usage does not have to be reduced."
   ]
  },
  {
   "cell_type": "markdown",
   "metadata": {},
   "source": [
    "## Handling Missing Values"
   ]
  },
  {
   "cell_type": "code",
   "execution_count": 12,
   "metadata": {},
   "outputs": [
    {
     "name": "stdout",
     "output_type": "stream",
     "text": [
      "<class 'pandas.core.frame.DataFrame'>\n",
      "RangeIndex: 8523 entries, 0 to 8522\n",
      "Data columns (total 12 columns):\n",
      " #   Column                     Non-Null Count  Dtype  \n",
      "---  ------                     --------------  -----  \n",
      " 0   Item_Identifier            8523 non-null   object \n",
      " 1   Item_Weight                7060 non-null   float64\n",
      " 2   Item_Fat_Content           8523 non-null   object \n",
      " 3   Item_Visibility            8523 non-null   float64\n",
      " 4   Item_Type                  8523 non-null   object \n",
      " 5   Item_MRP                   8523 non-null   float64\n",
      " 6   Outlet_Identifier          8523 non-null   object \n",
      " 7   Outlet_Establishment_Year  8523 non-null   int64  \n",
      " 8   Outlet_Size                6113 non-null   object \n",
      " 9   Outlet_Location_Type       8523 non-null   object \n",
      " 10  Outlet_Type                8523 non-null   object \n",
      " 11  Item_Outlet_Sales          8523 non-null   float64\n",
      "dtypes: float64(4), int64(1), object(7)\n",
      "memory usage: 799.2+ KB\n"
     ]
    }
   ],
   "source": [
    "train_df.info(verbose=True, null_counts=True)"
   ]
  },
  {
   "cell_type": "code",
   "execution_count": 13,
   "metadata": {},
   "outputs": [
    {
     "name": "stdout",
     "output_type": "stream",
     "text": [
      "<class 'pandas.core.frame.DataFrame'>\n",
      "RangeIndex: 5681 entries, 0 to 5680\n",
      "Data columns (total 11 columns):\n",
      " #   Column                     Non-Null Count  Dtype  \n",
      "---  ------                     --------------  -----  \n",
      " 0   Item_Identifier            5681 non-null   object \n",
      " 1   Item_Weight                4705 non-null   float64\n",
      " 2   Item_Fat_Content           5681 non-null   object \n",
      " 3   Item_Visibility            5681 non-null   float64\n",
      " 4   Item_Type                  5681 non-null   object \n",
      " 5   Item_MRP                   5681 non-null   float64\n",
      " 6   Outlet_Identifier          5681 non-null   object \n",
      " 7   Outlet_Establishment_Year  5681 non-null   int64  \n",
      " 8   Outlet_Size                4075 non-null   object \n",
      " 9   Outlet_Location_Type       5681 non-null   object \n",
      " 10  Outlet_Type                5681 non-null   object \n",
      "dtypes: float64(3), int64(1), object(7)\n",
      "memory usage: 488.3+ KB\n"
     ]
    }
   ],
   "source": [
    "test_df.info()"
   ]
  },
  {
   "cell_type": "markdown",
   "metadata": {},
   "source": [
    "Only the Item_Weight and Outlet_Size columns have missing values. Let's check if they can be derived from the other columns."
   ]
  },
  {
   "cell_type": "code",
   "execution_count": 14,
   "metadata": {
    "scrolled": true
   },
   "outputs": [
    {
     "data": {
      "text/html": [
       "<div>\n",
       "<style scoped>\n",
       "    .dataframe tbody tr th:only-of-type {\n",
       "        vertical-align: middle;\n",
       "    }\n",
       "\n",
       "    .dataframe tbody tr th {\n",
       "        vertical-align: top;\n",
       "    }\n",
       "\n",
       "    .dataframe thead th {\n",
       "        text-align: right;\n",
       "    }\n",
       "</style>\n",
       "<table border=\"1\" class=\"dataframe\">\n",
       "  <thead>\n",
       "    <tr style=\"text-align: right;\">\n",
       "      <th></th>\n",
       "      <th>Item_Identifier</th>\n",
       "      <th>Item_Weight</th>\n",
       "    </tr>\n",
       "  </thead>\n",
       "  <tbody>\n",
       "    <tr>\n",
       "      <th>7</th>\n",
       "      <td>FDP10</td>\n",
       "      <td>NaN</td>\n",
       "    </tr>\n",
       "    <tr>\n",
       "      <th>18</th>\n",
       "      <td>DRI11</td>\n",
       "      <td>NaN</td>\n",
       "    </tr>\n",
       "    <tr>\n",
       "      <th>21</th>\n",
       "      <td>FDW12</td>\n",
       "      <td>NaN</td>\n",
       "    </tr>\n",
       "    <tr>\n",
       "      <th>23</th>\n",
       "      <td>FDC37</td>\n",
       "      <td>NaN</td>\n",
       "    </tr>\n",
       "    <tr>\n",
       "      <th>29</th>\n",
       "      <td>FDC14</td>\n",
       "      <td>NaN</td>\n",
       "    </tr>\n",
       "    <tr>\n",
       "      <th>...</th>\n",
       "      <td>...</td>\n",
       "      <td>...</td>\n",
       "    </tr>\n",
       "    <tr>\n",
       "      <th>8485</th>\n",
       "      <td>DRK37</td>\n",
       "      <td>NaN</td>\n",
       "    </tr>\n",
       "    <tr>\n",
       "      <th>8487</th>\n",
       "      <td>DRG13</td>\n",
       "      <td>NaN</td>\n",
       "    </tr>\n",
       "    <tr>\n",
       "      <th>8488</th>\n",
       "      <td>NCN14</td>\n",
       "      <td>NaN</td>\n",
       "    </tr>\n",
       "    <tr>\n",
       "      <th>8490</th>\n",
       "      <td>FDU44</td>\n",
       "      <td>NaN</td>\n",
       "    </tr>\n",
       "    <tr>\n",
       "      <th>8504</th>\n",
       "      <td>NCN18</td>\n",
       "      <td>NaN</td>\n",
       "    </tr>\n",
       "  </tbody>\n",
       "</table>\n",
       "<p>1463 rows × 2 columns</p>\n",
       "</div>"
      ],
      "text/plain": [
       "     Item_Identifier  Item_Weight\n",
       "7              FDP10          NaN\n",
       "18             DRI11          NaN\n",
       "21             FDW12          NaN\n",
       "23             FDC37          NaN\n",
       "29             FDC14          NaN\n",
       "...              ...          ...\n",
       "8485           DRK37          NaN\n",
       "8487           DRG13          NaN\n",
       "8488           NCN14          NaN\n",
       "8490           FDU44          NaN\n",
       "8504           NCN18          NaN\n",
       "\n",
       "[1463 rows x 2 columns]"
      ]
     },
     "execution_count": 14,
     "metadata": {},
     "output_type": "execute_result"
    }
   ],
   "source": [
    "#Creating a boolean series with True for every null value in the Item_Weight column\n",
    "bool_ItemWeight = pd.isnull(train_df['Item_Weight'])\n",
    "\n",
    "#Viewing the Item_Identifier and Item_Weight columns where the Item_Weight is null\n",
    "train_df[['Item_Identifier', 'Item_Weight']][bool_ItemWeight]"
   ]
  },
  {
   "cell_type": "code",
   "execution_count": 15,
   "metadata": {},
   "outputs": [],
   "source": [
    "#Grouping the train dataframe by the Item_Identifier column\n",
    "item_groupby = train_df.groupby(['Item_Identifier'])"
   ]
  },
  {
   "cell_type": "code",
   "execution_count": 16,
   "metadata": {
    "scrolled": false
   },
   "outputs": [
    {
     "data": {
      "text/html": [
       "<div>\n",
       "<style scoped>\n",
       "    .dataframe tbody tr th:only-of-type {\n",
       "        vertical-align: middle;\n",
       "    }\n",
       "\n",
       "    .dataframe tbody tr th {\n",
       "        vertical-align: top;\n",
       "    }\n",
       "\n",
       "    .dataframe thead th {\n",
       "        text-align: right;\n",
       "    }\n",
       "</style>\n",
       "<table border=\"1\" class=\"dataframe\">\n",
       "  <thead>\n",
       "    <tr style=\"text-align: right;\">\n",
       "      <th></th>\n",
       "      <th>Item_Identifier</th>\n",
       "      <th>Item_Weight</th>\n",
       "      <th>Item_Fat_Content</th>\n",
       "      <th>Item_Visibility</th>\n",
       "      <th>Item_Type</th>\n",
       "      <th>Item_MRP</th>\n",
       "      <th>Outlet_Identifier</th>\n",
       "      <th>Outlet_Establishment_Year</th>\n",
       "      <th>Outlet_Size</th>\n",
       "      <th>Outlet_Location_Type</th>\n",
       "      <th>Outlet_Type</th>\n",
       "      <th>Item_Outlet_Sales</th>\n",
       "    </tr>\n",
       "  </thead>\n",
       "  <tbody>\n",
       "    <tr>\n",
       "      <th>18</th>\n",
       "      <td>DRI11</td>\n",
       "      <td>NaN</td>\n",
       "      <td>Low Fat</td>\n",
       "      <td>0.034238</td>\n",
       "      <td>Hard Drinks</td>\n",
       "      <td>113.2834</td>\n",
       "      <td>OUT027</td>\n",
       "      <td>1985</td>\n",
       "      <td>Medium</td>\n",
       "      <td>Tier 3</td>\n",
       "      <td>Supermarket Type3</td>\n",
       "      <td>2303.6680</td>\n",
       "    </tr>\n",
       "    <tr>\n",
       "      <th>1366</th>\n",
       "      <td>DRI11</td>\n",
       "      <td>NaN</td>\n",
       "      <td>Low Fat</td>\n",
       "      <td>0.060237</td>\n",
       "      <td>Hard Drinks</td>\n",
       "      <td>115.9834</td>\n",
       "      <td>OUT019</td>\n",
       "      <td>1985</td>\n",
       "      <td>Small</td>\n",
       "      <td>Tier 1</td>\n",
       "      <td>Grocery Store</td>\n",
       "      <td>345.5502</td>\n",
       "    </tr>\n",
       "    <tr>\n",
       "      <th>3127</th>\n",
       "      <td>DRI11</td>\n",
       "      <td>8.26</td>\n",
       "      <td>Low Fat</td>\n",
       "      <td>0.034458</td>\n",
       "      <td>Hard Drinks</td>\n",
       "      <td>113.3834</td>\n",
       "      <td>OUT049</td>\n",
       "      <td>1999</td>\n",
       "      <td>Medium</td>\n",
       "      <td>Tier 1</td>\n",
       "      <td>Supermarket Type1</td>\n",
       "      <td>2073.3012</td>\n",
       "    </tr>\n",
       "    <tr>\n",
       "      <th>5310</th>\n",
       "      <td>DRI11</td>\n",
       "      <td>8.26</td>\n",
       "      <td>Low Fat</td>\n",
       "      <td>0.057586</td>\n",
       "      <td>Hard Drinks</td>\n",
       "      <td>113.7834</td>\n",
       "      <td>OUT010</td>\n",
       "      <td>1998</td>\n",
       "      <td>NaN</td>\n",
       "      <td>Tier 3</td>\n",
       "      <td>Grocery Store</td>\n",
       "      <td>115.1834</td>\n",
       "    </tr>\n",
       "    <tr>\n",
       "      <th>7022</th>\n",
       "      <td>DRI11</td>\n",
       "      <td>8.26</td>\n",
       "      <td>Low Fat</td>\n",
       "      <td>0.034398</td>\n",
       "      <td>Hard Drinks</td>\n",
       "      <td>115.7834</td>\n",
       "      <td>OUT035</td>\n",
       "      <td>2004</td>\n",
       "      <td>Small</td>\n",
       "      <td>Tier 2</td>\n",
       "      <td>Supermarket Type1</td>\n",
       "      <td>2073.3012</td>\n",
       "    </tr>\n",
       "    <tr>\n",
       "      <th>7192</th>\n",
       "      <td>DRI11</td>\n",
       "      <td>8.26</td>\n",
       "      <td>Low Fat</td>\n",
       "      <td>0.034544</td>\n",
       "      <td>Hard Drinks</td>\n",
       "      <td>116.0834</td>\n",
       "      <td>OUT018</td>\n",
       "      <td>2009</td>\n",
       "      <td>Medium</td>\n",
       "      <td>Tier 3</td>\n",
       "      <td>Supermarket Type2</td>\n",
       "      <td>1267.0174</td>\n",
       "    </tr>\n",
       "    <tr>\n",
       "      <th>8483</th>\n",
       "      <td>DRI11</td>\n",
       "      <td>8.26</td>\n",
       "      <td>Low Fat</td>\n",
       "      <td>0.034474</td>\n",
       "      <td>Hard Drinks</td>\n",
       "      <td>117.0834</td>\n",
       "      <td>OUT045</td>\n",
       "      <td>2002</td>\n",
       "      <td>NaN</td>\n",
       "      <td>Tier 2</td>\n",
       "      <td>Supermarket Type1</td>\n",
       "      <td>1612.5676</td>\n",
       "    </tr>\n",
       "  </tbody>\n",
       "</table>\n",
       "</div>"
      ],
      "text/plain": [
       "     Item_Identifier  Item_Weight Item_Fat_Content  Item_Visibility  \\\n",
       "18             DRI11          NaN          Low Fat         0.034238   \n",
       "1366           DRI11          NaN          Low Fat         0.060237   \n",
       "3127           DRI11         8.26          Low Fat         0.034458   \n",
       "5310           DRI11         8.26          Low Fat         0.057586   \n",
       "7022           DRI11         8.26          Low Fat         0.034398   \n",
       "7192           DRI11         8.26          Low Fat         0.034544   \n",
       "8483           DRI11         8.26          Low Fat         0.034474   \n",
       "\n",
       "        Item_Type  Item_MRP Outlet_Identifier  Outlet_Establishment_Year  \\\n",
       "18    Hard Drinks  113.2834            OUT027                       1985   \n",
       "1366  Hard Drinks  115.9834            OUT019                       1985   \n",
       "3127  Hard Drinks  113.3834            OUT049                       1999   \n",
       "5310  Hard Drinks  113.7834            OUT010                       1998   \n",
       "7022  Hard Drinks  115.7834            OUT035                       2004   \n",
       "7192  Hard Drinks  116.0834            OUT018                       2009   \n",
       "8483  Hard Drinks  117.0834            OUT045                       2002   \n",
       "\n",
       "     Outlet_Size Outlet_Location_Type        Outlet_Type  Item_Outlet_Sales  \n",
       "18        Medium               Tier 3  Supermarket Type3          2303.6680  \n",
       "1366       Small               Tier 1      Grocery Store           345.5502  \n",
       "3127      Medium               Tier 1  Supermarket Type1          2073.3012  \n",
       "5310         NaN               Tier 3      Grocery Store           115.1834  \n",
       "7022       Small               Tier 2  Supermarket Type1          2073.3012  \n",
       "7192      Medium               Tier 3  Supermarket Type2          1267.0174  \n",
       "8483         NaN               Tier 2  Supermarket Type1          1612.5676  "
      ]
     },
     "execution_count": 16,
     "metadata": {},
     "output_type": "execute_result"
    }
   ],
   "source": [
    "#Checking the Item_Weight values for the Item_Identifier value 'DRI11'\n",
    "item_groupby.get_group('DRI11')"
   ]
  },
  {
   "cell_type": "markdown",
   "metadata": {},
   "source": [
    "As expected, we can get item weights from the item identifier column. But we need to check that the item weight is constant for a given item before imputing them in the null values."
   ]
  },
  {
   "cell_type": "code",
   "execution_count": 17,
   "metadata": {},
   "outputs": [
    {
     "data": {
      "text/plain": [
       "count      8523\n",
       "unique     1559\n",
       "top       FDG33\n",
       "freq         10\n",
       "Name: Item_Identifier, dtype: object"
      ]
     },
     "execution_count": 17,
     "metadata": {},
     "output_type": "execute_result"
    }
   ],
   "source": [
    "#Checking the number of unique item types\n",
    "train_df['Item_Identifier'].describe()"
   ]
  },
  {
   "cell_type": "markdown",
   "metadata": {},
   "source": [
    "Since the number of unique items is very high, let's create a mapping of item identifiers and its correct item weight."
   ]
  },
  {
   "cell_type": "code",
   "execution_count": 18,
   "metadata": {},
   "outputs": [
    {
     "data": {
      "text/plain": [
       "dict"
      ]
     },
     "execution_count": 18,
     "metadata": {},
     "output_type": "execute_result"
    }
   ],
   "source": [
    "#Creating an empty dict object to store the mapping\n",
    "item_id_weight_dict = dict()\n",
    "type(item_id_weight_dict)"
   ]
  },
  {
   "cell_type": "code",
   "execution_count": 19,
   "metadata": {},
   "outputs": [],
   "source": [
    "#Making an empty list to store item identifiers for which item weights weren't found\n",
    "leftover_item_identifiers = []\n",
    "\n",
    "\n",
    "#Looping through the list of item identifiers\n",
    "for i in train_df['Item_Identifier'].unique().tolist():\n",
    "    \n",
    "    #Getting all the item weights for the current item\n",
    "    weight = train_df['Item_Weight'][(pd.notnull(train_df['Item_Weight'])) & (train_df['Item_Identifier']==i)]\n",
    "    \n",
    "    #Checking if there is only one unique item weight for the current item\n",
    "    if len(set(weight))==1:\n",
    "        \n",
    "        #Adding the item identifier and its weight to the mapping\n",
    "        item_id_weight_dict[i] = list(set(weight))[0]\n",
    "    \n",
    "    #Noting the items that do not have a single unique item weight or fail that test for some other reason\n",
    "    else:\n",
    "        leftover_item_identifiers.append(i)\n",
    "        "
   ]
  },
  {
   "cell_type": "markdown",
   "metadata": {},
   "source": [
    "Now, we can use this mapping to impute the missing Item_Weight values."
   ]
  },
  {
   "cell_type": "code",
   "execution_count": 20,
   "metadata": {},
   "outputs": [],
   "source": [
    "#Imputing the Item_Weight values wherever it is null in the train set\n",
    "train_df['Item_Weight'] = train_df.apply(lambda x: item_id_weight_dict[x['Item_Identifier']] if ((pd.isnull(x['Item_Weight'])) \n",
    "                             and (x['Item_Identifier'] in(item_id_weight_dict.keys()))) else x['Item_Weight'], axis=1)"
   ]
  },
  {
   "cell_type": "code",
   "execution_count": 21,
   "metadata": {},
   "outputs": [],
   "source": [
    "#Doing the same in the test set\n",
    "test_df['Item_Weight'] = test_df.apply(lambda x: item_id_weight_dict[x['Item_Identifier']] if ((pd.isnull(x['Item_Weight'])) \n",
    "                             and (x['Item_Identifier'] in(item_id_weight_dict.keys()))) else x['Item_Weight'], axis=1)"
   ]
  },
  {
   "cell_type": "markdown",
   "metadata": {},
   "source": [
    "Let's check if there are any null values in the Item_Weight column."
   ]
  },
  {
   "cell_type": "code",
   "execution_count": 22,
   "metadata": {},
   "outputs": [
    {
     "data": {
      "text/plain": [
       "4"
      ]
     },
     "execution_count": 22,
     "metadata": {},
     "output_type": "execute_result"
    }
   ],
   "source": [
    "train_df['Item_Weight'].isnull().sum()"
   ]
  },
  {
   "cell_type": "code",
   "execution_count": 23,
   "metadata": {},
   "outputs": [
    {
     "data": {
      "text/plain": [
       "1"
      ]
     },
     "execution_count": 23,
     "metadata": {},
     "output_type": "execute_result"
    }
   ],
   "source": [
    "test_df['Item_Weight'].isnull().sum()"
   ]
  },
  {
   "cell_type": "markdown",
   "metadata": {},
   "source": [
    "Let's check the rows that still have null values in the Item_Weight column."
   ]
  },
  {
   "cell_type": "code",
   "execution_count": 24,
   "metadata": {},
   "outputs": [
    {
     "data": {
      "text/html": [
       "<div>\n",
       "<style scoped>\n",
       "    .dataframe tbody tr th:only-of-type {\n",
       "        vertical-align: middle;\n",
       "    }\n",
       "\n",
       "    .dataframe tbody tr th {\n",
       "        vertical-align: top;\n",
       "    }\n",
       "\n",
       "    .dataframe thead th {\n",
       "        text-align: right;\n",
       "    }\n",
       "</style>\n",
       "<table border=\"1\" class=\"dataframe\">\n",
       "  <thead>\n",
       "    <tr style=\"text-align: right;\">\n",
       "      <th></th>\n",
       "      <th>Item_Identifier</th>\n",
       "      <th>Item_Weight</th>\n",
       "    </tr>\n",
       "  </thead>\n",
       "  <tbody>\n",
       "    <tr>\n",
       "      <th>927</th>\n",
       "      <td>FDN52</td>\n",
       "      <td>NaN</td>\n",
       "    </tr>\n",
       "    <tr>\n",
       "      <th>1922</th>\n",
       "      <td>FDK57</td>\n",
       "      <td>NaN</td>\n",
       "    </tr>\n",
       "    <tr>\n",
       "      <th>4187</th>\n",
       "      <td>FDE52</td>\n",
       "      <td>NaN</td>\n",
       "    </tr>\n",
       "    <tr>\n",
       "      <th>5022</th>\n",
       "      <td>FDQ60</td>\n",
       "      <td>NaN</td>\n",
       "    </tr>\n",
       "  </tbody>\n",
       "</table>\n",
       "</div>"
      ],
      "text/plain": [
       "     Item_Identifier  Item_Weight\n",
       "927            FDN52          NaN\n",
       "1922           FDK57          NaN\n",
       "4187           FDE52          NaN\n",
       "5022           FDQ60          NaN"
      ]
     },
     "execution_count": 24,
     "metadata": {},
     "output_type": "execute_result"
    }
   ],
   "source": [
    "# #Viewing the identifier and weight columns where Item_Weight is null\n",
    "train_df[['Item_Identifier', 'Item_Weight']][pd.isnull(train_df['Item_Weight'])]"
   ]
  },
  {
   "cell_type": "code",
   "execution_count": 25,
   "metadata": {},
   "outputs": [
    {
     "name": "stdout",
     "output_type": "stream",
     "text": [
      "FDN52:  927   NaN\n",
      "Name: Item_Weight, dtype: float64\n",
      "FDK57:  1922   NaN\n",
      "Name: Item_Weight, dtype: float64\n",
      "FDE52:  4187   NaN\n",
      "Name: Item_Weight, dtype: float64\n",
      "FDQ60:  5022   NaN\n",
      "Name: Item_Weight, dtype: float64\n"
     ]
    }
   ],
   "source": [
    "#Let's view all the rows with these item identifiers\n",
    "print(\"FDN52: \",train_df.loc[train_df['Item_Identifier']=='FDN52', 'Item_Weight'])\n",
    "print(\"FDK57: \",train_df.loc[train_df['Item_Identifier']=='FDK57', 'Item_Weight'])\n",
    "print(\"FDE52: \",train_df.loc[train_df['Item_Identifier']=='FDE52', 'Item_Weight'])\n",
    "print(\"FDQ60: \",train_df.loc[train_df['Item_Identifier']=='FDQ60', 'Item_Weight'])"
   ]
  },
  {
   "cell_type": "markdown",
   "metadata": {},
   "source": [
    "The weight of these items is not present in the train set. Checking if they are present in the test set."
   ]
  },
  {
   "cell_type": "code",
   "execution_count": 26,
   "metadata": {
    "scrolled": true
   },
   "outputs": [
    {
     "name": "stdout",
     "output_type": "stream",
     "text": [
      "FDN52:  396     9.395\n",
      "1547    9.395\n",
      "2963    9.395\n",
      "3070    9.395\n",
      "3171    9.395\n",
      "3579    9.395\n",
      "4252    9.395\n",
      "5271    9.395\n",
      "Name: Item_Weight, dtype: float64\n",
      "FDK57:  1163    10.195\n",
      "1501    10.195\n",
      "1576    10.195\n",
      "1793    10.195\n",
      "2438    10.195\n",
      "4297    10.195\n",
      "4806    10.195\n",
      "4942    10.195\n",
      "Name: Item_Weight, dtype: float64\n",
      "FDE52:  59      10.395\n",
      "144     10.395\n",
      "502     10.395\n",
      "1081    10.395\n",
      "1980    10.395\n",
      "5196    10.395\n",
      "5221    10.395\n",
      "Name: Item_Weight, dtype: float64\n",
      "FDQ60:  440     6.195\n",
      "1059    6.195\n",
      "1713    6.195\n",
      "1724      NaN\n",
      "2044    6.195\n",
      "4154    6.195\n",
      "4524    6.195\n",
      "5535    6.195\n",
      "Name: Item_Weight, dtype: float64\n"
     ]
    }
   ],
   "source": [
    "#Viewing the rows with the specified item identifier\n",
    "print(\"FDN52: \",test_df.loc[test_df['Item_Identifier']=='FDN52', 'Item_Weight'])\n",
    "print(\"FDK57: \",test_df.loc[test_df['Item_Identifier']=='FDK57', 'Item_Weight'])\n",
    "print(\"FDE52: \",test_df.loc[test_df['Item_Identifier']=='FDE52', 'Item_Weight'])\n",
    "print(\"FDQ60: \",test_df.loc[test_df['Item_Identifier']=='FDQ60', 'Item_Weight'])"
   ]
  },
  {
   "cell_type": "markdown",
   "metadata": {},
   "source": [
    "These weights (from the test set) can be imputed in the train set."
   ]
  },
  {
   "cell_type": "code",
   "execution_count": 27,
   "metadata": {},
   "outputs": [],
   "source": [
    "#Making a list of item identifiers whose weights weren't found in the train set\n",
    "items_in_test = ['FDN52', 'FDK57', 'FDE52', 'FDQ60']"
   ]
  },
  {
   "cell_type": "code",
   "execution_count": 28,
   "metadata": {},
   "outputs": [
    {
     "name": "stdout",
     "output_type": "stream",
     "text": [
      "Weight imputed for the item:  FDN52\n",
      "Weight imputed for the item:  FDK57\n",
      "Weight imputed for the item:  FDE52\n",
      "Weight imputed for the item:  FDQ60\n"
     ]
    }
   ],
   "source": [
    "#Looping through this list\n",
    "for i in items_in_test:\n",
    "    \n",
    "    #Getting all the item weights for the current item\n",
    "    weight = test_df['Item_Weight'][(pd.notnull(test_df['Item_Weight'])) & (test_df['Item_Identifier']==i)]\n",
    "    \n",
    "    #Checking if there is only one unique item weight for the current item\n",
    "    if len(set(weight))==1:\n",
    "        \n",
    "        #Adding the item identifier and its weight to the mapping\n",
    "        item_id_weight_dict[i] = list(set(weight))[0]\n",
    "        \n",
    "                \n",
    "        #Imputing this value in the train and test sets\n",
    "        train_df['Item_Weight'] = train_df.apply(lambda x: item_id_weight_dict[i] if ((x['Item_Identifier']==i) & \n",
    "                                                          (pd.isnull(x['Item_Weight']))) else x['Item_Weight'], axis=1)\n",
    "        \n",
    "        test_df['Item_Weight'] = test_df.apply(lambda x: item_id_weight_dict[i] if ((x['Item_Identifier']==i) & \n",
    "                                                          (pd.isnull(x['Item_Weight']))) else x['Item_Weight'], axis=1)\n",
    "\n",
    "        \n",
    "        print(\"Weight imputed for the item: \", i)\n",
    "        \n",
    "    #Noting the items that do not have a single unique item weight or fail that test for some other reason\n",
    "    else:\n",
    "        leftover_item_identifiers.append(i)\n",
    "    "
   ]
  },
  {
   "cell_type": "markdown",
   "metadata": {},
   "source": [
    "Let's check for null values again."
   ]
  },
  {
   "cell_type": "code",
   "execution_count": 29,
   "metadata": {},
   "outputs": [
    {
     "data": {
      "text/plain": [
       "Item_Identifier                 0\n",
       "Item_Weight                     0\n",
       "Item_Fat_Content                0\n",
       "Item_Visibility                 0\n",
       "Item_Type                       0\n",
       "Item_MRP                        0\n",
       "Outlet_Identifier               0\n",
       "Outlet_Establishment_Year       0\n",
       "Outlet_Size                  2410\n",
       "Outlet_Location_Type            0\n",
       "Outlet_Type                     0\n",
       "Item_Outlet_Sales               0\n",
       "dtype: int64"
      ]
     },
     "execution_count": 29,
     "metadata": {},
     "output_type": "execute_result"
    }
   ],
   "source": [
    "train_df.isnull().sum()"
   ]
  },
  {
   "cell_type": "code",
   "execution_count": 30,
   "metadata": {},
   "outputs": [
    {
     "data": {
      "text/plain": [
       "Item_Identifier                 0\n",
       "Item_Weight                     0\n",
       "Item_Fat_Content                0\n",
       "Item_Visibility                 0\n",
       "Item_Type                       0\n",
       "Item_MRP                        0\n",
       "Outlet_Identifier               0\n",
       "Outlet_Establishment_Year       0\n",
       "Outlet_Size                  1606\n",
       "Outlet_Location_Type            0\n",
       "Outlet_Type                     0\n",
       "dtype: int64"
      ]
     },
     "execution_count": 30,
     "metadata": {},
     "output_type": "execute_result"
    }
   ],
   "source": [
    "test_df.isnull().sum()"
   ]
  },
  {
   "cell_type": "markdown",
   "metadata": {},
   "source": [
    "The missing values in the Item_Weight column have been imputed in both the train and test sets. Next, checking the Outlet_Size column in the train set."
   ]
  },
  {
   "cell_type": "code",
   "execution_count": 31,
   "metadata": {},
   "outputs": [
    {
     "data": {
      "text/html": [
       "<div>\n",
       "<style scoped>\n",
       "    .dataframe tbody tr th:only-of-type {\n",
       "        vertical-align: middle;\n",
       "    }\n",
       "\n",
       "    .dataframe tbody tr th {\n",
       "        vertical-align: top;\n",
       "    }\n",
       "\n",
       "    .dataframe thead th {\n",
       "        text-align: right;\n",
       "    }\n",
       "</style>\n",
       "<table border=\"1\" class=\"dataframe\">\n",
       "  <thead>\n",
       "    <tr style=\"text-align: right;\">\n",
       "      <th></th>\n",
       "      <th>Outlet_Size</th>\n",
       "      <th>Outlet_Type</th>\n",
       "      <th>Outlet_Identifier</th>\n",
       "    </tr>\n",
       "  </thead>\n",
       "  <tbody>\n",
       "    <tr>\n",
       "      <th>0</th>\n",
       "      <td>Medium</td>\n",
       "      <td>Supermarket Type1</td>\n",
       "      <td>OUT049</td>\n",
       "    </tr>\n",
       "    <tr>\n",
       "      <th>1</th>\n",
       "      <td>Medium</td>\n",
       "      <td>Supermarket Type2</td>\n",
       "      <td>OUT018</td>\n",
       "    </tr>\n",
       "    <tr>\n",
       "      <th>2</th>\n",
       "      <td>Medium</td>\n",
       "      <td>Supermarket Type1</td>\n",
       "      <td>OUT049</td>\n",
       "    </tr>\n",
       "    <tr>\n",
       "      <th>4</th>\n",
       "      <td>High</td>\n",
       "      <td>Supermarket Type1</td>\n",
       "      <td>OUT013</td>\n",
       "    </tr>\n",
       "    <tr>\n",
       "      <th>5</th>\n",
       "      <td>Medium</td>\n",
       "      <td>Supermarket Type2</td>\n",
       "      <td>OUT018</td>\n",
       "    </tr>\n",
       "    <tr>\n",
       "      <th>...</th>\n",
       "      <td>...</td>\n",
       "      <td>...</td>\n",
       "      <td>...</td>\n",
       "    </tr>\n",
       "    <tr>\n",
       "      <th>8517</th>\n",
       "      <td>Small</td>\n",
       "      <td>Supermarket Type1</td>\n",
       "      <td>OUT046</td>\n",
       "    </tr>\n",
       "    <tr>\n",
       "      <th>8518</th>\n",
       "      <td>High</td>\n",
       "      <td>Supermarket Type1</td>\n",
       "      <td>OUT013</td>\n",
       "    </tr>\n",
       "    <tr>\n",
       "      <th>8520</th>\n",
       "      <td>Small</td>\n",
       "      <td>Supermarket Type1</td>\n",
       "      <td>OUT035</td>\n",
       "    </tr>\n",
       "    <tr>\n",
       "      <th>8521</th>\n",
       "      <td>Medium</td>\n",
       "      <td>Supermarket Type2</td>\n",
       "      <td>OUT018</td>\n",
       "    </tr>\n",
       "    <tr>\n",
       "      <th>8522</th>\n",
       "      <td>Small</td>\n",
       "      <td>Supermarket Type1</td>\n",
       "      <td>OUT046</td>\n",
       "    </tr>\n",
       "  </tbody>\n",
       "</table>\n",
       "<p>6113 rows × 3 columns</p>\n",
       "</div>"
      ],
      "text/plain": [
       "     Outlet_Size        Outlet_Type Outlet_Identifier\n",
       "0         Medium  Supermarket Type1            OUT049\n",
       "1         Medium  Supermarket Type2            OUT018\n",
       "2         Medium  Supermarket Type1            OUT049\n",
       "4           High  Supermarket Type1            OUT013\n",
       "5         Medium  Supermarket Type2            OUT018\n",
       "...          ...                ...               ...\n",
       "8517       Small  Supermarket Type1            OUT046\n",
       "8518        High  Supermarket Type1            OUT013\n",
       "8520       Small  Supermarket Type1            OUT035\n",
       "8521      Medium  Supermarket Type2            OUT018\n",
       "8522       Small  Supermarket Type1            OUT046\n",
       "\n",
       "[6113 rows x 3 columns]"
      ]
     },
     "execution_count": 31,
     "metadata": {},
     "output_type": "execute_result"
    }
   ],
   "source": [
    "#Viewing the outlet size and outlet type columns where Outlet_Size is null\n",
    "train_df[['Outlet_Size', 'Outlet_Type', 'Outlet_Identifier']][pd.notnull(train_df['Outlet_Size'])]"
   ]
  },
  {
   "cell_type": "markdown",
   "metadata": {},
   "source": [
    "It looks like Outlet_Size can be obtained from Outlet_Identifier, especially since the Outlet_Identifier column does not have any null values."
   ]
  },
  {
   "cell_type": "code",
   "execution_count": 32,
   "metadata": {},
   "outputs": [
    {
     "data": {
      "text/plain": [
       "set()"
      ]
     },
     "execution_count": 32,
     "metadata": {},
     "output_type": "execute_result"
    }
   ],
   "source": [
    "#Checking the number of outlets that present in either the train or test set, but not both\n",
    "set(train_df['Outlet_Identifier'].unique()).symmetric_difference(set(test_df['Outlet_Identifier'].unique()))"
   ]
  },
  {
   "cell_type": "markdown",
   "metadata": {},
   "source": [
    "The same outlets are present in both train and test sets."
   ]
  },
  {
   "cell_type": "code",
   "execution_count": 33,
   "metadata": {},
   "outputs": [
    {
     "data": {
      "text/plain": [
       "10"
      ]
     },
     "execution_count": 33,
     "metadata": {},
     "output_type": "execute_result"
    }
   ],
   "source": [
    "#Creating a list of outlet identifiers\n",
    "\n",
    "outlet_identifiers_list = list(set(train_df['Outlet_Identifier']))\n",
    "len(outlet_identifiers_list)"
   ]
  },
  {
   "cell_type": "markdown",
   "metadata": {},
   "source": [
    "Let's create a mapping of outlet size to outlet identifier for the above outlets, and impute the missing values."
   ]
  },
  {
   "cell_type": "code",
   "execution_count": 34,
   "metadata": {},
   "outputs": [
    {
     "name": "stdout",
     "output_type": "stream",
     "text": [
      "There is no unique outlet size in the dataset for outlet OUT045\n",
      "There is no unique outlet size in the dataset for outlet OUT010\n",
      "There is no unique outlet size in the dataset for outlet OUT017\n"
     ]
    }
   ],
   "source": [
    "#Initializing dictionaries to store the outlet size for each outlet identifier\n",
    "size_identifier_mapping = dict()\n",
    "multiple_sizes_mapping = dict()\n",
    "\n",
    "#Looping through the list of outlets with missing values in the outlet size column\n",
    "for i in outlet_identifiers_list:\n",
    "    \n",
    "    #Getting all the outlet sizes for the current outlet identifier\n",
    "    size_series = train_df['Outlet_Size'][(pd.notnull(train_df['Outlet_Size'])) & (train_df['Outlet_Identifier']==i)]\n",
    "    \n",
    "    \n",
    "    #Checking if there is only one unique Outlet_Size for an outlet\n",
    "    if len(list(set(size_series)))==1:\n",
    "        \n",
    "        #Adding the outlet size to the dictionary for mapping\n",
    "        size_identifier_mapping[i] = list(set(size_series))[0]\n",
    "        \n",
    "        train_df['Outlet_Size'] = train_df.apply(lambda x: size_identifier_mapping[i] if ((x['Outlet_Identifier']==i) & \n",
    "                                                              (pd.isnull(x['Outlet_Size']))) else x['Outlet_Size'], axis=1)\n",
    "        \n",
    "        test_df['Outlet_Size'] = test_df.apply(lambda x: size_identifier_mapping[i] if ((x['Outlet_Identifier']==i) & \n",
    "                                                              (pd.isnull(x['Outlet_Size']))) else x['Outlet_Size'], axis=1)\n",
    "\n",
    "        \n",
    "    #If there is no single unique Outlet_Size in the train set      \n",
    "    else:\n",
    "        #Getting all the outlet sizes for the current outlet identifier from the test set\n",
    "        size_series = test_df['Outlet_Size'][(pd.notnull(test_df['Outlet_Size'])) & (test_df['Outlet_Identifier']==i)]\n",
    "        \n",
    "        #Checking for a single unique Outlet_Size\n",
    "        if len(list(set(size_series)))!=1:\n",
    "            \n",
    "            #Adding outlet identifier to dictionary\n",
    "            multiple_sizes_mapping[i] = list(set(size_series))\n",
    "            print(\"There is no unique outlet size in the dataset for outlet {}\".format(i))\n",
    "        \n",
    "        else:\n",
    "            size_identifier_mapping[i] = list(set(size_series))[0]\n",
    "            print(\"Outlet size found in test size for {}; not imputed\".format(i))\n",
    "    "
   ]
  },
  {
   "cell_type": "code",
   "execution_count": 35,
   "metadata": {},
   "outputs": [
    {
     "data": {
      "text/plain": [
       "['OUT045', 'OUT010', 'OUT017']"
      ]
     },
     "execution_count": 35,
     "metadata": {},
     "output_type": "execute_result"
    }
   ],
   "source": [
    "#Putting these outlet identifiers in a list\n",
    "missing_sizes = list(multiple_sizes_mapping.keys())\n",
    "missing_sizes"
   ]
  },
  {
   "cell_type": "code",
   "execution_count": 36,
   "metadata": {
    "scrolled": true
   },
   "outputs": [
    {
     "name": "stdout",
     "output_type": "stream",
     "text": [
      "Oulet ID:  OUT045\n",
      "\n",
      "\n",
      "Train set\n",
      "Empty DataFrame\n",
      "Columns: [Item_Identifier, Item_Weight, Item_Fat_Content, Item_Visibility, Item_Type, Item_MRP, Outlet_Identifier, Outlet_Establishment_Year, Outlet_Size, Outlet_Location_Type, Outlet_Type, Item_Outlet_Sales]\n",
      "Index: []\n",
      "\n",
      "\n",
      "Test set\n",
      "Empty DataFrame\n",
      "Columns: [Item_Identifier, Item_Weight, Item_Fat_Content, Item_Visibility, Item_Type, Item_MRP, Outlet_Identifier, Outlet_Establishment_Year, Outlet_Size, Outlet_Location_Type, Outlet_Type]\n",
      "Index: []\n",
      "\n",
      "\n",
      "\n",
      "Oulet ID:  OUT010\n",
      "\n",
      "\n",
      "Train set\n",
      "Empty DataFrame\n",
      "Columns: [Item_Identifier, Item_Weight, Item_Fat_Content, Item_Visibility, Item_Type, Item_MRP, Outlet_Identifier, Outlet_Establishment_Year, Outlet_Size, Outlet_Location_Type, Outlet_Type, Item_Outlet_Sales]\n",
      "Index: []\n",
      "\n",
      "\n",
      "Test set\n",
      "Empty DataFrame\n",
      "Columns: [Item_Identifier, Item_Weight, Item_Fat_Content, Item_Visibility, Item_Type, Item_MRP, Outlet_Identifier, Outlet_Establishment_Year, Outlet_Size, Outlet_Location_Type, Outlet_Type]\n",
      "Index: []\n",
      "\n",
      "\n",
      "\n",
      "Oulet ID:  OUT017\n",
      "\n",
      "\n",
      "Train set\n",
      "Empty DataFrame\n",
      "Columns: [Item_Identifier, Item_Weight, Item_Fat_Content, Item_Visibility, Item_Type, Item_MRP, Outlet_Identifier, Outlet_Establishment_Year, Outlet_Size, Outlet_Location_Type, Outlet_Type, Item_Outlet_Sales]\n",
      "Index: []\n",
      "\n",
      "\n",
      "Test set\n",
      "Empty DataFrame\n",
      "Columns: [Item_Identifier, Item_Weight, Item_Fat_Content, Item_Visibility, Item_Type, Item_MRP, Outlet_Identifier, Outlet_Establishment_Year, Outlet_Size, Outlet_Location_Type, Outlet_Type]\n",
      "Index: []\n",
      "\n",
      "\n",
      "\n"
     ]
    }
   ],
   "source": [
    "#Checking if there are multiple outlet sizes for these outlets\n",
    "for m in missing_sizes:\n",
    "    print(\"Oulet ID: \", m)\n",
    "    print(\"\\n\")\n",
    "    print(\"Train set\")\n",
    "    print(train_df[(train_df['Outlet_Identifier']==m) & (pd.notnull(train_df['Outlet_Size']))])\n",
    "    print(\"\\n\")\n",
    "    print(\"Test set\")\n",
    "    print(test_df[(test_df['Outlet_Identifier']==m) & (pd.notnull(test_df['Outlet_Size']))])\n",
    "    print(\"\\n\\n\")"
   ]
  },
  {
   "cell_type": "markdown",
   "metadata": {},
   "source": [
    "The outlet size is not available for these outlets in both the train and test sets. Therefore, let's impute the mode outlet size for each outlet type."
   ]
  },
  {
   "cell_type": "code",
   "execution_count": 37,
   "metadata": {},
   "outputs": [],
   "source": [
    "#Grouping by outlet type\n",
    "grouped_df = train_df[['Outlet_Type', 'Outlet_Size']].groupby('Outlet_Type')"
   ]
  },
  {
   "cell_type": "code",
   "execution_count": 38,
   "metadata": {},
   "outputs": [
    {
     "name": "stdout",
     "output_type": "stream",
     "text": [
      "Key:  Grocery Store\n",
      "     Outlet_Type Outlet_Size\n",
      "0  Grocery Store       Small \n",
      "\n",
      "\n",
      "Key:  Supermarket Type1\n",
      "         Outlet_Type Outlet_Size\n",
      "0  Supermarket Type1       Small \n",
      "\n",
      "\n",
      "Key:  Supermarket Type2\n",
      "         Outlet_Type Outlet_Size\n",
      "0  Supermarket Type2      Medium \n",
      "\n",
      "\n",
      "Key:  Supermarket Type3\n",
      "         Outlet_Type Outlet_Size\n",
      "0  Supermarket Type3      Medium \n",
      "\n",
      "\n"
     ]
    }
   ],
   "source": [
    "#Checking the outlet size mode for each outlet type\n",
    "for key, item in grouped_df:\n",
    "    print(\"Key: \", key)\n",
    "    print(grouped_df.get_group(key).mode(), \"\\n\\n\")"
   ]
  },
  {
   "cell_type": "code",
   "execution_count": 39,
   "metadata": {},
   "outputs": [
    {
     "name": "stdout",
     "output_type": "stream",
     "text": [
      "Train set\n",
      "\n",
      "Medium    2793\n",
      "Small     2388\n",
      "High       932\n",
      "Name: Outlet_Size, dtype: int64 \n",
      "\n",
      "Number of null values in train set:  2410\n",
      "\n",
      "\n",
      "Test set\n",
      "\n",
      "Medium    1862\n",
      "Small     1592\n",
      "High       621\n",
      "Name: Outlet_Size, dtype: int64 \n",
      "\n",
      "Number of null values in test set:  1606\n"
     ]
    }
   ],
   "source": [
    "#Checking the number of medium, small, high, and null values in the outlet size column (in both train and test sets)\n",
    "print(\"Train set\\n\" )\n",
    "print(train_df['Outlet_Size'].value_counts(), \"\\n\")\n",
    "print(\"Number of null values in train set: \", len(train_df[train_df['Outlet_Size'].isnull()]))\n",
    "print(\"\\n\\nTest set\\n\" )\n",
    "print(test_df['Outlet_Size'].value_counts(), \"\\n\")\n",
    "print(\"Number of null values in test set: \", len(test_df[test_df['Outlet_Size'].isnull()]))"
   ]
  },
  {
   "cell_type": "markdown",
   "metadata": {},
   "source": [
    "Since small and medium outlet sizes are the modes for some outlet types, and high outlet size is not the mode for any outlet type, the value counts should increase only for these two outlet types (after imputation)."
   ]
  },
  {
   "cell_type": "code",
   "execution_count": 40,
   "metadata": {},
   "outputs": [
    {
     "data": {
      "text/plain": [
       "['Supermarket Type1',\n",
       " 'Supermarket Type2',\n",
       " 'Grocery Store',\n",
       " 'Supermarket Type3']"
      ]
     },
     "execution_count": 40,
     "metadata": {},
     "output_type": "execute_result"
    }
   ],
   "source": [
    "#Creating a list of outlet types\n",
    "outlet_type_list = list(train_df['Outlet_Type'].unique())\n",
    "outlet_type_list"
   ]
  },
  {
   "cell_type": "code",
   "execution_count": 41,
   "metadata": {},
   "outputs": [],
   "source": [
    "#Looping through the list of outlet types to impute the mode outlet size for that type\n",
    "for i in outlet_type_list:\n",
    "    \n",
    "    #Outlet types where the mode outlet size is 'Small'\n",
    "    if ((i == 'Grocery Store') | (i == 'Supermarket Type1')):\n",
    "        train_df.loc[(train_df['Outlet_Type']==i) & (pd.isnull(train_df['Outlet_Size'])), 'Outlet_Size'] = 'Small'\n",
    "        test_df.loc[(test_df['Outlet_Type']==i) & (pd.isnull(test_df['Outlet_Size'])), 'Outlet_Size'] = 'Small'\n",
    "    \n",
    "    #Outlet types where the mode outlet size is 'Medium'\n",
    "    else:\n",
    "        train_df.loc[(train_df['Outlet_Type']==i) & (pd.isnull(train_df['Outlet_Size'])), 'Outlet_Size'] = 'Medium'\n",
    "        test_df.loc[(test_df['Outlet_Type']==i) & (pd.isnull(test_df['Outlet_Size'])), 'Outlet_Size'] = 'Medium'\n"
   ]
  },
  {
   "cell_type": "code",
   "execution_count": 42,
   "metadata": {},
   "outputs": [
    {
     "name": "stdout",
     "output_type": "stream",
     "text": [
      "Train set\n",
      "\n",
      "Small     4798\n",
      "Medium    2793\n",
      "High       932\n",
      "Name: Outlet_Size, dtype: int64 \n",
      "\n",
      "Number of null values in train set:  0\n",
      "\n",
      "\n",
      "Test set\n",
      "\n",
      "Small     3198\n",
      "Medium    1862\n",
      "High       621\n",
      "Name: Outlet_Size, dtype: int64 \n",
      "\n",
      "Number of null values in test set:  0\n"
     ]
    }
   ],
   "source": [
    "#Checking the same numbers after imputation\n",
    "print(\"Train set\\n\" )\n",
    "print(train_df['Outlet_Size'].value_counts(), \"\\n\")\n",
    "print(\"Number of null values in train set: \", len(train_df[train_df['Outlet_Size'].isnull()]))\n",
    "print(\"\\n\\nTest set\\n\" )\n",
    "print(test_df['Outlet_Size'].value_counts(), \"\\n\")\n",
    "print(\"Number of null values in test set: \", len(test_df[test_df['Outlet_Size'].isnull()]))"
   ]
  },
  {
   "cell_type": "markdown",
   "metadata": {},
   "source": [
    "As expected, only the small and medium value counts have gone up."
   ]
  },
  {
   "cell_type": "code",
   "execution_count": 43,
   "metadata": {},
   "outputs": [
    {
     "name": "stdout",
     "output_type": "stream",
     "text": [
      "Item_Identifier              0\n",
      "Item_Weight                  0\n",
      "Item_Fat_Content             0\n",
      "Item_Visibility              0\n",
      "Item_Type                    0\n",
      "Item_MRP                     0\n",
      "Outlet_Identifier            0\n",
      "Outlet_Establishment_Year    0\n",
      "Outlet_Size                  0\n",
      "Outlet_Location_Type         0\n",
      "Outlet_Type                  0\n",
      "Item_Outlet_Sales            0\n",
      "dtype: int64 \n",
      "\n",
      "\n",
      "Item_Identifier              0\n",
      "Item_Weight                  0\n",
      "Item_Fat_Content             0\n",
      "Item_Visibility              0\n",
      "Item_Type                    0\n",
      "Item_MRP                     0\n",
      "Outlet_Identifier            0\n",
      "Outlet_Establishment_Year    0\n",
      "Outlet_Size                  0\n",
      "Outlet_Location_Type         0\n",
      "Outlet_Type                  0\n",
      "dtype: int64\n"
     ]
    }
   ],
   "source": [
    "#Checking if there are any null values\n",
    "print(train_df.isnull().sum(), \"\\n\\n\")\n",
    "print(test_df.isnull().sum())"
   ]
  },
  {
   "cell_type": "markdown",
   "metadata": {},
   "source": [
    "#### Deleting the existing variables that are not necessary"
   ]
  },
  {
   "cell_type": "code",
   "execution_count": 44,
   "metadata": {},
   "outputs": [
    {
     "name": "stdout",
     "output_type": "stream",
     "text": [
      "CatBoostRegressor\t DecisionTreeRegressor\t FeatureHasher\t GridSearchCV\t KFold\t LGBMRegressor\t LinearRegression\t OneHotEncoder\t RandomForestRegressor\t \n",
      "StandardScaler\t StratifiedKFold\t XGBRegressor\t bool_ItemWeight\t cb\t cross_val_score\t gc\t grouped_df\t i\t \n",
      "item\t item_groupby\t item_id_weight_dict\t items_in_test\t key\t leftover_item_identifiers\t lgb\t m\t mean_squared_error\t \n",
      "missing_sizes\t mode\t multiple_sizes_mapping\t np\t outlet_identifiers_list\t outlet_type_list\t pd\t plt\t r2_score\t \n",
      "re\t size_identifier_mapping\t size_series\t sns\t test_df\t time\t train_df\t train_test_split\t warnings\t \n",
      "weight\t \n"
     ]
    }
   ],
   "source": [
    "%who"
   ]
  },
  {
   "cell_type": "code",
   "execution_count": 45,
   "metadata": {},
   "outputs": [],
   "source": [
    "del (bool_ItemWeight, item, item_groupby, item_id_weight_dict, items_in_test, \n",
    "     leftover_item_identifiers, multiple_sizes_mapping, outlet_identifiers_list, outlet_type_list, \n",
    "     size_identifier_mapping, size_series)"
   ]
  },
  {
   "cell_type": "code",
   "execution_count": 46,
   "metadata": {},
   "outputs": [
    {
     "data": {
      "text/plain": [
       "100"
      ]
     },
     "execution_count": 46,
     "metadata": {},
     "output_type": "execute_result"
    }
   ],
   "source": [
    "#Triggering garbage collection\n",
    "\n",
    "gc.collect()"
   ]
  },
  {
   "cell_type": "code",
   "execution_count": 47,
   "metadata": {},
   "outputs": [],
   "source": [
    "#Creating a backup of the train and test sets\n",
    "train_df_backup = train_df.copy()\n",
    "test_df_backup = test_df.copy()"
   ]
  },
  {
   "cell_type": "markdown",
   "metadata": {},
   "source": [
    "## Data Exploration and Visualization"
   ]
  },
  {
   "cell_type": "code",
   "execution_count": 49,
   "metadata": {},
   "outputs": [
    {
     "data": {
      "text/html": [
       "<div>\n",
       "<style scoped>\n",
       "    .dataframe tbody tr th:only-of-type {\n",
       "        vertical-align: middle;\n",
       "    }\n",
       "\n",
       "    .dataframe tbody tr th {\n",
       "        vertical-align: top;\n",
       "    }\n",
       "\n",
       "    .dataframe thead th {\n",
       "        text-align: right;\n",
       "    }\n",
       "</style>\n",
       "<table border=\"1\" class=\"dataframe\">\n",
       "  <thead>\n",
       "    <tr style=\"text-align: right;\">\n",
       "      <th></th>\n",
       "      <th>Item_Identifier</th>\n",
       "      <th>Item_Weight</th>\n",
       "      <th>Item_Fat_Content</th>\n",
       "      <th>Item_Visibility</th>\n",
       "      <th>Item_Type</th>\n",
       "      <th>Item_MRP</th>\n",
       "      <th>Outlet_Identifier</th>\n",
       "      <th>Outlet_Establishment_Year</th>\n",
       "      <th>Outlet_Size</th>\n",
       "      <th>Outlet_Location_Type</th>\n",
       "      <th>Outlet_Type</th>\n",
       "      <th>Item_Outlet_Sales</th>\n",
       "    </tr>\n",
       "  </thead>\n",
       "  <tbody>\n",
       "    <tr>\n",
       "      <th>0</th>\n",
       "      <td>FDA15</td>\n",
       "      <td>9.30</td>\n",
       "      <td>Low Fat</td>\n",
       "      <td>0.016047</td>\n",
       "      <td>Dairy</td>\n",
       "      <td>249.8092</td>\n",
       "      <td>OUT049</td>\n",
       "      <td>1999</td>\n",
       "      <td>Medium</td>\n",
       "      <td>Tier 1</td>\n",
       "      <td>Supermarket Type1</td>\n",
       "      <td>3735.1380</td>\n",
       "    </tr>\n",
       "    <tr>\n",
       "      <th>1</th>\n",
       "      <td>DRC01</td>\n",
       "      <td>5.92</td>\n",
       "      <td>Regular</td>\n",
       "      <td>0.019278</td>\n",
       "      <td>Soft Drinks</td>\n",
       "      <td>48.2692</td>\n",
       "      <td>OUT018</td>\n",
       "      <td>2009</td>\n",
       "      <td>Medium</td>\n",
       "      <td>Tier 3</td>\n",
       "      <td>Supermarket Type2</td>\n",
       "      <td>443.4228</td>\n",
       "    </tr>\n",
       "    <tr>\n",
       "      <th>2</th>\n",
       "      <td>FDN15</td>\n",
       "      <td>17.50</td>\n",
       "      <td>Low Fat</td>\n",
       "      <td>0.016760</td>\n",
       "      <td>Meat</td>\n",
       "      <td>141.6180</td>\n",
       "      <td>OUT049</td>\n",
       "      <td>1999</td>\n",
       "      <td>Medium</td>\n",
       "      <td>Tier 1</td>\n",
       "      <td>Supermarket Type1</td>\n",
       "      <td>2097.2700</td>\n",
       "    </tr>\n",
       "    <tr>\n",
       "      <th>3</th>\n",
       "      <td>FDX07</td>\n",
       "      <td>19.20</td>\n",
       "      <td>Regular</td>\n",
       "      <td>0.000000</td>\n",
       "      <td>Fruits and Vegetables</td>\n",
       "      <td>182.0950</td>\n",
       "      <td>OUT010</td>\n",
       "      <td>1998</td>\n",
       "      <td>Small</td>\n",
       "      <td>Tier 3</td>\n",
       "      <td>Grocery Store</td>\n",
       "      <td>732.3800</td>\n",
       "    </tr>\n",
       "    <tr>\n",
       "      <th>4</th>\n",
       "      <td>NCD19</td>\n",
       "      <td>8.93</td>\n",
       "      <td>Low Fat</td>\n",
       "      <td>0.000000</td>\n",
       "      <td>Household</td>\n",
       "      <td>53.8614</td>\n",
       "      <td>OUT013</td>\n",
       "      <td>1987</td>\n",
       "      <td>High</td>\n",
       "      <td>Tier 3</td>\n",
       "      <td>Supermarket Type1</td>\n",
       "      <td>994.7052</td>\n",
       "    </tr>\n",
       "  </tbody>\n",
       "</table>\n",
       "</div>"
      ],
      "text/plain": [
       "  Item_Identifier  Item_Weight Item_Fat_Content  Item_Visibility  \\\n",
       "0           FDA15         9.30          Low Fat         0.016047   \n",
       "1           DRC01         5.92          Regular         0.019278   \n",
       "2           FDN15        17.50          Low Fat         0.016760   \n",
       "3           FDX07        19.20          Regular         0.000000   \n",
       "4           NCD19         8.93          Low Fat         0.000000   \n",
       "\n",
       "               Item_Type  Item_MRP Outlet_Identifier  \\\n",
       "0                  Dairy  249.8092            OUT049   \n",
       "1            Soft Drinks   48.2692            OUT018   \n",
       "2                   Meat  141.6180            OUT049   \n",
       "3  Fruits and Vegetables  182.0950            OUT010   \n",
       "4              Household   53.8614            OUT013   \n",
       "\n",
       "   Outlet_Establishment_Year Outlet_Size Outlet_Location_Type  \\\n",
       "0                       1999      Medium               Tier 1   \n",
       "1                       2009      Medium               Tier 3   \n",
       "2                       1999      Medium               Tier 1   \n",
       "3                       1998       Small               Tier 3   \n",
       "4                       1987        High               Tier 3   \n",
       "\n",
       "         Outlet_Type  Item_Outlet_Sales  \n",
       "0  Supermarket Type1          3735.1380  \n",
       "1  Supermarket Type2           443.4228  \n",
       "2  Supermarket Type1          2097.2700  \n",
       "3      Grocery Store           732.3800  \n",
       "4  Supermarket Type1           994.7052  "
      ]
     },
     "execution_count": 49,
     "metadata": {},
     "output_type": "execute_result"
    }
   ],
   "source": [
    "train_df.head()"
   ]
  },
  {
   "cell_type": "markdown",
   "metadata": {},
   "source": [
    "I'll go through the categorical columns first."
   ]
  },
  {
   "cell_type": "markdown",
   "metadata": {},
   "source": [
    "#### Item_Identifier"
   ]
  },
  {
   "cell_type": "code",
   "execution_count": 50,
   "metadata": {},
   "outputs": [
    {
     "data": {
      "text/plain": [
       "1559"
      ]
     },
     "execution_count": 50,
     "metadata": {},
     "output_type": "execute_result"
    }
   ],
   "source": [
    "#Checking the number of categories in the item identifier column\n",
    "len(train_df['Item_Identifier'].unique())"
   ]
  },
  {
   "cell_type": "markdown",
   "metadata": {},
   "source": [
    "This is far too many categories. Let's check if there is a higher category level that we can use to reduce the number of categories."
   ]
  },
  {
   "cell_type": "code",
   "execution_count": 51,
   "metadata": {},
   "outputs": [
    {
     "data": {
      "text/html": [
       "<div>\n",
       "<style scoped>\n",
       "    .dataframe tbody tr th:only-of-type {\n",
       "        vertical-align: middle;\n",
       "    }\n",
       "\n",
       "    .dataframe tbody tr th {\n",
       "        vertical-align: top;\n",
       "    }\n",
       "\n",
       "    .dataframe thead th {\n",
       "        text-align: right;\n",
       "    }\n",
       "</style>\n",
       "<table border=\"1\" class=\"dataframe\">\n",
       "  <thead>\n",
       "    <tr style=\"text-align: right;\">\n",
       "      <th></th>\n",
       "      <th>Item_Identifier</th>\n",
       "      <th>Item_Weight</th>\n",
       "      <th>Item_Fat_Content</th>\n",
       "      <th>Item_Visibility</th>\n",
       "      <th>Item_Type</th>\n",
       "      <th>Item_MRP</th>\n",
       "      <th>Outlet_Identifier</th>\n",
       "      <th>Outlet_Establishment_Year</th>\n",
       "      <th>Outlet_Size</th>\n",
       "      <th>Outlet_Location_Type</th>\n",
       "      <th>Outlet_Type</th>\n",
       "      <th>Item_Outlet_Sales</th>\n",
       "    </tr>\n",
       "  </thead>\n",
       "  <tbody>\n",
       "    <tr>\n",
       "      <th>0</th>\n",
       "      <td>FDA15</td>\n",
       "      <td>9.300</td>\n",
       "      <td>Low Fat</td>\n",
       "      <td>0.016047</td>\n",
       "      <td>Dairy</td>\n",
       "      <td>249.8092</td>\n",
       "      <td>OUT049</td>\n",
       "      <td>1999</td>\n",
       "      <td>Medium</td>\n",
       "      <td>Tier 1</td>\n",
       "      <td>Supermarket Type1</td>\n",
       "      <td>3735.1380</td>\n",
       "    </tr>\n",
       "    <tr>\n",
       "      <th>1</th>\n",
       "      <td>DRC01</td>\n",
       "      <td>5.920</td>\n",
       "      <td>Regular</td>\n",
       "      <td>0.019278</td>\n",
       "      <td>Soft Drinks</td>\n",
       "      <td>48.2692</td>\n",
       "      <td>OUT018</td>\n",
       "      <td>2009</td>\n",
       "      <td>Medium</td>\n",
       "      <td>Tier 3</td>\n",
       "      <td>Supermarket Type2</td>\n",
       "      <td>443.4228</td>\n",
       "    </tr>\n",
       "    <tr>\n",
       "      <th>2</th>\n",
       "      <td>FDN15</td>\n",
       "      <td>17.500</td>\n",
       "      <td>Low Fat</td>\n",
       "      <td>0.016760</td>\n",
       "      <td>Meat</td>\n",
       "      <td>141.6180</td>\n",
       "      <td>OUT049</td>\n",
       "      <td>1999</td>\n",
       "      <td>Medium</td>\n",
       "      <td>Tier 1</td>\n",
       "      <td>Supermarket Type1</td>\n",
       "      <td>2097.2700</td>\n",
       "    </tr>\n",
       "    <tr>\n",
       "      <th>3</th>\n",
       "      <td>FDX07</td>\n",
       "      <td>19.200</td>\n",
       "      <td>Regular</td>\n",
       "      <td>0.000000</td>\n",
       "      <td>Fruits and Vegetables</td>\n",
       "      <td>182.0950</td>\n",
       "      <td>OUT010</td>\n",
       "      <td>1998</td>\n",
       "      <td>Small</td>\n",
       "      <td>Tier 3</td>\n",
       "      <td>Grocery Store</td>\n",
       "      <td>732.3800</td>\n",
       "    </tr>\n",
       "    <tr>\n",
       "      <th>4</th>\n",
       "      <td>NCD19</td>\n",
       "      <td>8.930</td>\n",
       "      <td>Low Fat</td>\n",
       "      <td>0.000000</td>\n",
       "      <td>Household</td>\n",
       "      <td>53.8614</td>\n",
       "      <td>OUT013</td>\n",
       "      <td>1987</td>\n",
       "      <td>High</td>\n",
       "      <td>Tier 3</td>\n",
       "      <td>Supermarket Type1</td>\n",
       "      <td>994.7052</td>\n",
       "    </tr>\n",
       "    <tr>\n",
       "      <th>5</th>\n",
       "      <td>FDP36</td>\n",
       "      <td>10.395</td>\n",
       "      <td>Regular</td>\n",
       "      <td>0.000000</td>\n",
       "      <td>Baking Goods</td>\n",
       "      <td>51.4008</td>\n",
       "      <td>OUT018</td>\n",
       "      <td>2009</td>\n",
       "      <td>Medium</td>\n",
       "      <td>Tier 3</td>\n",
       "      <td>Supermarket Type2</td>\n",
       "      <td>556.6088</td>\n",
       "    </tr>\n",
       "    <tr>\n",
       "      <th>6</th>\n",
       "      <td>FDO10</td>\n",
       "      <td>13.650</td>\n",
       "      <td>Regular</td>\n",
       "      <td>0.012741</td>\n",
       "      <td>Snack Foods</td>\n",
       "      <td>57.6588</td>\n",
       "      <td>OUT013</td>\n",
       "      <td>1987</td>\n",
       "      <td>High</td>\n",
       "      <td>Tier 3</td>\n",
       "      <td>Supermarket Type1</td>\n",
       "      <td>343.5528</td>\n",
       "    </tr>\n",
       "    <tr>\n",
       "      <th>7</th>\n",
       "      <td>FDP10</td>\n",
       "      <td>19.000</td>\n",
       "      <td>Low Fat</td>\n",
       "      <td>0.127470</td>\n",
       "      <td>Snack Foods</td>\n",
       "      <td>107.7622</td>\n",
       "      <td>OUT027</td>\n",
       "      <td>1985</td>\n",
       "      <td>Medium</td>\n",
       "      <td>Tier 3</td>\n",
       "      <td>Supermarket Type3</td>\n",
       "      <td>4022.7636</td>\n",
       "    </tr>\n",
       "    <tr>\n",
       "      <th>8</th>\n",
       "      <td>FDH17</td>\n",
       "      <td>16.200</td>\n",
       "      <td>Regular</td>\n",
       "      <td>0.016687</td>\n",
       "      <td>Frozen Foods</td>\n",
       "      <td>96.9726</td>\n",
       "      <td>OUT045</td>\n",
       "      <td>2002</td>\n",
       "      <td>Small</td>\n",
       "      <td>Tier 2</td>\n",
       "      <td>Supermarket Type1</td>\n",
       "      <td>1076.5986</td>\n",
       "    </tr>\n",
       "    <tr>\n",
       "      <th>9</th>\n",
       "      <td>FDU28</td>\n",
       "      <td>19.200</td>\n",
       "      <td>Regular</td>\n",
       "      <td>0.094450</td>\n",
       "      <td>Frozen Foods</td>\n",
       "      <td>187.8214</td>\n",
       "      <td>OUT017</td>\n",
       "      <td>2007</td>\n",
       "      <td>Small</td>\n",
       "      <td>Tier 2</td>\n",
       "      <td>Supermarket Type1</td>\n",
       "      <td>4710.5350</td>\n",
       "    </tr>\n",
       "    <tr>\n",
       "      <th>10</th>\n",
       "      <td>FDY07</td>\n",
       "      <td>11.800</td>\n",
       "      <td>Low Fat</td>\n",
       "      <td>0.000000</td>\n",
       "      <td>Fruits and Vegetables</td>\n",
       "      <td>45.5402</td>\n",
       "      <td>OUT049</td>\n",
       "      <td>1999</td>\n",
       "      <td>Medium</td>\n",
       "      <td>Tier 1</td>\n",
       "      <td>Supermarket Type1</td>\n",
       "      <td>1516.0266</td>\n",
       "    </tr>\n",
       "    <tr>\n",
       "      <th>11</th>\n",
       "      <td>FDA03</td>\n",
       "      <td>18.500</td>\n",
       "      <td>Regular</td>\n",
       "      <td>0.045464</td>\n",
       "      <td>Dairy</td>\n",
       "      <td>144.1102</td>\n",
       "      <td>OUT046</td>\n",
       "      <td>1997</td>\n",
       "      <td>Small</td>\n",
       "      <td>Tier 1</td>\n",
       "      <td>Supermarket Type1</td>\n",
       "      <td>2187.1530</td>\n",
       "    </tr>\n",
       "    <tr>\n",
       "      <th>12</th>\n",
       "      <td>FDX32</td>\n",
       "      <td>15.100</td>\n",
       "      <td>Regular</td>\n",
       "      <td>0.100014</td>\n",
       "      <td>Fruits and Vegetables</td>\n",
       "      <td>145.4786</td>\n",
       "      <td>OUT049</td>\n",
       "      <td>1999</td>\n",
       "      <td>Medium</td>\n",
       "      <td>Tier 1</td>\n",
       "      <td>Supermarket Type1</td>\n",
       "      <td>1589.2646</td>\n",
       "    </tr>\n",
       "    <tr>\n",
       "      <th>13</th>\n",
       "      <td>FDS46</td>\n",
       "      <td>17.600</td>\n",
       "      <td>Regular</td>\n",
       "      <td>0.047257</td>\n",
       "      <td>Snack Foods</td>\n",
       "      <td>119.6782</td>\n",
       "      <td>OUT046</td>\n",
       "      <td>1997</td>\n",
       "      <td>Small</td>\n",
       "      <td>Tier 1</td>\n",
       "      <td>Supermarket Type1</td>\n",
       "      <td>2145.2076</td>\n",
       "    </tr>\n",
       "    <tr>\n",
       "      <th>14</th>\n",
       "      <td>FDF32</td>\n",
       "      <td>16.350</td>\n",
       "      <td>Low Fat</td>\n",
       "      <td>0.068024</td>\n",
       "      <td>Fruits and Vegetables</td>\n",
       "      <td>196.4426</td>\n",
       "      <td>OUT013</td>\n",
       "      <td>1987</td>\n",
       "      <td>High</td>\n",
       "      <td>Tier 3</td>\n",
       "      <td>Supermarket Type1</td>\n",
       "      <td>1977.4260</td>\n",
       "    </tr>\n",
       "    <tr>\n",
       "      <th>15</th>\n",
       "      <td>FDP49</td>\n",
       "      <td>9.000</td>\n",
       "      <td>Regular</td>\n",
       "      <td>0.069089</td>\n",
       "      <td>Breakfast</td>\n",
       "      <td>56.3614</td>\n",
       "      <td>OUT046</td>\n",
       "      <td>1997</td>\n",
       "      <td>Small</td>\n",
       "      <td>Tier 1</td>\n",
       "      <td>Supermarket Type1</td>\n",
       "      <td>1547.3192</td>\n",
       "    </tr>\n",
       "    <tr>\n",
       "      <th>16</th>\n",
       "      <td>NCB42</td>\n",
       "      <td>11.800</td>\n",
       "      <td>Low Fat</td>\n",
       "      <td>0.008596</td>\n",
       "      <td>Health and Hygiene</td>\n",
       "      <td>115.3492</td>\n",
       "      <td>OUT018</td>\n",
       "      <td>2009</td>\n",
       "      <td>Medium</td>\n",
       "      <td>Tier 3</td>\n",
       "      <td>Supermarket Type2</td>\n",
       "      <td>1621.8888</td>\n",
       "    </tr>\n",
       "    <tr>\n",
       "      <th>17</th>\n",
       "      <td>FDP49</td>\n",
       "      <td>9.000</td>\n",
       "      <td>Regular</td>\n",
       "      <td>0.069196</td>\n",
       "      <td>Breakfast</td>\n",
       "      <td>54.3614</td>\n",
       "      <td>OUT049</td>\n",
       "      <td>1999</td>\n",
       "      <td>Medium</td>\n",
       "      <td>Tier 1</td>\n",
       "      <td>Supermarket Type1</td>\n",
       "      <td>718.3982</td>\n",
       "    </tr>\n",
       "    <tr>\n",
       "      <th>18</th>\n",
       "      <td>DRI11</td>\n",
       "      <td>8.260</td>\n",
       "      <td>Low Fat</td>\n",
       "      <td>0.034238</td>\n",
       "      <td>Hard Drinks</td>\n",
       "      <td>113.2834</td>\n",
       "      <td>OUT027</td>\n",
       "      <td>1985</td>\n",
       "      <td>Medium</td>\n",
       "      <td>Tier 3</td>\n",
       "      <td>Supermarket Type3</td>\n",
       "      <td>2303.6680</td>\n",
       "    </tr>\n",
       "    <tr>\n",
       "      <th>19</th>\n",
       "      <td>FDU02</td>\n",
       "      <td>13.350</td>\n",
       "      <td>Low Fat</td>\n",
       "      <td>0.102492</td>\n",
       "      <td>Dairy</td>\n",
       "      <td>230.5352</td>\n",
       "      <td>OUT035</td>\n",
       "      <td>2004</td>\n",
       "      <td>Small</td>\n",
       "      <td>Tier 2</td>\n",
       "      <td>Supermarket Type1</td>\n",
       "      <td>2748.4224</td>\n",
       "    </tr>\n",
       "    <tr>\n",
       "      <th>20</th>\n",
       "      <td>FDN22</td>\n",
       "      <td>18.850</td>\n",
       "      <td>Regular</td>\n",
       "      <td>0.138190</td>\n",
       "      <td>Snack Foods</td>\n",
       "      <td>250.8724</td>\n",
       "      <td>OUT013</td>\n",
       "      <td>1987</td>\n",
       "      <td>High</td>\n",
       "      <td>Tier 3</td>\n",
       "      <td>Supermarket Type1</td>\n",
       "      <td>3775.0860</td>\n",
       "    </tr>\n",
       "    <tr>\n",
       "      <th>21</th>\n",
       "      <td>FDW12</td>\n",
       "      <td>8.315</td>\n",
       "      <td>Regular</td>\n",
       "      <td>0.035400</td>\n",
       "      <td>Baking Goods</td>\n",
       "      <td>144.5444</td>\n",
       "      <td>OUT027</td>\n",
       "      <td>1985</td>\n",
       "      <td>Medium</td>\n",
       "      <td>Tier 3</td>\n",
       "      <td>Supermarket Type3</td>\n",
       "      <td>4064.0432</td>\n",
       "    </tr>\n",
       "    <tr>\n",
       "      <th>22</th>\n",
       "      <td>NCB30</td>\n",
       "      <td>14.600</td>\n",
       "      <td>Low Fat</td>\n",
       "      <td>0.025698</td>\n",
       "      <td>Household</td>\n",
       "      <td>196.5084</td>\n",
       "      <td>OUT035</td>\n",
       "      <td>2004</td>\n",
       "      <td>Small</td>\n",
       "      <td>Tier 2</td>\n",
       "      <td>Supermarket Type1</td>\n",
       "      <td>1587.2672</td>\n",
       "    </tr>\n",
       "    <tr>\n",
       "      <th>23</th>\n",
       "      <td>FDC37</td>\n",
       "      <td>15.500</td>\n",
       "      <td>Low Fat</td>\n",
       "      <td>0.057557</td>\n",
       "      <td>Baking Goods</td>\n",
       "      <td>107.6938</td>\n",
       "      <td>OUT019</td>\n",
       "      <td>1985</td>\n",
       "      <td>Small</td>\n",
       "      <td>Tier 1</td>\n",
       "      <td>Grocery Store</td>\n",
       "      <td>214.3876</td>\n",
       "    </tr>\n",
       "    <tr>\n",
       "      <th>24</th>\n",
       "      <td>FDR28</td>\n",
       "      <td>13.850</td>\n",
       "      <td>Regular</td>\n",
       "      <td>0.025896</td>\n",
       "      <td>Frozen Foods</td>\n",
       "      <td>165.0210</td>\n",
       "      <td>OUT046</td>\n",
       "      <td>1997</td>\n",
       "      <td>Small</td>\n",
       "      <td>Tier 1</td>\n",
       "      <td>Supermarket Type1</td>\n",
       "      <td>4078.0250</td>\n",
       "    </tr>\n",
       "    <tr>\n",
       "      <th>25</th>\n",
       "      <td>NCD06</td>\n",
       "      <td>13.000</td>\n",
       "      <td>Low Fat</td>\n",
       "      <td>0.099887</td>\n",
       "      <td>Household</td>\n",
       "      <td>45.9060</td>\n",
       "      <td>OUT017</td>\n",
       "      <td>2007</td>\n",
       "      <td>Small</td>\n",
       "      <td>Tier 2</td>\n",
       "      <td>Supermarket Type1</td>\n",
       "      <td>838.9080</td>\n",
       "    </tr>\n",
       "    <tr>\n",
       "      <th>26</th>\n",
       "      <td>FDV10</td>\n",
       "      <td>7.645</td>\n",
       "      <td>Regular</td>\n",
       "      <td>0.066693</td>\n",
       "      <td>Snack Foods</td>\n",
       "      <td>42.3112</td>\n",
       "      <td>OUT035</td>\n",
       "      <td>2004</td>\n",
       "      <td>Small</td>\n",
       "      <td>Tier 2</td>\n",
       "      <td>Supermarket Type1</td>\n",
       "      <td>1065.2800</td>\n",
       "    </tr>\n",
       "    <tr>\n",
       "      <th>27</th>\n",
       "      <td>DRJ59</td>\n",
       "      <td>11.650</td>\n",
       "      <td>low fat</td>\n",
       "      <td>0.019356</td>\n",
       "      <td>Hard Drinks</td>\n",
       "      <td>39.1164</td>\n",
       "      <td>OUT013</td>\n",
       "      <td>1987</td>\n",
       "      <td>High</td>\n",
       "      <td>Tier 3</td>\n",
       "      <td>Supermarket Type1</td>\n",
       "      <td>308.9312</td>\n",
       "    </tr>\n",
       "    <tr>\n",
       "      <th>28</th>\n",
       "      <td>FDE51</td>\n",
       "      <td>5.925</td>\n",
       "      <td>Regular</td>\n",
       "      <td>0.161467</td>\n",
       "      <td>Dairy</td>\n",
       "      <td>45.5086</td>\n",
       "      <td>OUT010</td>\n",
       "      <td>1998</td>\n",
       "      <td>Small</td>\n",
       "      <td>Tier 3</td>\n",
       "      <td>Grocery Store</td>\n",
       "      <td>178.4344</td>\n",
       "    </tr>\n",
       "    <tr>\n",
       "      <th>29</th>\n",
       "      <td>FDC14</td>\n",
       "      <td>14.500</td>\n",
       "      <td>Regular</td>\n",
       "      <td>0.072222</td>\n",
       "      <td>Canned</td>\n",
       "      <td>43.6454</td>\n",
       "      <td>OUT019</td>\n",
       "      <td>1985</td>\n",
       "      <td>Small</td>\n",
       "      <td>Tier 1</td>\n",
       "      <td>Grocery Store</td>\n",
       "      <td>125.8362</td>\n",
       "    </tr>\n",
       "    <tr>\n",
       "      <th>30</th>\n",
       "      <td>FDV38</td>\n",
       "      <td>19.250</td>\n",
       "      <td>Low Fat</td>\n",
       "      <td>0.170349</td>\n",
       "      <td>Dairy</td>\n",
       "      <td>55.7956</td>\n",
       "      <td>OUT010</td>\n",
       "      <td>1998</td>\n",
       "      <td>Small</td>\n",
       "      <td>Tier 3</td>\n",
       "      <td>Grocery Store</td>\n",
       "      <td>163.7868</td>\n",
       "    </tr>\n",
       "    <tr>\n",
       "      <th>31</th>\n",
       "      <td>NCS17</td>\n",
       "      <td>18.600</td>\n",
       "      <td>Low Fat</td>\n",
       "      <td>0.080829</td>\n",
       "      <td>Health and Hygiene</td>\n",
       "      <td>96.4436</td>\n",
       "      <td>OUT018</td>\n",
       "      <td>2009</td>\n",
       "      <td>Medium</td>\n",
       "      <td>Tier 3</td>\n",
       "      <td>Supermarket Type2</td>\n",
       "      <td>2741.7644</td>\n",
       "    </tr>\n",
       "    <tr>\n",
       "      <th>32</th>\n",
       "      <td>FDP33</td>\n",
       "      <td>18.700</td>\n",
       "      <td>Low Fat</td>\n",
       "      <td>0.000000</td>\n",
       "      <td>Snack Foods</td>\n",
       "      <td>256.6672</td>\n",
       "      <td>OUT018</td>\n",
       "      <td>2009</td>\n",
       "      <td>Medium</td>\n",
       "      <td>Tier 3</td>\n",
       "      <td>Supermarket Type2</td>\n",
       "      <td>3068.0064</td>\n",
       "    </tr>\n",
       "    <tr>\n",
       "      <th>33</th>\n",
       "      <td>FDO23</td>\n",
       "      <td>17.850</td>\n",
       "      <td>Low Fat</td>\n",
       "      <td>0.000000</td>\n",
       "      <td>Breads</td>\n",
       "      <td>93.1436</td>\n",
       "      <td>OUT045</td>\n",
       "      <td>2002</td>\n",
       "      <td>Small</td>\n",
       "      <td>Tier 2</td>\n",
       "      <td>Supermarket Type1</td>\n",
       "      <td>2174.5028</td>\n",
       "    </tr>\n",
       "    <tr>\n",
       "      <th>34</th>\n",
       "      <td>DRH01</td>\n",
       "      <td>17.500</td>\n",
       "      <td>Low Fat</td>\n",
       "      <td>0.097904</td>\n",
       "      <td>Soft Drinks</td>\n",
       "      <td>174.8738</td>\n",
       "      <td>OUT046</td>\n",
       "      <td>1997</td>\n",
       "      <td>Small</td>\n",
       "      <td>Tier 1</td>\n",
       "      <td>Supermarket Type1</td>\n",
       "      <td>2085.2856</td>\n",
       "    </tr>\n",
       "    <tr>\n",
       "      <th>35</th>\n",
       "      <td>NCX29</td>\n",
       "      <td>10.000</td>\n",
       "      <td>Low Fat</td>\n",
       "      <td>0.089291</td>\n",
       "      <td>Health and Hygiene</td>\n",
       "      <td>146.7102</td>\n",
       "      <td>OUT049</td>\n",
       "      <td>1999</td>\n",
       "      <td>Medium</td>\n",
       "      <td>Tier 1</td>\n",
       "      <td>Supermarket Type1</td>\n",
       "      <td>3791.0652</td>\n",
       "    </tr>\n",
       "    <tr>\n",
       "      <th>36</th>\n",
       "      <td>FDV20</td>\n",
       "      <td>20.200</td>\n",
       "      <td>Regular</td>\n",
       "      <td>0.059512</td>\n",
       "      <td>Fruits and Vegetables</td>\n",
       "      <td>128.0678</td>\n",
       "      <td>OUT027</td>\n",
       "      <td>1985</td>\n",
       "      <td>Medium</td>\n",
       "      <td>Tier 3</td>\n",
       "      <td>Supermarket Type3</td>\n",
       "      <td>2797.6916</td>\n",
       "    </tr>\n",
       "    <tr>\n",
       "      <th>37</th>\n",
       "      <td>DRZ11</td>\n",
       "      <td>8.850</td>\n",
       "      <td>Regular</td>\n",
       "      <td>0.113124</td>\n",
       "      <td>Soft Drinks</td>\n",
       "      <td>122.5388</td>\n",
       "      <td>OUT018</td>\n",
       "      <td>2009</td>\n",
       "      <td>Medium</td>\n",
       "      <td>Tier 3</td>\n",
       "      <td>Supermarket Type2</td>\n",
       "      <td>1609.9044</td>\n",
       "    </tr>\n",
       "    <tr>\n",
       "      <th>38</th>\n",
       "      <td>FDX10</td>\n",
       "      <td>6.385</td>\n",
       "      <td>Regular</td>\n",
       "      <td>0.123111</td>\n",
       "      <td>Snack Foods</td>\n",
       "      <td>36.9874</td>\n",
       "      <td>OUT027</td>\n",
       "      <td>1985</td>\n",
       "      <td>Medium</td>\n",
       "      <td>Tier 3</td>\n",
       "      <td>Supermarket Type3</td>\n",
       "      <td>388.1614</td>\n",
       "    </tr>\n",
       "    <tr>\n",
       "      <th>39</th>\n",
       "      <td>FDB34</td>\n",
       "      <td>15.250</td>\n",
       "      <td>Low Fat</td>\n",
       "      <td>0.026481</td>\n",
       "      <td>Snack Foods</td>\n",
       "      <td>87.6198</td>\n",
       "      <td>OUT027</td>\n",
       "      <td>1985</td>\n",
       "      <td>Medium</td>\n",
       "      <td>Tier 3</td>\n",
       "      <td>Supermarket Type3</td>\n",
       "      <td>2180.4950</td>\n",
       "    </tr>\n",
       "    <tr>\n",
       "      <th>40</th>\n",
       "      <td>FDU02</td>\n",
       "      <td>13.350</td>\n",
       "      <td>Low Fat</td>\n",
       "      <td>0.102512</td>\n",
       "      <td>Dairy</td>\n",
       "      <td>230.6352</td>\n",
       "      <td>OUT046</td>\n",
       "      <td>1997</td>\n",
       "      <td>Small</td>\n",
       "      <td>Tier 1</td>\n",
       "      <td>Supermarket Type1</td>\n",
       "      <td>3435.5280</td>\n",
       "    </tr>\n",
       "    <tr>\n",
       "      <th>41</th>\n",
       "      <td>FDK43</td>\n",
       "      <td>9.800</td>\n",
       "      <td>Low Fat</td>\n",
       "      <td>0.026818</td>\n",
       "      <td>Meat</td>\n",
       "      <td>126.0020</td>\n",
       "      <td>OUT013</td>\n",
       "      <td>1987</td>\n",
       "      <td>High</td>\n",
       "      <td>Tier 3</td>\n",
       "      <td>Supermarket Type1</td>\n",
       "      <td>2150.5340</td>\n",
       "    </tr>\n",
       "    <tr>\n",
       "      <th>42</th>\n",
       "      <td>FDA46</td>\n",
       "      <td>13.600</td>\n",
       "      <td>Low Fat</td>\n",
       "      <td>0.117818</td>\n",
       "      <td>Snack Foods</td>\n",
       "      <td>192.9136</td>\n",
       "      <td>OUT049</td>\n",
       "      <td>1999</td>\n",
       "      <td>Medium</td>\n",
       "      <td>Tier 1</td>\n",
       "      <td>Supermarket Type1</td>\n",
       "      <td>2527.3768</td>\n",
       "    </tr>\n",
       "    <tr>\n",
       "      <th>43</th>\n",
       "      <td>FDC02</td>\n",
       "      <td>21.350</td>\n",
       "      <td>Low Fat</td>\n",
       "      <td>0.069103</td>\n",
       "      <td>Canned</td>\n",
       "      <td>259.9278</td>\n",
       "      <td>OUT018</td>\n",
       "      <td>2009</td>\n",
       "      <td>Medium</td>\n",
       "      <td>Tier 3</td>\n",
       "      <td>Supermarket Type2</td>\n",
       "      <td>6768.5228</td>\n",
       "    </tr>\n",
       "    <tr>\n",
       "      <th>44</th>\n",
       "      <td>FDL50</td>\n",
       "      <td>12.150</td>\n",
       "      <td>Regular</td>\n",
       "      <td>0.042278</td>\n",
       "      <td>Canned</td>\n",
       "      <td>126.5046</td>\n",
       "      <td>OUT013</td>\n",
       "      <td>1987</td>\n",
       "      <td>High</td>\n",
       "      <td>Tier 3</td>\n",
       "      <td>Supermarket Type1</td>\n",
       "      <td>373.5138</td>\n",
       "    </tr>\n",
       "    <tr>\n",
       "      <th>45</th>\n",
       "      <td>FDM39</td>\n",
       "      <td>6.420</td>\n",
       "      <td>LF</td>\n",
       "      <td>0.089499</td>\n",
       "      <td>Dairy</td>\n",
       "      <td>178.1002</td>\n",
       "      <td>OUT010</td>\n",
       "      <td>1998</td>\n",
       "      <td>Small</td>\n",
       "      <td>Tier 3</td>\n",
       "      <td>Grocery Store</td>\n",
       "      <td>358.2004</td>\n",
       "    </tr>\n",
       "    <tr>\n",
       "      <th>46</th>\n",
       "      <td>NCP05</td>\n",
       "      <td>19.600</td>\n",
       "      <td>Low Fat</td>\n",
       "      <td>0.000000</td>\n",
       "      <td>Health and Hygiene</td>\n",
       "      <td>153.3024</td>\n",
       "      <td>OUT045</td>\n",
       "      <td>2002</td>\n",
       "      <td>Small</td>\n",
       "      <td>Tier 2</td>\n",
       "      <td>Supermarket Type1</td>\n",
       "      <td>2428.8384</td>\n",
       "    </tr>\n",
       "    <tr>\n",
       "      <th>47</th>\n",
       "      <td>FDV49</td>\n",
       "      <td>10.000</td>\n",
       "      <td>Low Fat</td>\n",
       "      <td>0.025880</td>\n",
       "      <td>Canned</td>\n",
       "      <td>265.2226</td>\n",
       "      <td>OUT045</td>\n",
       "      <td>2002</td>\n",
       "      <td>Small</td>\n",
       "      <td>Tier 2</td>\n",
       "      <td>Supermarket Type1</td>\n",
       "      <td>5815.0972</td>\n",
       "    </tr>\n",
       "    <tr>\n",
       "      <th>48</th>\n",
       "      <td>FDL12</td>\n",
       "      <td>15.850</td>\n",
       "      <td>Regular</td>\n",
       "      <td>0.121633</td>\n",
       "      <td>Baking Goods</td>\n",
       "      <td>60.6220</td>\n",
       "      <td>OUT046</td>\n",
       "      <td>1997</td>\n",
       "      <td>Small</td>\n",
       "      <td>Tier 1</td>\n",
       "      <td>Supermarket Type1</td>\n",
       "      <td>2576.6460</td>\n",
       "    </tr>\n",
       "    <tr>\n",
       "      <th>49</th>\n",
       "      <td>FDS02</td>\n",
       "      <td>10.195</td>\n",
       "      <td>Regular</td>\n",
       "      <td>0.255395</td>\n",
       "      <td>Dairy</td>\n",
       "      <td>196.8794</td>\n",
       "      <td>OUT019</td>\n",
       "      <td>1985</td>\n",
       "      <td>Small</td>\n",
       "      <td>Tier 1</td>\n",
       "      <td>Grocery Store</td>\n",
       "      <td>780.3176</td>\n",
       "    </tr>\n",
       "  </tbody>\n",
       "</table>\n",
       "</div>"
      ],
      "text/plain": [
       "   Item_Identifier  Item_Weight Item_Fat_Content  Item_Visibility  \\\n",
       "0            FDA15        9.300          Low Fat         0.016047   \n",
       "1            DRC01        5.920          Regular         0.019278   \n",
       "2            FDN15       17.500          Low Fat         0.016760   \n",
       "3            FDX07       19.200          Regular         0.000000   \n",
       "4            NCD19        8.930          Low Fat         0.000000   \n",
       "5            FDP36       10.395          Regular         0.000000   \n",
       "6            FDO10       13.650          Regular         0.012741   \n",
       "7            FDP10       19.000          Low Fat         0.127470   \n",
       "8            FDH17       16.200          Regular         0.016687   \n",
       "9            FDU28       19.200          Regular         0.094450   \n",
       "10           FDY07       11.800          Low Fat         0.000000   \n",
       "11           FDA03       18.500          Regular         0.045464   \n",
       "12           FDX32       15.100          Regular         0.100014   \n",
       "13           FDS46       17.600          Regular         0.047257   \n",
       "14           FDF32       16.350          Low Fat         0.068024   \n",
       "15           FDP49        9.000          Regular         0.069089   \n",
       "16           NCB42       11.800          Low Fat         0.008596   \n",
       "17           FDP49        9.000          Regular         0.069196   \n",
       "18           DRI11        8.260          Low Fat         0.034238   \n",
       "19           FDU02       13.350          Low Fat         0.102492   \n",
       "20           FDN22       18.850          Regular         0.138190   \n",
       "21           FDW12        8.315          Regular         0.035400   \n",
       "22           NCB30       14.600          Low Fat         0.025698   \n",
       "23           FDC37       15.500          Low Fat         0.057557   \n",
       "24           FDR28       13.850          Regular         0.025896   \n",
       "25           NCD06       13.000          Low Fat         0.099887   \n",
       "26           FDV10        7.645          Regular         0.066693   \n",
       "27           DRJ59       11.650          low fat         0.019356   \n",
       "28           FDE51        5.925          Regular         0.161467   \n",
       "29           FDC14       14.500          Regular         0.072222   \n",
       "30           FDV38       19.250          Low Fat         0.170349   \n",
       "31           NCS17       18.600          Low Fat         0.080829   \n",
       "32           FDP33       18.700          Low Fat         0.000000   \n",
       "33           FDO23       17.850          Low Fat         0.000000   \n",
       "34           DRH01       17.500          Low Fat         0.097904   \n",
       "35           NCX29       10.000          Low Fat         0.089291   \n",
       "36           FDV20       20.200          Regular         0.059512   \n",
       "37           DRZ11        8.850          Regular         0.113124   \n",
       "38           FDX10        6.385          Regular         0.123111   \n",
       "39           FDB34       15.250          Low Fat         0.026481   \n",
       "40           FDU02       13.350          Low Fat         0.102512   \n",
       "41           FDK43        9.800          Low Fat         0.026818   \n",
       "42           FDA46       13.600          Low Fat         0.117818   \n",
       "43           FDC02       21.350          Low Fat         0.069103   \n",
       "44           FDL50       12.150          Regular         0.042278   \n",
       "45           FDM39        6.420               LF         0.089499   \n",
       "46           NCP05       19.600          Low Fat         0.000000   \n",
       "47           FDV49       10.000          Low Fat         0.025880   \n",
       "48           FDL12       15.850          Regular         0.121633   \n",
       "49           FDS02       10.195          Regular         0.255395   \n",
       "\n",
       "                Item_Type  Item_MRP Outlet_Identifier  \\\n",
       "0                   Dairy  249.8092            OUT049   \n",
       "1             Soft Drinks   48.2692            OUT018   \n",
       "2                    Meat  141.6180            OUT049   \n",
       "3   Fruits and Vegetables  182.0950            OUT010   \n",
       "4               Household   53.8614            OUT013   \n",
       "5            Baking Goods   51.4008            OUT018   \n",
       "6             Snack Foods   57.6588            OUT013   \n",
       "7             Snack Foods  107.7622            OUT027   \n",
       "8            Frozen Foods   96.9726            OUT045   \n",
       "9            Frozen Foods  187.8214            OUT017   \n",
       "10  Fruits and Vegetables   45.5402            OUT049   \n",
       "11                  Dairy  144.1102            OUT046   \n",
       "12  Fruits and Vegetables  145.4786            OUT049   \n",
       "13            Snack Foods  119.6782            OUT046   \n",
       "14  Fruits and Vegetables  196.4426            OUT013   \n",
       "15              Breakfast   56.3614            OUT046   \n",
       "16     Health and Hygiene  115.3492            OUT018   \n",
       "17              Breakfast   54.3614            OUT049   \n",
       "18            Hard Drinks  113.2834            OUT027   \n",
       "19                  Dairy  230.5352            OUT035   \n",
       "20            Snack Foods  250.8724            OUT013   \n",
       "21           Baking Goods  144.5444            OUT027   \n",
       "22              Household  196.5084            OUT035   \n",
       "23           Baking Goods  107.6938            OUT019   \n",
       "24           Frozen Foods  165.0210            OUT046   \n",
       "25              Household   45.9060            OUT017   \n",
       "26            Snack Foods   42.3112            OUT035   \n",
       "27            Hard Drinks   39.1164            OUT013   \n",
       "28                  Dairy   45.5086            OUT010   \n",
       "29                 Canned   43.6454            OUT019   \n",
       "30                  Dairy   55.7956            OUT010   \n",
       "31     Health and Hygiene   96.4436            OUT018   \n",
       "32            Snack Foods  256.6672            OUT018   \n",
       "33                 Breads   93.1436            OUT045   \n",
       "34            Soft Drinks  174.8738            OUT046   \n",
       "35     Health and Hygiene  146.7102            OUT049   \n",
       "36  Fruits and Vegetables  128.0678            OUT027   \n",
       "37            Soft Drinks  122.5388            OUT018   \n",
       "38            Snack Foods   36.9874            OUT027   \n",
       "39            Snack Foods   87.6198            OUT027   \n",
       "40                  Dairy  230.6352            OUT046   \n",
       "41                   Meat  126.0020            OUT013   \n",
       "42            Snack Foods  192.9136            OUT049   \n",
       "43                 Canned  259.9278            OUT018   \n",
       "44                 Canned  126.5046            OUT013   \n",
       "45                  Dairy  178.1002            OUT010   \n",
       "46     Health and Hygiene  153.3024            OUT045   \n",
       "47                 Canned  265.2226            OUT045   \n",
       "48           Baking Goods   60.6220            OUT046   \n",
       "49                  Dairy  196.8794            OUT019   \n",
       "\n",
       "    Outlet_Establishment_Year Outlet_Size Outlet_Location_Type  \\\n",
       "0                        1999      Medium               Tier 1   \n",
       "1                        2009      Medium               Tier 3   \n",
       "2                        1999      Medium               Tier 1   \n",
       "3                        1998       Small               Tier 3   \n",
       "4                        1987        High               Tier 3   \n",
       "5                        2009      Medium               Tier 3   \n",
       "6                        1987        High               Tier 3   \n",
       "7                        1985      Medium               Tier 3   \n",
       "8                        2002       Small               Tier 2   \n",
       "9                        2007       Small               Tier 2   \n",
       "10                       1999      Medium               Tier 1   \n",
       "11                       1997       Small               Tier 1   \n",
       "12                       1999      Medium               Tier 1   \n",
       "13                       1997       Small               Tier 1   \n",
       "14                       1987        High               Tier 3   \n",
       "15                       1997       Small               Tier 1   \n",
       "16                       2009      Medium               Tier 3   \n",
       "17                       1999      Medium               Tier 1   \n",
       "18                       1985      Medium               Tier 3   \n",
       "19                       2004       Small               Tier 2   \n",
       "20                       1987        High               Tier 3   \n",
       "21                       1985      Medium               Tier 3   \n",
       "22                       2004       Small               Tier 2   \n",
       "23                       1985       Small               Tier 1   \n",
       "24                       1997       Small               Tier 1   \n",
       "25                       2007       Small               Tier 2   \n",
       "26                       2004       Small               Tier 2   \n",
       "27                       1987        High               Tier 3   \n",
       "28                       1998       Small               Tier 3   \n",
       "29                       1985       Small               Tier 1   \n",
       "30                       1998       Small               Tier 3   \n",
       "31                       2009      Medium               Tier 3   \n",
       "32                       2009      Medium               Tier 3   \n",
       "33                       2002       Small               Tier 2   \n",
       "34                       1997       Small               Tier 1   \n",
       "35                       1999      Medium               Tier 1   \n",
       "36                       1985      Medium               Tier 3   \n",
       "37                       2009      Medium               Tier 3   \n",
       "38                       1985      Medium               Tier 3   \n",
       "39                       1985      Medium               Tier 3   \n",
       "40                       1997       Small               Tier 1   \n",
       "41                       1987        High               Tier 3   \n",
       "42                       1999      Medium               Tier 1   \n",
       "43                       2009      Medium               Tier 3   \n",
       "44                       1987        High               Tier 3   \n",
       "45                       1998       Small               Tier 3   \n",
       "46                       2002       Small               Tier 2   \n",
       "47                       2002       Small               Tier 2   \n",
       "48                       1997       Small               Tier 1   \n",
       "49                       1985       Small               Tier 1   \n",
       "\n",
       "          Outlet_Type  Item_Outlet_Sales  \n",
       "0   Supermarket Type1          3735.1380  \n",
       "1   Supermarket Type2           443.4228  \n",
       "2   Supermarket Type1          2097.2700  \n",
       "3       Grocery Store           732.3800  \n",
       "4   Supermarket Type1           994.7052  \n",
       "5   Supermarket Type2           556.6088  \n",
       "6   Supermarket Type1           343.5528  \n",
       "7   Supermarket Type3          4022.7636  \n",
       "8   Supermarket Type1          1076.5986  \n",
       "9   Supermarket Type1          4710.5350  \n",
       "10  Supermarket Type1          1516.0266  \n",
       "11  Supermarket Type1          2187.1530  \n",
       "12  Supermarket Type1          1589.2646  \n",
       "13  Supermarket Type1          2145.2076  \n",
       "14  Supermarket Type1          1977.4260  \n",
       "15  Supermarket Type1          1547.3192  \n",
       "16  Supermarket Type2          1621.8888  \n",
       "17  Supermarket Type1           718.3982  \n",
       "18  Supermarket Type3          2303.6680  \n",
       "19  Supermarket Type1          2748.4224  \n",
       "20  Supermarket Type1          3775.0860  \n",
       "21  Supermarket Type3          4064.0432  \n",
       "22  Supermarket Type1          1587.2672  \n",
       "23      Grocery Store           214.3876  \n",
       "24  Supermarket Type1          4078.0250  \n",
       "25  Supermarket Type1           838.9080  \n",
       "26  Supermarket Type1          1065.2800  \n",
       "27  Supermarket Type1           308.9312  \n",
       "28      Grocery Store           178.4344  \n",
       "29      Grocery Store           125.8362  \n",
       "30      Grocery Store           163.7868  \n",
       "31  Supermarket Type2          2741.7644  \n",
       "32  Supermarket Type2          3068.0064  \n",
       "33  Supermarket Type1          2174.5028  \n",
       "34  Supermarket Type1          2085.2856  \n",
       "35  Supermarket Type1          3791.0652  \n",
       "36  Supermarket Type3          2797.6916  \n",
       "37  Supermarket Type2          1609.9044  \n",
       "38  Supermarket Type3           388.1614  \n",
       "39  Supermarket Type3          2180.4950  \n",
       "40  Supermarket Type1          3435.5280  \n",
       "41  Supermarket Type1          2150.5340  \n",
       "42  Supermarket Type1          2527.3768  \n",
       "43  Supermarket Type2          6768.5228  \n",
       "44  Supermarket Type1           373.5138  \n",
       "45      Grocery Store           358.2004  \n",
       "46  Supermarket Type1          2428.8384  \n",
       "47  Supermarket Type1          5815.0972  \n",
       "48  Supermarket Type1          2576.6460  \n",
       "49      Grocery Store           780.3176  "
      ]
     },
     "execution_count": 51,
     "metadata": {},
     "output_type": "execute_result"
    }
   ],
   "source": [
    "train_df.head(50)"
   ]
  },
  {
   "cell_type": "markdown",
   "metadata": {},
   "source": [
    "Let's check the number of categories if the first three characters of this column are used."
   ]
  },
  {
   "cell_type": "code",
   "execution_count": 52,
   "metadata": {},
   "outputs": [
    {
     "name": "stdout",
     "output_type": "stream",
     "text": [
      "0    FDA\n",
      "1    DRC\n",
      "2    FDN\n",
      "3    FDX\n",
      "4    NCD\n",
      "5    FDP\n",
      "6    FDO\n",
      "7    FDP\n",
      "8    FDH\n",
      "9    FDU\n",
      "Name: Item_Identifier, dtype: object\n",
      "Number of categories:  71\n"
     ]
    }
   ],
   "source": [
    "first_three = train_df['Item_Identifier'].apply(lambda x: re.match('^.{3}', x).group())\n",
    "print(first_three[0:10])\n",
    "print(\"Number of categories: \", len(first_three.unique()))"
   ]
  },
  {
   "cell_type": "markdown",
   "metadata": {},
   "source": [
    "71 is still too many categories. Let's check the number of categories if the first two characters are used."
   ]
  },
  {
   "cell_type": "code",
   "execution_count": 53,
   "metadata": {},
   "outputs": [
    {
     "name": "stdout",
     "output_type": "stream",
     "text": [
      "0    FD\n",
      "1    DR\n",
      "2    FD\n",
      "3    FD\n",
      "4    NC\n",
      "5    FD\n",
      "6    FD\n",
      "7    FD\n",
      "8    FD\n",
      "9    FD\n",
      "Name: Item_Identifier, dtype: object\n",
      "Number of categories:  3\n"
     ]
    }
   ],
   "source": [
    "first_two = train_df['Item_Identifier'].apply(lambda x: re.match('^.{2}', x).group())\n",
    "print(first_two[0:10])\n",
    "print(\"Number of categories: \", len(first_two.unique()))"
   ]
  },
  {
   "cell_type": "markdown",
   "metadata": {},
   "source": [
    "It looks like the items can broadly be divided into three categories:\n",
    "- FD -- Food\n",
    "- NC -- Non-Consumable\n",
    "- DR -- Drinks\n",
    "\n",
    "I'll replace each item identifier with the first two characters."
   ]
  },
  {
   "cell_type": "code",
   "execution_count": 54,
   "metadata": {
    "scrolled": true
   },
   "outputs": [],
   "source": [
    "#Retaining only the first two characters in the item identifier column\n",
    "train_df['Item_Identifier'] = train_df['Item_Identifier'].apply(lambda x: re.match('^.{2}', x).group())\n",
    "test_df['Item_Identifier'] = test_df['Item_Identifier'].apply(lambda x: re.match('^.{2}', x).group())"
   ]
  },
  {
   "cell_type": "code",
   "execution_count": 55,
   "metadata": {},
   "outputs": [
    {
     "data": {
      "image/png": "[encoded data removed]",
      "text/plain": [
       "<Figure size 864x360 with 2 Axes>"
      ]
     },
     "metadata": {
      "needs_background": "light"
     },
     "output_type": "display_data"
    }
   ],
   "source": [
    "#Plotting the number of items that belong to these three categories\n",
    "\n",
    "plt.figure(figsize=(12, 5))\n",
    "\n",
    "plt.subplot(1, 2, 1)\n",
    "plt.title(\"Train Set\")\n",
    "sns.countplot(train_df['Item_Identifier'])\n",
    "\n",
    "plt.subplot(1, 2, 2)\n",
    "plt.title(\"Test Set\")\n",
    "sns.countplot(test_df['Item_Identifier'])\n",
    "\n",
    "plt.show()"
   ]
  },
  {
   "cell_type": "markdown",
   "metadata": {},
   "source": [
    "Most of the items sold are food."
   ]
  },
  {
   "cell_type": "markdown",
   "metadata": {},
   "source": [
    "#### Item_Fat_Content"
   ]
  },
  {
   "cell_type": "code",
   "execution_count": 56,
   "metadata": {},
   "outputs": [
    {
     "data": {
      "image/png": "[encoded data removed]",
      "text/plain": [
       "<Figure size 864x360 with 2 Axes>"
      ]
     },
     "metadata": {
      "needs_background": "light"
     },
     "output_type": "display_data"
    }
   ],
   "source": [
    "#Plotting the number of items in the Item_Fat_Content column\n",
    "\n",
    "plt.figure(figsize=(12, 5))\n",
    "\n",
    "plt.subplot(1, 2, 1)\n",
    "plt.title(\"Train Set\")\n",
    "sns.countplot(train_df['Item_Fat_Content'])\n",
    "\n",
    "plt.subplot(1, 2, 2)\n",
    "plt.title(\"Test Set\")\n",
    "sns.countplot(test_df['Item_Fat_Content'])\n",
    "\n",
    "plt.show()"
   ]
  },
  {
   "cell_type": "markdown",
   "metadata": {},
   "source": [
    "It looks like 'LF' and 'low fat' are the same. This also applies to 'reg' and 'Regular'."
   ]
  },
  {
   "cell_type": "code",
   "execution_count": 57,
   "metadata": {},
   "outputs": [],
   "source": [
    "#Substituting 'Low Fat' inplace of 'low fat' and 'LF'\n",
    "\n",
    "train_df['Item_Fat_Content'] = train_df['Item_Fat_Content'].apply(lambda x: re.sub('low fat', 'Low Fat', x))\n",
    "train_df['Item_Fat_Content'] = train_df['Item_Fat_Content'].apply(lambda x: re.sub('LF', 'Low Fat', x))\n",
    "\n",
    "test_df['Item_Fat_Content'] = test_df['Item_Fat_Content'].apply(lambda x: re.sub('low fat', 'Low Fat', x))\n",
    "test_df['Item_Fat_Content'] = test_df['Item_Fat_Content'].apply(lambda x: re.sub('LF', 'Low Fat', x))\n",
    "\n",
    "\n",
    "#Substituting 'Regular' inplace of 'reg'\n",
    "\n",
    "train_df['Item_Fat_Content'] = train_df['Item_Fat_Content'].apply(lambda x: re.sub('reg', 'Regular', x))\n",
    "test_df['Item_Fat_Content'] = test_df['Item_Fat_Content'].apply(lambda x: re.sub('reg', 'Regular', x))"
   ]
  },
  {
   "cell_type": "code",
   "execution_count": 58,
   "metadata": {},
   "outputs": [
    {
     "data": {
      "image/png": "[encoded data removed]",
      "text/plain": [
       "<Figure size 864x360 with 2 Axes>"
      ]
     },
     "metadata": {
      "needs_background": "light"
     },
     "output_type": "display_data"
    }
   ],
   "source": [
    "#Checking the Item_Fat_Content column again\n",
    "\n",
    "plt.figure(figsize=(12, 5))\n",
    "\n",
    "plt.subplot(1, 2, 1)\n",
    "plt.title(\"Train Set\")\n",
    "sns.countplot(train_df['Item_Fat_Content'])\n",
    "\n",
    "plt.subplot(1, 2, 2)\n",
    "plt.title(\"Test Set\")\n",
    "sns.countplot(test_df['Item_Fat_Content'])\n",
    "\n",
    "plt.show()"
   ]
  },
  {
   "cell_type": "markdown",
   "metadata": {},
   "source": [
    "Low fat items have sold in greater numbers than regular items."
   ]
  },
  {
   "cell_type": "markdown",
   "metadata": {},
   "source": [
    "#### Item_Type"
   ]
  },
  {
   "cell_type": "code",
   "execution_count": 59,
   "metadata": {},
   "outputs": [
    {
     "name": "stdout",
     "output_type": "stream",
     "text": [
      "['Dairy' 'Soft Drinks' 'Meat' 'Fruits and Vegetables' 'Household'\n",
      " 'Baking Goods' 'Snack Foods' 'Frozen Foods' 'Breakfast'\n",
      " 'Health and Hygiene' 'Hard Drinks' 'Canned' 'Breads' 'Starchy Foods'\n",
      " 'Others' 'Seafood'] \n",
      "\n",
      "Number of item types:  16\n"
     ]
    }
   ],
   "source": [
    "print(train_df['Item_Type'].unique(), \"\\n\")\n",
    "print(\"Number of item types: \", len(train_df['Item_Type'].unique()))"
   ]
  },
  {
   "cell_type": "markdown",
   "metadata": {},
   "source": [
    "#### Outlet_Identifier"
   ]
  },
  {
   "cell_type": "code",
   "execution_count": 60,
   "metadata": {},
   "outputs": [
    {
     "name": "stdout",
     "output_type": "stream",
     "text": [
      "['OUT049' 'OUT018' 'OUT010' 'OUT013' 'OUT027' 'OUT045' 'OUT017' 'OUT046'\n",
      " 'OUT035' 'OUT019'] \n",
      "\n",
      "Number of outlets:  10\n"
     ]
    }
   ],
   "source": [
    "print(train_df['Outlet_Identifier'].unique(), \"\\n\")\n",
    "print(\"Number of outlets: \", len(train_df['Outlet_Identifier'].unique()))"
   ]
  },
  {
   "cell_type": "code",
   "execution_count": 61,
   "metadata": {},
   "outputs": [
    {
     "data": {
      "image/png": "[encoded data removed]",
      "text/plain": [
       "<Figure size 1152x360 with 2 Axes>"
      ]
     },
     "metadata": {
      "needs_background": "light"
     },
     "output_type": "display_data"
    }
   ],
   "source": [
    "#Checking the Outlet_Identifier column\n",
    "\n",
    "plt.figure(figsize=(16, 5))\n",
    "\n",
    "plt.subplot(1, 2, 1)\n",
    "plt.title(\"Train Set\")\n",
    "sns.countplot(train_df['Outlet_Identifier'])\n",
    "\n",
    "plt.subplot(1, 2, 2)\n",
    "plt.title(\"Test Set\")\n",
    "sns.countplot(test_df['Outlet_Identifier'])\n",
    "\n",
    "plt.show()"
   ]
  },
  {
   "cell_type": "markdown",
   "metadata": {},
   "source": [
    "#### Outlet_Establishment_Year"
   ]
  },
  {
   "cell_type": "code",
   "execution_count": 64,
   "metadata": {},
   "outputs": [
    {
     "name": "stdout",
     "output_type": "stream",
     "text": [
      "[1999 2009 1998 1987 1985 2002 2007 1997 2004] \n",
      "\n",
      "Number of outlet establishment years:  9\n"
     ]
    }
   ],
   "source": [
    "print(train_df['Outlet_Establishment_Year'].unique(), \"\\n\")\n",
    "print(\"Number of outlet establishment years: \", len(train_df['Outlet_Establishment_Year'].unique()))"
   ]
  },
  {
   "cell_type": "code",
   "execution_count": 65,
   "metadata": {},
   "outputs": [
    {
     "data": {
      "image/png": "[encoded data removed]",
      "text/plain": [
       "<Figure size 1152x360 with 2 Axes>"
      ]
     },
     "metadata": {
      "needs_background": "light"
     },
     "output_type": "display_data"
    }
   ],
   "source": [
    "#Visualizing the Outlet_Establishment_Year column\n",
    "\n",
    "plt.figure(figsize=(16, 5))\n",
    "\n",
    "plt.subplot(1, 2, 1)\n",
    "plt.title(\"Train Set\")\n",
    "sns.countplot(train_df['Outlet_Establishment_Year'])\n",
    "\n",
    "plt.subplot(1, 2, 2)\n",
    "plt.title(\"Test Set\")\n",
    "sns.countplot(test_df['Outlet_Establishment_Year'])\n",
    "\n",
    "plt.show()"
   ]
  },
  {
   "cell_type": "markdown",
   "metadata": {},
   "source": [
    "Since the year of establishing an outlet cannot be used directly in a model, I'll convert these years into age of the outlet."
   ]
  },
  {
   "cell_type": "code",
   "execution_count": 66,
   "metadata": {},
   "outputs": [],
   "source": [
    "#I'll consider the age of the outlet in the year 2010\n",
    "train_df['Outlet_Establishment_Year'] = 2010 - train_df['Outlet_Establishment_Year']\n",
    "test_df['Outlet_Establishment_Year'] = 2010 - test_df['Outlet_Establishment_Year']"
   ]
  },
  {
   "cell_type": "code",
   "execution_count": 67,
   "metadata": {},
   "outputs": [
    {
     "data": {
      "image/png": "[encoded data removed]",
      "text/plain": [
       "<Figure size 1152x360 with 2 Axes>"
      ]
     },
     "metadata": {
      "needs_background": "light"
     },
     "output_type": "display_data"
    }
   ],
   "source": [
    "#Checking the Outlet_Establishment_Year column again\n",
    "\n",
    "plt.figure(figsize=(16, 5))\n",
    "\n",
    "plt.subplot(1, 2, 1)\n",
    "plt.title(\"Train Set\")\n",
    "sns.countplot(train_df['Outlet_Establishment_Year'])\n",
    "\n",
    "plt.subplot(1, 2, 2)\n",
    "plt.title(\"Test Set\")\n",
    "sns.countplot(test_df['Outlet_Establishment_Year'])\n",
    "\n",
    "plt.show()"
   ]
  },
  {
   "cell_type": "markdown",
   "metadata": {},
   "source": [
    "As we can see from these graphs, most outlets were established in 1985 and were 25 years old in the year 2010."
   ]
  },
  {
   "cell_type": "markdown",
   "metadata": {},
   "source": [
    "#### Outlet_Size"
   ]
  },
  {
   "cell_type": "code",
   "execution_count": 68,
   "metadata": {},
   "outputs": [
    {
     "data": {
      "image/png": "[encoded data removed]",
      "text/plain": [
       "<Figure size 1008x360 with 2 Axes>"
      ]
     },
     "metadata": {
      "needs_background": "light"
     },
     "output_type": "display_data"
    }
   ],
   "source": [
    "#Checking the Outlet_Size column\n",
    "\n",
    "plt.figure(figsize=(14, 5))\n",
    "\n",
    "plt.subplot(1, 2, 1)\n",
    "plt.title(\"Train Set\")\n",
    "sns.countplot(train_df['Outlet_Size'])\n",
    "\n",
    "plt.subplot(1, 2, 2)\n",
    "plt.title(\"Test Set\")\n",
    "sns.countplot(test_df['Outlet_Size'])\n",
    "\n",
    "plt.show()"
   ]
  },
  {
   "cell_type": "markdown",
   "metadata": {},
   "source": [
    "#### Outlet_Location_Type"
   ]
  },
  {
   "cell_type": "code",
   "execution_count": 69,
   "metadata": {},
   "outputs": [
    {
     "data": {
      "image/png": "[encoded data removed]",
      "text/plain": [
       "<Figure size 1008x360 with 2 Axes>"
      ]
     },
     "metadata": {
      "needs_background": "light"
     },
     "output_type": "display_data"
    }
   ],
   "source": [
    "#Checking the Outlet_Location_Type column\n",
    "\n",
    "plt.figure(figsize=(14, 5))\n",
    "\n",
    "plt.subplot(1, 2, 1)\n",
    "plt.title(\"Train Set\")\n",
    "sns.countplot(train_df['Outlet_Location_Type'])\n",
    "\n",
    "plt.subplot(1, 2, 2)\n",
    "plt.title(\"Test Set\")\n",
    "sns.countplot(test_df['Outlet_Location_Type'])\n",
    "\n",
    "plt.show()"
   ]
  },
  {
   "cell_type": "markdown",
   "metadata": {},
   "source": [
    "#### Outlet_Type"
   ]
  },
  {
   "cell_type": "code",
   "execution_count": 70,
   "metadata": {},
   "outputs": [
    {
     "data": {
      "image/png": "[encoded data removed]",
      "text/plain": [
       "<Figure size 1152x360 with 2 Axes>"
      ]
     },
     "metadata": {
      "needs_background": "light"
     },
     "output_type": "display_data"
    }
   ],
   "source": [
    "#Checking the Outlet_Type column\n",
    "\n",
    "plt.figure(figsize=(16, 5))\n",
    "\n",
    "plt.subplot(1, 2, 1)\n",
    "plt.title(\"Train Set\")\n",
    "sns.countplot(train_df['Outlet_Type'])\n",
    "\n",
    "plt.subplot(1, 2, 2)\n",
    "plt.title(\"Test Set\")\n",
    "sns.countplot(test_df['Outlet_Type'])\n",
    "\n",
    "plt.show()"
   ]
  },
  {
   "cell_type": "markdown",
   "metadata": {},
   "source": [
    "Most of the data points come from outlets that are Supermarket Type1."
   ]
  },
  {
   "cell_type": "markdown",
   "metadata": {},
   "source": [
    "#### Continous Variables"
   ]
  },
  {
   "cell_type": "code",
   "execution_count": 71,
   "metadata": {},
   "outputs": [
    {
     "data": {
      "text/html": [
       "<div>\n",
       "<style scoped>\n",
       "    .dataframe tbody tr th:only-of-type {\n",
       "        vertical-align: middle;\n",
       "    }\n",
       "\n",
       "    .dataframe tbody tr th {\n",
       "        vertical-align: top;\n",
       "    }\n",
       "\n",
       "    .dataframe thead th {\n",
       "        text-align: right;\n",
       "    }\n",
       "</style>\n",
       "<table border=\"1\" class=\"dataframe\">\n",
       "  <thead>\n",
       "    <tr style=\"text-align: right;\">\n",
       "      <th></th>\n",
       "      <th>Item_Weight</th>\n",
       "      <th>Item_Visibility</th>\n",
       "      <th>Item_MRP</th>\n",
       "      <th>Outlet_Establishment_Year</th>\n",
       "    </tr>\n",
       "  </thead>\n",
       "  <tbody>\n",
       "    <tr>\n",
       "      <th>count</th>\n",
       "      <td>8523.000000</td>\n",
       "      <td>8523.000000</td>\n",
       "      <td>8523.000000</td>\n",
       "      <td>8523.000000</td>\n",
       "    </tr>\n",
       "    <tr>\n",
       "      <th>mean</th>\n",
       "      <td>12.873623</td>\n",
       "      <td>0.066132</td>\n",
       "      <td>140.992782</td>\n",
       "      <td>12.168133</td>\n",
       "    </tr>\n",
       "    <tr>\n",
       "      <th>std</th>\n",
       "      <td>4.645893</td>\n",
       "      <td>0.051598</td>\n",
       "      <td>62.275067</td>\n",
       "      <td>8.371760</td>\n",
       "    </tr>\n",
       "    <tr>\n",
       "      <th>min</th>\n",
       "      <td>4.555000</td>\n",
       "      <td>0.000000</td>\n",
       "      <td>31.290000</td>\n",
       "      <td>1.000000</td>\n",
       "    </tr>\n",
       "    <tr>\n",
       "      <th>25%</th>\n",
       "      <td>8.785000</td>\n",
       "      <td>0.026989</td>\n",
       "      <td>93.826500</td>\n",
       "      <td>6.000000</td>\n",
       "    </tr>\n",
       "    <tr>\n",
       "      <th>50%</th>\n",
       "      <td>12.600000</td>\n",
       "      <td>0.053931</td>\n",
       "      <td>143.012800</td>\n",
       "      <td>11.000000</td>\n",
       "    </tr>\n",
       "    <tr>\n",
       "      <th>75%</th>\n",
       "      <td>16.850000</td>\n",
       "      <td>0.094585</td>\n",
       "      <td>185.643700</td>\n",
       "      <td>23.000000</td>\n",
       "    </tr>\n",
       "    <tr>\n",
       "      <th>max</th>\n",
       "      <td>21.350000</td>\n",
       "      <td>0.328391</td>\n",
       "      <td>266.888400</td>\n",
       "      <td>25.000000</td>\n",
       "    </tr>\n",
       "  </tbody>\n",
       "</table>\n",
       "</div>"
      ],
      "text/plain": [
       "       Item_Weight  Item_Visibility     Item_MRP  Outlet_Establishment_Year\n",
       "count  8523.000000      8523.000000  8523.000000                8523.000000\n",
       "mean     12.873623         0.066132   140.992782                  12.168133\n",
       "std       4.645893         0.051598    62.275067                   8.371760\n",
       "min       4.555000         0.000000    31.290000                   1.000000\n",
       "25%       8.785000         0.026989    93.826500                   6.000000\n",
       "50%      12.600000         0.053931   143.012800                  11.000000\n",
       "75%      16.850000         0.094585   185.643700                  23.000000\n",
       "max      21.350000         0.328391   266.888400                  25.000000"
      ]
     },
     "execution_count": 71,
     "metadata": {},
     "output_type": "execute_result"
    }
   ],
   "source": [
    "#Checking the spread of continous variables\n",
    "train_df[['Item_Weight', 'Item_Visibility', 'Item_MRP', 'Outlet_Establishment_Year']].describe()"
   ]
  },
  {
   "cell_type": "markdown",
   "metadata": {},
   "source": [
    "There don't appear to be any outliers. The minimum value in the Item_Visibility column is zero. If the item is on display in the outlet, the visibility percentage should not be zero. I'll check if Item_Outlet_Sales = 0 when Item_Visibility = 0, as this would indicate that the item is not on the shelves of the outlet."
   ]
  },
  {
   "cell_type": "code",
   "execution_count": 72,
   "metadata": {},
   "outputs": [
    {
     "data": {
      "text/html": [
       "<div>\n",
       "<style scoped>\n",
       "    .dataframe tbody tr th:only-of-type {\n",
       "        vertical-align: middle;\n",
       "    }\n",
       "\n",
       "    .dataframe tbody tr th {\n",
       "        vertical-align: top;\n",
       "    }\n",
       "\n",
       "    .dataframe thead th {\n",
       "        text-align: right;\n",
       "    }\n",
       "</style>\n",
       "<table border=\"1\" class=\"dataframe\">\n",
       "  <thead>\n",
       "    <tr style=\"text-align: right;\">\n",
       "      <th></th>\n",
       "      <th>Item_Identifier</th>\n",
       "      <th>Item_Weight</th>\n",
       "      <th>Item_Fat_Content</th>\n",
       "      <th>Item_Visibility</th>\n",
       "      <th>Item_Type</th>\n",
       "      <th>Item_MRP</th>\n",
       "      <th>Outlet_Identifier</th>\n",
       "      <th>Outlet_Establishment_Year</th>\n",
       "      <th>Outlet_Size</th>\n",
       "      <th>Outlet_Location_Type</th>\n",
       "      <th>Outlet_Type</th>\n",
       "      <th>Item_Outlet_Sales</th>\n",
       "    </tr>\n",
       "  </thead>\n",
       "  <tbody>\n",
       "  </tbody>\n",
       "</table>\n",
       "</div>"
      ],
      "text/plain": [
       "Empty DataFrame\n",
       "Columns: [Item_Identifier, Item_Weight, Item_Fat_Content, Item_Visibility, Item_Type, Item_MRP, Outlet_Identifier, Outlet_Establishment_Year, Outlet_Size, Outlet_Location_Type, Outlet_Type, Item_Outlet_Sales]\n",
       "Index: []"
      ]
     },
     "execution_count": 72,
     "metadata": {},
     "output_type": "execute_result"
    }
   ],
   "source": [
    "#Checking if an item is not on the shelves of an outlet when the visibility is zero\n",
    "train_df[(train_df['Item_Visibility']==0) & (train_df['Item_Outlet_Sales']==0)]"
   ]
  },
  {
   "cell_type": "markdown",
   "metadata": {},
   "source": [
    "It looks like the item is present on the shelf, as it has a corresponding sales figure."
   ]
  },
  {
   "cell_type": "code",
   "execution_count": 75,
   "metadata": {},
   "outputs": [
    {
     "name": "stdout",
     "output_type": "stream",
     "text": [
      "Total number of outlets:  10\n",
      "Number of outlets with item visibility zero for an item:  10\n"
     ]
    }
   ],
   "source": [
    "#Checking if the item visibility is zero only in a particular outlet\n",
    "\n",
    "print(\"Total number of outlets: \", len(train_df['Outlet_Identifier'].unique()))\n",
    "print(\"Number of outlets with item visibility zero for an item: \", \n",
    "      len(train_df['Outlet_Identifier'][train_df['Item_Visibility']==0].unique()))"
   ]
  },
  {
   "cell_type": "code",
   "execution_count": 76,
   "metadata": {},
   "outputs": [
    {
     "name": "stdout",
     "output_type": "stream",
     "text": [
      "Total number of items:  16\n",
      "Number of items with item visibility zero:  16\n"
     ]
    }
   ],
   "source": [
    "#Checking if the item visibility is zero only for a particular item\n",
    "\n",
    "print(\"Total number of items: \", len(train_df['Item_Type'].unique()))\n",
    "print(\"Number of items with item visibility zero: \", \n",
    "      len(train_df['Item_Type'][train_df['Item_Visibility']==0].unique()))"
   ]
  },
  {
   "cell_type": "markdown",
   "metadata": {},
   "source": [
    "It looks like all items have zero visibility in one outlet or another. Similarly, all outlets have at least one item with zero visibility. This is unlikely to be a data entry error and more likely to be a result of rounding values lower than a threshold value to zero."
   ]
  },
  {
   "cell_type": "code",
   "execution_count": 78,
   "metadata": {},
   "outputs": [
    {
     "name": "stdout",
     "output_type": "stream",
     "text": [
      "Number of rows where Item_Visibility lies between 0 and 0.01:  206\n",
      "Number of rows where Item_Visibility lies between 0 and 0.001:  0\n"
     ]
    }
   ],
   "source": [
    "#Checking for the lowest non-zero values in the Item_Visibility column\n",
    "print(\"Number of rows where Item_Visibility lies between 0 and 0.01: \", train_df[(train_df['Item_Visibility'] < 0.01) & (train_df['Item_Visibility'] > 0)].shape[0])\n",
    "print(\"Number of rows where Item_Visibility lies between 0 and 0.001: \", train_df[(train_df['Item_Visibility'] < 0.001) & (train_df['Item_Visibility'] > 0)].shape[0])"
   ]
  },
  {
   "cell_type": "markdown",
   "metadata": {},
   "source": [
    "It looks like values lower than 0.001 have been rounded to zero in this column. I'll add 0.001 to all values of this column, as Item_Visibility is a percentage and 0.001 = 0.1%"
   ]
  },
  {
   "cell_type": "code",
   "execution_count": 79,
   "metadata": {},
   "outputs": [
    {
     "data": {
      "text/html": [
       "<div>\n",
       "<style scoped>\n",
       "    .dataframe tbody tr th:only-of-type {\n",
       "        vertical-align: middle;\n",
       "    }\n",
       "\n",
       "    .dataframe tbody tr th {\n",
       "        vertical-align: top;\n",
       "    }\n",
       "\n",
       "    .dataframe thead th {\n",
       "        text-align: right;\n",
       "    }\n",
       "</style>\n",
       "<table border=\"1\" class=\"dataframe\">\n",
       "  <thead>\n",
       "    <tr style=\"text-align: right;\">\n",
       "      <th></th>\n",
       "      <th>Item_Weight</th>\n",
       "      <th>Item_Visibility</th>\n",
       "      <th>Item_MRP</th>\n",
       "      <th>Outlet_Establishment_Year</th>\n",
       "    </tr>\n",
       "  </thead>\n",
       "  <tbody>\n",
       "    <tr>\n",
       "      <th>count</th>\n",
       "      <td>5681.000000</td>\n",
       "      <td>5681.000000</td>\n",
       "      <td>5681.000000</td>\n",
       "      <td>5681.000000</td>\n",
       "    </tr>\n",
       "    <tr>\n",
       "      <th>mean</th>\n",
       "      <td>12.672996</td>\n",
       "      <td>0.065684</td>\n",
       "      <td>141.023273</td>\n",
       "      <td>12.171097</td>\n",
       "    </tr>\n",
       "    <tr>\n",
       "      <th>std</th>\n",
       "      <td>4.658256</td>\n",
       "      <td>0.051252</td>\n",
       "      <td>61.809091</td>\n",
       "      <td>8.372256</td>\n",
       "    </tr>\n",
       "    <tr>\n",
       "      <th>min</th>\n",
       "      <td>4.555000</td>\n",
       "      <td>0.000000</td>\n",
       "      <td>31.990000</td>\n",
       "      <td>1.000000</td>\n",
       "    </tr>\n",
       "    <tr>\n",
       "      <th>25%</th>\n",
       "      <td>8.615000</td>\n",
       "      <td>0.027047</td>\n",
       "      <td>94.412000</td>\n",
       "      <td>6.000000</td>\n",
       "    </tr>\n",
       "    <tr>\n",
       "      <th>50%</th>\n",
       "      <td>12.350000</td>\n",
       "      <td>0.054154</td>\n",
       "      <td>141.415400</td>\n",
       "      <td>11.000000</td>\n",
       "    </tr>\n",
       "    <tr>\n",
       "      <th>75%</th>\n",
       "      <td>16.700000</td>\n",
       "      <td>0.093463</td>\n",
       "      <td>186.026600</td>\n",
       "      <td>23.000000</td>\n",
       "    </tr>\n",
       "    <tr>\n",
       "      <th>max</th>\n",
       "      <td>21.350000</td>\n",
       "      <td>0.323637</td>\n",
       "      <td>266.588400</td>\n",
       "      <td>25.000000</td>\n",
       "    </tr>\n",
       "  </tbody>\n",
       "</table>\n",
       "</div>"
      ],
      "text/plain": [
       "       Item_Weight  Item_Visibility     Item_MRP  Outlet_Establishment_Year\n",
       "count  5681.000000      5681.000000  5681.000000                5681.000000\n",
       "mean     12.672996         0.065684   141.023273                  12.171097\n",
       "std       4.658256         0.051252    61.809091                   8.372256\n",
       "min       4.555000         0.000000    31.990000                   1.000000\n",
       "25%       8.615000         0.027047    94.412000                   6.000000\n",
       "50%      12.350000         0.054154   141.415400                  11.000000\n",
       "75%      16.700000         0.093463   186.026600                  23.000000\n",
       "max      21.350000         0.323637   266.588400                  25.000000"
      ]
     },
     "execution_count": 79,
     "metadata": {},
     "output_type": "execute_result"
    }
   ],
   "source": [
    "#Checking if the test set also has zero values in the Item_Visibility column\n",
    "test_df[['Item_Weight', 'Item_Visibility', 'Item_MRP', 'Outlet_Establishment_Year']].describe()"
   ]
  },
  {
   "cell_type": "markdown",
   "metadata": {},
   "source": [
    "Adding 0.001 to all Item_Visibility values."
   ]
  },
  {
   "cell_type": "code",
   "execution_count": 80,
   "metadata": {},
   "outputs": [],
   "source": [
    "train_df['Item_Visibility'] = train_df['Item_Visibility'] + 0.001\n",
    "test_df['Item_Visibility'] = test_df['Item_Visibility'] + 0.001"
   ]
  },
  {
   "cell_type": "markdown",
   "metadata": {},
   "source": [
    "#### Item_Outlet_Sales"
   ]
  },
  {
   "cell_type": "code",
   "execution_count": 81,
   "metadata": {},
   "outputs": [
    {
     "data": {
      "text/html": [
       "<div>\n",
       "<style scoped>\n",
       "    .dataframe tbody tr th:only-of-type {\n",
       "        vertical-align: middle;\n",
       "    }\n",
       "\n",
       "    .dataframe tbody tr th {\n",
       "        vertical-align: top;\n",
       "    }\n",
       "\n",
       "    .dataframe thead th {\n",
       "        text-align: right;\n",
       "    }\n",
       "</style>\n",
       "<table border=\"1\" class=\"dataframe\">\n",
       "  <thead>\n",
       "    <tr style=\"text-align: right;\">\n",
       "      <th></th>\n",
       "      <th>Item_Identifier</th>\n",
       "      <th>Item_Weight</th>\n",
       "      <th>Item_Fat_Content</th>\n",
       "      <th>Item_Visibility</th>\n",
       "      <th>Item_Type</th>\n",
       "      <th>Item_MRP</th>\n",
       "      <th>Outlet_Identifier</th>\n",
       "      <th>Outlet_Establishment_Year</th>\n",
       "      <th>Outlet_Size</th>\n",
       "      <th>Outlet_Location_Type</th>\n",
       "      <th>Outlet_Type</th>\n",
       "      <th>Item_Outlet_Sales</th>\n",
       "    </tr>\n",
       "  </thead>\n",
       "  <tbody>\n",
       "    <tr>\n",
       "      <th>0</th>\n",
       "      <td>FD</td>\n",
       "      <td>9.30</td>\n",
       "      <td>Low Fat</td>\n",
       "      <td>0.017047</td>\n",
       "      <td>Dairy</td>\n",
       "      <td>249.8092</td>\n",
       "      <td>OUT049</td>\n",
       "      <td>11</td>\n",
       "      <td>Medium</td>\n",
       "      <td>Tier 1</td>\n",
       "      <td>Supermarket Type1</td>\n",
       "      <td>3735.1380</td>\n",
       "    </tr>\n",
       "    <tr>\n",
       "      <th>1</th>\n",
       "      <td>DR</td>\n",
       "      <td>5.92</td>\n",
       "      <td>Regular</td>\n",
       "      <td>0.020278</td>\n",
       "      <td>Soft Drinks</td>\n",
       "      <td>48.2692</td>\n",
       "      <td>OUT018</td>\n",
       "      <td>1</td>\n",
       "      <td>Medium</td>\n",
       "      <td>Tier 3</td>\n",
       "      <td>Supermarket Type2</td>\n",
       "      <td>443.4228</td>\n",
       "    </tr>\n",
       "    <tr>\n",
       "      <th>2</th>\n",
       "      <td>FD</td>\n",
       "      <td>17.50</td>\n",
       "      <td>Low Fat</td>\n",
       "      <td>0.017760</td>\n",
       "      <td>Meat</td>\n",
       "      <td>141.6180</td>\n",
       "      <td>OUT049</td>\n",
       "      <td>11</td>\n",
       "      <td>Medium</td>\n",
       "      <td>Tier 1</td>\n",
       "      <td>Supermarket Type1</td>\n",
       "      <td>2097.2700</td>\n",
       "    </tr>\n",
       "    <tr>\n",
       "      <th>3</th>\n",
       "      <td>FD</td>\n",
       "      <td>19.20</td>\n",
       "      <td>Regular</td>\n",
       "      <td>0.001000</td>\n",
       "      <td>Fruits and Vegetables</td>\n",
       "      <td>182.0950</td>\n",
       "      <td>OUT010</td>\n",
       "      <td>12</td>\n",
       "      <td>Small</td>\n",
       "      <td>Tier 3</td>\n",
       "      <td>Grocery Store</td>\n",
       "      <td>732.3800</td>\n",
       "    </tr>\n",
       "    <tr>\n",
       "      <th>4</th>\n",
       "      <td>NC</td>\n",
       "      <td>8.93</td>\n",
       "      <td>Low Fat</td>\n",
       "      <td>0.001000</td>\n",
       "      <td>Household</td>\n",
       "      <td>53.8614</td>\n",
       "      <td>OUT013</td>\n",
       "      <td>23</td>\n",
       "      <td>High</td>\n",
       "      <td>Tier 3</td>\n",
       "      <td>Supermarket Type1</td>\n",
       "      <td>994.7052</td>\n",
       "    </tr>\n",
       "  </tbody>\n",
       "</table>\n",
       "</div>"
      ],
      "text/plain": [
       "  Item_Identifier  Item_Weight Item_Fat_Content  Item_Visibility  \\\n",
       "0              FD         9.30          Low Fat         0.017047   \n",
       "1              DR         5.92          Regular         0.020278   \n",
       "2              FD        17.50          Low Fat         0.017760   \n",
       "3              FD        19.20          Regular         0.001000   \n",
       "4              NC         8.93          Low Fat         0.001000   \n",
       "\n",
       "               Item_Type  Item_MRP Outlet_Identifier  \\\n",
       "0                  Dairy  249.8092            OUT049   \n",
       "1            Soft Drinks   48.2692            OUT018   \n",
       "2                   Meat  141.6180            OUT049   \n",
       "3  Fruits and Vegetables  182.0950            OUT010   \n",
       "4              Household   53.8614            OUT013   \n",
       "\n",
       "   Outlet_Establishment_Year Outlet_Size Outlet_Location_Type  \\\n",
       "0                         11      Medium               Tier 1   \n",
       "1                          1      Medium               Tier 3   \n",
       "2                         11      Medium               Tier 1   \n",
       "3                         12       Small               Tier 3   \n",
       "4                         23        High               Tier 3   \n",
       "\n",
       "         Outlet_Type  Item_Outlet_Sales  \n",
       "0  Supermarket Type1          3735.1380  \n",
       "1  Supermarket Type2           443.4228  \n",
       "2  Supermarket Type1          2097.2700  \n",
       "3      Grocery Store           732.3800  \n",
       "4  Supermarket Type1           994.7052  "
      ]
     },
     "execution_count": 81,
     "metadata": {},
     "output_type": "execute_result"
    }
   ],
   "source": [
    "train_df.head()"
   ]
  },
  {
   "cell_type": "code",
   "execution_count": 83,
   "metadata": {},
   "outputs": [
    {
     "data": {
      "image/png": "[encoded data removed]",
      "text/plain": [
       "<Figure size 432x288 with 1 Axes>"
      ]
     },
     "metadata": {
      "needs_background": "light"
     },
     "output_type": "display_data"
    }
   ],
   "source": [
    "sns.distplot(train_df['Item_Outlet_Sales'], hist=False)\n",
    "plt.show()"
   ]
  },
  {
   "cell_type": "markdown",
   "metadata": {},
   "source": [
    "This is not close to a normal distribution. I'll try transforming the variable and plotting their graphs to see the transformed distribution."
   ]
  },
  {
   "cell_type": "markdown",
   "metadata": {},
   "source": [
    "## Data Preparation"
   ]
  },
  {
   "cell_type": "code",
   "execution_count": 84,
   "metadata": {},
   "outputs": [],
   "source": [
    "from sklearn.preprocessing import PowerTransformer\n",
    "from scipy.stats import yeojohnson"
   ]
  },
  {
   "cell_type": "code",
   "execution_count": 87,
   "metadata": {},
   "outputs": [
    {
     "data": {
      "image/png": "[encoded data removed]",
      "text/plain": [
       "<Figure size 1080x864 with 4 Axes>"
      ]
     },
     "metadata": {
      "needs_background": "light"
     },
     "output_type": "display_data"
    }
   ],
   "source": [
    "#Checking the plots for different transformations\n",
    "\n",
    "plt.figure(figsize=(15, 12))\n",
    "\n",
    "plt.subplot(2, 2, 1)\n",
    "plt.title(\"Box-Cox\")\n",
    "pt = PowerTransformer(method='box-cox')\n",
    "#Using pd.DataFrame as the input needs to be of the shape (n, 1) and not (n, )\n",
    "sns.distplot(pt.fit_transform(pd.DataFrame(train_df['Item_Outlet_Sales'])), hist=False)\n",
    "\n",
    "plt.subplot(2, 2, 2)\n",
    "plt.title(\"Log\")\n",
    "sns.distplot(np.log1p(train_df['Item_Outlet_Sales']), hist=False)\n",
    "\n",
    "plt.subplot(2, 2, 3)\n",
    "plt.title(\"Square-root\")\n",
    "sns.distplot(train_df['Item_Outlet_Sales']**(1/2), hist=False)\n",
    "\n",
    "plt.subplot(2, 2, 4)\n",
    "plt.title(\"Yeo-johnson\")\n",
    "yf_target, lam = yeojohnson(train_df['Item_Outlet_Sales'])\n",
    "sns.distplot(yf_target, hist=False)\n",
    "\n",
    "\n",
    "plt.show()"
   ]
  },
  {
   "cell_type": "markdown",
   "metadata": {},
   "source": [
    "Box-cox and yeo-johnson transformations appear to yield the best transformations. I'll use the box-cox transformation to modify the target variable."
   ]
  },
  {
   "cell_type": "code",
   "execution_count": 88,
   "metadata": {},
   "outputs": [],
   "source": [
    "#Transforming the target variable\n",
    "train_df['Item_Outlet_Sales'] = pt.fit_transform(pd.DataFrame(train_df['Item_Outlet_Sales']))"
   ]
  },
  {
   "cell_type": "code",
   "execution_count": 89,
   "metadata": {
    "scrolled": true
   },
   "outputs": [
    {
     "data": {
      "text/html": [
       "<div>\n",
       "<style scoped>\n",
       "    .dataframe tbody tr th:only-of-type {\n",
       "        vertical-align: middle;\n",
       "    }\n",
       "\n",
       "    .dataframe tbody tr th {\n",
       "        vertical-align: top;\n",
       "    }\n",
       "\n",
       "    .dataframe thead th {\n",
       "        text-align: right;\n",
       "    }\n",
       "</style>\n",
       "<table border=\"1\" class=\"dataframe\">\n",
       "  <thead>\n",
       "    <tr style=\"text-align: right;\">\n",
       "      <th></th>\n",
       "      <th>Item_Identifier</th>\n",
       "      <th>Item_Weight</th>\n",
       "      <th>Item_Fat_Content</th>\n",
       "      <th>Item_Visibility</th>\n",
       "      <th>Item_Type</th>\n",
       "      <th>Item_MRP</th>\n",
       "      <th>Outlet_Identifier</th>\n",
       "      <th>Outlet_Establishment_Year</th>\n",
       "      <th>Outlet_Size</th>\n",
       "      <th>Outlet_Location_Type</th>\n",
       "      <th>Outlet_Type</th>\n",
       "      <th>Item_Outlet_Sales</th>\n",
       "    </tr>\n",
       "  </thead>\n",
       "  <tbody>\n",
       "    <tr>\n",
       "      <th>0</th>\n",
       "      <td>FD</td>\n",
       "      <td>9.300</td>\n",
       "      <td>Low Fat</td>\n",
       "      <td>0.017047</td>\n",
       "      <td>Dairy</td>\n",
       "      <td>249.8092</td>\n",
       "      <td>OUT049</td>\n",
       "      <td>11</td>\n",
       "      <td>Medium</td>\n",
       "      <td>Tier 1</td>\n",
       "      <td>Supermarket Type1</td>\n",
       "      <td>0.984978</td>\n",
       "    </tr>\n",
       "    <tr>\n",
       "      <th>1</th>\n",
       "      <td>DR</td>\n",
       "      <td>5.920</td>\n",
       "      <td>Regular</td>\n",
       "      <td>0.020278</td>\n",
       "      <td>Soft Drinks</td>\n",
       "      <td>48.2692</td>\n",
       "      <td>OUT018</td>\n",
       "      <td>1</td>\n",
       "      <td>Medium</td>\n",
       "      <td>Tier 3</td>\n",
       "      <td>Supermarket Type2</td>\n",
       "      <td>-1.217837</td>\n",
       "    </tr>\n",
       "    <tr>\n",
       "      <th>2</th>\n",
       "      <td>FD</td>\n",
       "      <td>17.500</td>\n",
       "      <td>Low Fat</td>\n",
       "      <td>0.017760</td>\n",
       "      <td>Meat</td>\n",
       "      <td>141.6180</td>\n",
       "      <td>OUT049</td>\n",
       "      <td>11</td>\n",
       "      <td>Medium</td>\n",
       "      <td>Tier 1</td>\n",
       "      <td>Supermarket Type1</td>\n",
       "      <td>0.220282</td>\n",
       "    </tr>\n",
       "    <tr>\n",
       "      <th>3</th>\n",
       "      <td>FD</td>\n",
       "      <td>19.200</td>\n",
       "      <td>Regular</td>\n",
       "      <td>0.001000</td>\n",
       "      <td>Fruits and Vegetables</td>\n",
       "      <td>182.0950</td>\n",
       "      <td>OUT010</td>\n",
       "      <td>12</td>\n",
       "      <td>Small</td>\n",
       "      <td>Tier 3</td>\n",
       "      <td>Grocery Store</td>\n",
       "      <td>-0.834969</td>\n",
       "    </tr>\n",
       "    <tr>\n",
       "      <th>4</th>\n",
       "      <td>NC</td>\n",
       "      <td>8.930</td>\n",
       "      <td>Low Fat</td>\n",
       "      <td>0.001000</td>\n",
       "      <td>Household</td>\n",
       "      <td>53.8614</td>\n",
       "      <td>OUT013</td>\n",
       "      <td>23</td>\n",
       "      <td>High</td>\n",
       "      <td>Tier 3</td>\n",
       "      <td>Supermarket Type1</td>\n",
       "      <td>-0.566490</td>\n",
       "    </tr>\n",
       "    <tr>\n",
       "      <th>5</th>\n",
       "      <td>FD</td>\n",
       "      <td>10.395</td>\n",
       "      <td>Regular</td>\n",
       "      <td>0.001000</td>\n",
       "      <td>Baking Goods</td>\n",
       "      <td>51.4008</td>\n",
       "      <td>OUT018</td>\n",
       "      <td>1</td>\n",
       "      <td>Medium</td>\n",
       "      <td>Tier 3</td>\n",
       "      <td>Supermarket Type2</td>\n",
       "      <td>-1.052591</td>\n",
       "    </tr>\n",
       "    <tr>\n",
       "      <th>6</th>\n",
       "      <td>FD</td>\n",
       "      <td>13.650</td>\n",
       "      <td>Regular</td>\n",
       "      <td>0.013741</td>\n",
       "      <td>Snack Foods</td>\n",
       "      <td>57.6588</td>\n",
       "      <td>OUT013</td>\n",
       "      <td>23</td>\n",
       "      <td>High</td>\n",
       "      <td>Tier 3</td>\n",
       "      <td>Supermarket Type1</td>\n",
       "      <td>-1.388458</td>\n",
       "    </tr>\n",
       "    <tr>\n",
       "      <th>7</th>\n",
       "      <td>FD</td>\n",
       "      <td>19.000</td>\n",
       "      <td>Low Fat</td>\n",
       "      <td>0.128470</td>\n",
       "      <td>Snack Foods</td>\n",
       "      <td>107.7622</td>\n",
       "      <td>OUT027</td>\n",
       "      <td>25</td>\n",
       "      <td>Medium</td>\n",
       "      <td>Tier 3</td>\n",
       "      <td>Supermarket Type3</td>\n",
       "      <td>1.094830</td>\n",
       "    </tr>\n",
       "    <tr>\n",
       "      <th>8</th>\n",
       "      <td>FD</td>\n",
       "      <td>16.200</td>\n",
       "      <td>Regular</td>\n",
       "      <td>0.017687</td>\n",
       "      <td>Frozen Foods</td>\n",
       "      <td>96.9726</td>\n",
       "      <td>OUT045</td>\n",
       "      <td>8</td>\n",
       "      <td>Small</td>\n",
       "      <td>Tier 2</td>\n",
       "      <td>Supermarket Type1</td>\n",
       "      <td>-0.492352</td>\n",
       "    </tr>\n",
       "    <tr>\n",
       "      <th>9</th>\n",
       "      <td>FD</td>\n",
       "      <td>19.200</td>\n",
       "      <td>Regular</td>\n",
       "      <td>0.095450</td>\n",
       "      <td>Frozen Foods</td>\n",
       "      <td>187.8214</td>\n",
       "      <td>OUT017</td>\n",
       "      <td>3</td>\n",
       "      <td>Small</td>\n",
       "      <td>Tier 2</td>\n",
       "      <td>Supermarket Type1</td>\n",
       "      <td>1.338156</td>\n",
       "    </tr>\n",
       "  </tbody>\n",
       "</table>\n",
       "</div>"
      ],
      "text/plain": [
       "  Item_Identifier  Item_Weight Item_Fat_Content  Item_Visibility  \\\n",
       "0              FD        9.300          Low Fat         0.017047   \n",
       "1              DR        5.920          Regular         0.020278   \n",
       "2              FD       17.500          Low Fat         0.017760   \n",
       "3              FD       19.200          Regular         0.001000   \n",
       "4              NC        8.930          Low Fat         0.001000   \n",
       "5              FD       10.395          Regular         0.001000   \n",
       "6              FD       13.650          Regular         0.013741   \n",
       "7              FD       19.000          Low Fat         0.128470   \n",
       "8              FD       16.200          Regular         0.017687   \n",
       "9              FD       19.200          Regular         0.095450   \n",
       "\n",
       "               Item_Type  Item_MRP Outlet_Identifier  \\\n",
       "0                  Dairy  249.8092            OUT049   \n",
       "1            Soft Drinks   48.2692            OUT018   \n",
       "2                   Meat  141.6180            OUT049   \n",
       "3  Fruits and Vegetables  182.0950            OUT010   \n",
       "4              Household   53.8614            OUT013   \n",
       "5           Baking Goods   51.4008            OUT018   \n",
       "6            Snack Foods   57.6588            OUT013   \n",
       "7            Snack Foods  107.7622            OUT027   \n",
       "8           Frozen Foods   96.9726            OUT045   \n",
       "9           Frozen Foods  187.8214            OUT017   \n",
       "\n",
       "   Outlet_Establishment_Year Outlet_Size Outlet_Location_Type  \\\n",
       "0                         11      Medium               Tier 1   \n",
       "1                          1      Medium               Tier 3   \n",
       "2                         11      Medium               Tier 1   \n",
       "3                         12       Small               Tier 3   \n",
       "4                         23        High               Tier 3   \n",
       "5                          1      Medium               Tier 3   \n",
       "6                         23        High               Tier 3   \n",
       "7                         25      Medium               Tier 3   \n",
       "8                          8       Small               Tier 2   \n",
       "9                          3       Small               Tier 2   \n",
       "\n",
       "         Outlet_Type  Item_Outlet_Sales  \n",
       "0  Supermarket Type1           0.984978  \n",
       "1  Supermarket Type2          -1.217837  \n",
       "2  Supermarket Type1           0.220282  \n",
       "3      Grocery Store          -0.834969  \n",
       "4  Supermarket Type1          -0.566490  \n",
       "5  Supermarket Type2          -1.052591  \n",
       "6  Supermarket Type1          -1.388458  \n",
       "7  Supermarket Type3           1.094830  \n",
       "8  Supermarket Type1          -0.492352  \n",
       "9  Supermarket Type1           1.338156  "
      ]
     },
     "execution_count": 89,
     "metadata": {},
     "output_type": "execute_result"
    }
   ],
   "source": [
    "train_df.head(10)"
   ]
  },
  {
   "cell_type": "markdown",
   "metadata": {},
   "source": [
    "### Encoding Categorical Data"
   ]
  },
  {
   "cell_type": "code",
   "execution_count": 90,
   "metadata": {},
   "outputs": [],
   "source": [
    "#Creating an object of the OneHotEncoder class\n",
    "enc = OneHotEncoder()"
   ]
  },
  {
   "cell_type": "code",
   "execution_count": 91,
   "metadata": {},
   "outputs": [],
   "source": [
    "#Using OneHotEncoder for variables with four levels or fewer\n",
    "\n",
    "onehotlabels = enc.fit_transform(train_df[['Item_Identifier', 'Item_Fat_Content', 'Outlet_Size', \n",
    "                                           'Outlet_Location_Type', 'Outlet_Type']])\n",
    "\n",
    "\n",
    "#Using the original column names to make the encoded columns easier to read\n",
    "\n",
    "col_names = enc.get_feature_names(['Item_Identifier', 'Item_Fat_Content', 'Outlet_Size', \n",
    "                                   'Outlet_Location_Type', 'Outlet_Type'])"
   ]
  },
  {
   "cell_type": "code",
   "execution_count": 92,
   "metadata": {},
   "outputs": [
    {
     "data": {
      "text/plain": [
       "Index(['Item_Identifier_DR', 'Item_Identifier_FD', 'Item_Identifier_NC',\n",
       "       'Item_Fat_Content_Low Fat', 'Item_Fat_Content_Regular',\n",
       "       'Outlet_Size_High', 'Outlet_Size_Medium', 'Outlet_Size_Small',\n",
       "       'Outlet_Location_Type_Tier 1', 'Outlet_Location_Type_Tier 2',\n",
       "       'Outlet_Location_Type_Tier 3', 'Outlet_Type_Grocery Store',\n",
       "       'Outlet_Type_Supermarket Type1', 'Outlet_Type_Supermarket Type2',\n",
       "       'Outlet_Type_Supermarket Type3'],\n",
       "      dtype='object')"
      ]
     },
     "execution_count": 92,
     "metadata": {},
     "output_type": "execute_result"
    }
   ],
   "source": [
    "#Converting the encoded columns into a dataframe\n",
    "\n",
    "encoded_columns = pd.DataFrame(onehotlabels.toarray().astype(int), columns = col_names)\n",
    "encoded_columns.columns"
   ]
  },
  {
   "cell_type": "code",
   "execution_count": 93,
   "metadata": {},
   "outputs": [],
   "source": [
    "#Dropping some columns since we only need n-1 columns to represent n levels\n",
    "\n",
    "encoded_columns = encoded_columns.drop(['Item_Identifier_NC', 'Item_Fat_Content_Low Fat', 'Outlet_Size_High', \n",
    "                                       'Outlet_Location_Type_Tier 1', 'Outlet_Type_Supermarket Type2'], axis =1)"
   ]
  },
  {
   "cell_type": "code",
   "execution_count": 94,
   "metadata": {},
   "outputs": [
    {
     "name": "stdout",
     "output_type": "stream",
     "text": [
      "Shape of encoded columns:\n",
      " (8523, 10)\n",
      "\n",
      "\n",
      "Shape of original train set: \n",
      " (8523, 12)\n"
     ]
    }
   ],
   "source": [
    "print(\"Shape of encoded columns:\\n\", encoded_columns.shape)\n",
    "print(\"\\n\")\n",
    "print(\"Shape of original train set: \\n\", train_df.shape)"
   ]
  },
  {
   "cell_type": "markdown",
   "metadata": {},
   "source": [
    "Merging these encoded columns with the original dataframe"
   ]
  },
  {
   "cell_type": "code",
   "execution_count": 95,
   "metadata": {},
   "outputs": [],
   "source": [
    "train_df = pd.concat([train_df, encoded_columns], axis = 1)"
   ]
  },
  {
   "cell_type": "code",
   "execution_count": 96,
   "metadata": {},
   "outputs": [],
   "source": [
    "#Dropping the columns that have been encoded\n",
    "train_df = train_df.drop(['Item_Identifier', 'Item_Fat_Content', 'Outlet_Size', 'Outlet_Location_Type', \n",
    "                          'Outlet_Type'], axis = 1)"
   ]
  },
  {
   "cell_type": "code",
   "execution_count": 97,
   "metadata": {},
   "outputs": [
    {
     "data": {
      "text/plain": [
       "(8523, 17)"
      ]
     },
     "execution_count": 97,
     "metadata": {},
     "output_type": "execute_result"
    }
   ],
   "source": [
    "train_df.shape"
   ]
  },
  {
   "cell_type": "markdown",
   "metadata": {},
   "source": [
    "#### Encoding the Outlet_Identifier column"
   ]
  },
  {
   "cell_type": "code",
   "execution_count": 98,
   "metadata": {},
   "outputs": [
    {
     "data": {
      "text/plain": [
       "10"
      ]
     },
     "execution_count": 98,
     "metadata": {},
     "output_type": "execute_result"
    }
   ],
   "source": [
    "#Checking the number of outlet identifiers\n",
    "len(train_df['Outlet_Identifier'].unique())"
   ]
  },
  {
   "cell_type": "markdown",
   "metadata": {},
   "source": [
    "I'll use feature hashing to encode this column, as there will be too many variables if I use one hot encoding."
   ]
  },
  {
   "cell_type": "markdown",
   "metadata": {},
   "source": [
    "https://medium.com/flutter-community/dealing-with-categorical-features-with-high-cardinality-feature-hashing-7c406ff867cb"
   ]
  },
  {
   "cell_type": "code",
   "execution_count": 99,
   "metadata": {},
   "outputs": [],
   "source": [
    "#Instantiating the FeatureHasher class for the Outlet_Identifier column with number of output featuers = 4\n",
    "fh_OI = FeatureHasher(n_features = 4, input_type='string')\n",
    "\n",
    "#Transforming the column Outlet_Identifier\n",
    "hashed_features_OI = fh_OI.fit_transform(train_df['Outlet_Identifier'])"
   ]
  },
  {
   "cell_type": "code",
   "execution_count": 100,
   "metadata": {},
   "outputs": [],
   "source": [
    "#Converting the hash columns to an array\n",
    "hashed_features_OI = hashed_features_OI.toarray()\n",
    "\n",
    "#Concatenating the hash columns with the original dataframe\n",
    "train_df = pd.concat([train_df, pd.DataFrame(hashed_features_OI)], axis = 1)\n",
    "\n",
    "#Dropping the original column\n",
    "train_df = train_df.drop(['Outlet_Identifier'], axis = 1)"
   ]
  },
  {
   "cell_type": "code",
   "execution_count": 101,
   "metadata": {},
   "outputs": [
    {
     "data": {
      "text/html": [
       "<div>\n",
       "<style scoped>\n",
       "    .dataframe tbody tr th:only-of-type {\n",
       "        vertical-align: middle;\n",
       "    }\n",
       "\n",
       "    .dataframe tbody tr th {\n",
       "        vertical-align: top;\n",
       "    }\n",
       "\n",
       "    .dataframe thead th {\n",
       "        text-align: right;\n",
       "    }\n",
       "</style>\n",
       "<table border=\"1\" class=\"dataframe\">\n",
       "  <thead>\n",
       "    <tr style=\"text-align: right;\">\n",
       "      <th></th>\n",
       "      <th>Item_Weight</th>\n",
       "      <th>Item_Visibility</th>\n",
       "      <th>Item_Type</th>\n",
       "      <th>Item_MRP</th>\n",
       "      <th>Outlet_Establishment_Year</th>\n",
       "      <th>Item_Outlet_Sales</th>\n",
       "      <th>Item_Identifier_DR</th>\n",
       "      <th>Item_Identifier_FD</th>\n",
       "      <th>Item_Fat_Content_Regular</th>\n",
       "      <th>Outlet_Size_Medium</th>\n",
       "      <th>Outlet_Size_Small</th>\n",
       "      <th>Outlet_Location_Type_Tier 2</th>\n",
       "      <th>Outlet_Location_Type_Tier 3</th>\n",
       "      <th>Outlet_Type_Grocery Store</th>\n",
       "      <th>Outlet_Type_Supermarket Type1</th>\n",
       "      <th>Outlet_Type_Supermarket Type3</th>\n",
       "      <th>0</th>\n",
       "      <th>1</th>\n",
       "      <th>2</th>\n",
       "      <th>3</th>\n",
       "    </tr>\n",
       "  </thead>\n",
       "  <tbody>\n",
       "    <tr>\n",
       "      <th>0</th>\n",
       "      <td>9.30</td>\n",
       "      <td>0.017047</td>\n",
       "      <td>Dairy</td>\n",
       "      <td>249.8092</td>\n",
       "      <td>11</td>\n",
       "      <td>0.984978</td>\n",
       "      <td>0</td>\n",
       "      <td>1</td>\n",
       "      <td>0</td>\n",
       "      <td>1</td>\n",
       "      <td>0</td>\n",
       "      <td>0</td>\n",
       "      <td>0</td>\n",
       "      <td>0</td>\n",
       "      <td>1</td>\n",
       "      <td>0</td>\n",
       "      <td>-1.0</td>\n",
       "      <td>-1.0</td>\n",
       "      <td>0.0</td>\n",
       "      <td>0.0</td>\n",
       "    </tr>\n",
       "    <tr>\n",
       "      <th>1</th>\n",
       "      <td>5.92</td>\n",
       "      <td>0.020278</td>\n",
       "      <td>Soft Drinks</td>\n",
       "      <td>48.2692</td>\n",
       "      <td>1</td>\n",
       "      <td>-1.217837</td>\n",
       "      <td>1</td>\n",
       "      <td>0</td>\n",
       "      <td>1</td>\n",
       "      <td>1</td>\n",
       "      <td>0</td>\n",
       "      <td>0</td>\n",
       "      <td>1</td>\n",
       "      <td>0</td>\n",
       "      <td>0</td>\n",
       "      <td>0</td>\n",
       "      <td>0.0</td>\n",
       "      <td>-4.0</td>\n",
       "      <td>0.0</td>\n",
       "      <td>0.0</td>\n",
       "    </tr>\n",
       "    <tr>\n",
       "      <th>2</th>\n",
       "      <td>17.50</td>\n",
       "      <td>0.017760</td>\n",
       "      <td>Meat</td>\n",
       "      <td>141.6180</td>\n",
       "      <td>11</td>\n",
       "      <td>0.220282</td>\n",
       "      <td>0</td>\n",
       "      <td>1</td>\n",
       "      <td>0</td>\n",
       "      <td>1</td>\n",
       "      <td>0</td>\n",
       "      <td>0</td>\n",
       "      <td>0</td>\n",
       "      <td>0</td>\n",
       "      <td>1</td>\n",
       "      <td>0</td>\n",
       "      <td>-1.0</td>\n",
       "      <td>-1.0</td>\n",
       "      <td>0.0</td>\n",
       "      <td>0.0</td>\n",
       "    </tr>\n",
       "    <tr>\n",
       "      <th>3</th>\n",
       "      <td>19.20</td>\n",
       "      <td>0.001000</td>\n",
       "      <td>Fruits and Vegetables</td>\n",
       "      <td>182.0950</td>\n",
       "      <td>12</td>\n",
       "      <td>-0.834969</td>\n",
       "      <td>0</td>\n",
       "      <td>1</td>\n",
       "      <td>1</td>\n",
       "      <td>0</td>\n",
       "      <td>1</td>\n",
       "      <td>0</td>\n",
       "      <td>1</td>\n",
       "      <td>1</td>\n",
       "      <td>0</td>\n",
       "      <td>0</td>\n",
       "      <td>0.0</td>\n",
       "      <td>-4.0</td>\n",
       "      <td>0.0</td>\n",
       "      <td>0.0</td>\n",
       "    </tr>\n",
       "    <tr>\n",
       "      <th>4</th>\n",
       "      <td>8.93</td>\n",
       "      <td>0.001000</td>\n",
       "      <td>Household</td>\n",
       "      <td>53.8614</td>\n",
       "      <td>23</td>\n",
       "      <td>-0.566490</td>\n",
       "      <td>0</td>\n",
       "      <td>0</td>\n",
       "      <td>0</td>\n",
       "      <td>0</td>\n",
       "      <td>0</td>\n",
       "      <td>0</td>\n",
       "      <td>1</td>\n",
       "      <td>0</td>\n",
       "      <td>1</td>\n",
       "      <td>0</td>\n",
       "      <td>1.0</td>\n",
       "      <td>-3.0</td>\n",
       "      <td>0.0</td>\n",
       "      <td>0.0</td>\n",
       "    </tr>\n",
       "  </tbody>\n",
       "</table>\n",
       "</div>"
      ],
      "text/plain": [
       "   Item_Weight  Item_Visibility              Item_Type  Item_MRP  \\\n",
       "0         9.30         0.017047                  Dairy  249.8092   \n",
       "1         5.92         0.020278            Soft Drinks   48.2692   \n",
       "2        17.50         0.017760                   Meat  141.6180   \n",
       "3        19.20         0.001000  Fruits and Vegetables  182.0950   \n",
       "4         8.93         0.001000              Household   53.8614   \n",
       "\n",
       "   Outlet_Establishment_Year  Item_Outlet_Sales  Item_Identifier_DR  \\\n",
       "0                         11           0.984978                   0   \n",
       "1                          1          -1.217837                   1   \n",
       "2                         11           0.220282                   0   \n",
       "3                         12          -0.834969                   0   \n",
       "4                         23          -0.566490                   0   \n",
       "\n",
       "   Item_Identifier_FD  Item_Fat_Content_Regular  Outlet_Size_Medium  \\\n",
       "0                   1                         0                   1   \n",
       "1                   0                         1                   1   \n",
       "2                   1                         0                   1   \n",
       "3                   1                         1                   0   \n",
       "4                   0                         0                   0   \n",
       "\n",
       "   Outlet_Size_Small  Outlet_Location_Type_Tier 2  \\\n",
       "0                  0                            0   \n",
       "1                  0                            0   \n",
       "2                  0                            0   \n",
       "3                  1                            0   \n",
       "4                  0                            0   \n",
       "\n",
       "   Outlet_Location_Type_Tier 3  Outlet_Type_Grocery Store  \\\n",
       "0                            0                          0   \n",
       "1                            1                          0   \n",
       "2                            0                          0   \n",
       "3                            1                          1   \n",
       "4                            1                          0   \n",
       "\n",
       "   Outlet_Type_Supermarket Type1  Outlet_Type_Supermarket Type3    0    1  \\\n",
       "0                              1                              0 -1.0 -1.0   \n",
       "1                              0                              0  0.0 -4.0   \n",
       "2                              1                              0 -1.0 -1.0   \n",
       "3                              0                              0  0.0 -4.0   \n",
       "4                              1                              0  1.0 -3.0   \n",
       "\n",
       "     2    3  \n",
       "0  0.0  0.0  \n",
       "1  0.0  0.0  \n",
       "2  0.0  0.0  \n",
       "3  0.0  0.0  \n",
       "4  0.0  0.0  "
      ]
     },
     "execution_count": 101,
     "metadata": {},
     "output_type": "execute_result"
    }
   ],
   "source": [
    "train_df.head()"
   ]
  },
  {
   "cell_type": "markdown",
   "metadata": {},
   "source": [
    "I'll change the hashed column names to something more meaningful."
   ]
  },
  {
   "cell_type": "code",
   "execution_count": 102,
   "metadata": {
    "scrolled": false
   },
   "outputs": [],
   "source": [
    "#Renaming the columns using a dictioanry\n",
    "train_df.rename(columns = {0: 'Out_ID_H0', 1: 'Out_ID_H1', 2: 'Out_ID_H2', 3: 'Out_ID_H3'}, inplace=True)"
   ]
  },
  {
   "cell_type": "markdown",
   "metadata": {},
   "source": [
    "#### Encoding the Item_Type column"
   ]
  },
  {
   "cell_type": "code",
   "execution_count": 103,
   "metadata": {},
   "outputs": [
    {
     "data": {
      "text/plain": [
       "16"
      ]
     },
     "execution_count": 103,
     "metadata": {},
     "output_type": "execute_result"
    }
   ],
   "source": [
    "#Checking the number of item types\n",
    "len(train_df['Item_Type'].unique())"
   ]
  },
  {
   "cell_type": "markdown",
   "metadata": {},
   "source": [
    "Using feature hasher again, as there are too many categories for one hot encoding."
   ]
  },
  {
   "cell_type": "code",
   "execution_count": 104,
   "metadata": {},
   "outputs": [],
   "source": [
    "#Instantiating the FeatureHasher class for the Outlet_Identifier column with number of output featuers = 4\n",
    "fh_IT = FeatureHasher(n_features = 4, input_type='string')\n",
    "\n",
    "#Transforming the Item_Type column\n",
    "hashed_features_IT = fh_IT.fit_transform(train_df['Item_Type'])"
   ]
  },
  {
   "cell_type": "code",
   "execution_count": 105,
   "metadata": {},
   "outputs": [],
   "source": [
    "#Converting the hash columns to an array\n",
    "hashed_features_IT = hashed_features_IT.toarray()\n",
    "\n",
    "#Concatenating the hash columns with the original dataframe\n",
    "train_df = pd.concat([train_df, pd.DataFrame(hashed_features_IT)], axis = 1)\n",
    "\n",
    "#Dropping the original column\n",
    "train_df = train_df.drop(['Item_Type'], axis = 1)"
   ]
  },
  {
   "cell_type": "code",
   "execution_count": 106,
   "metadata": {},
   "outputs": [
    {
     "data": {
      "text/html": [
       "<div>\n",
       "<style scoped>\n",
       "    .dataframe tbody tr th:only-of-type {\n",
       "        vertical-align: middle;\n",
       "    }\n",
       "\n",
       "    .dataframe tbody tr th {\n",
       "        vertical-align: top;\n",
       "    }\n",
       "\n",
       "    .dataframe thead th {\n",
       "        text-align: right;\n",
       "    }\n",
       "</style>\n",
       "<table border=\"1\" class=\"dataframe\">\n",
       "  <thead>\n",
       "    <tr style=\"text-align: right;\">\n",
       "      <th></th>\n",
       "      <th>Item_Weight</th>\n",
       "      <th>Item_Visibility</th>\n",
       "      <th>Item_MRP</th>\n",
       "      <th>Outlet_Establishment_Year</th>\n",
       "      <th>Item_Outlet_Sales</th>\n",
       "      <th>Item_Identifier_DR</th>\n",
       "      <th>Item_Identifier_FD</th>\n",
       "      <th>Item_Fat_Content_Regular</th>\n",
       "      <th>Outlet_Size_Medium</th>\n",
       "      <th>Outlet_Size_Small</th>\n",
       "      <th>...</th>\n",
       "      <th>Outlet_Type_Supermarket Type1</th>\n",
       "      <th>Outlet_Type_Supermarket Type3</th>\n",
       "      <th>Out_ID_H0</th>\n",
       "      <th>Out_ID_H1</th>\n",
       "      <th>Out_ID_H2</th>\n",
       "      <th>Out_ID_H3</th>\n",
       "      <th>0</th>\n",
       "      <th>1</th>\n",
       "      <th>2</th>\n",
       "      <th>3</th>\n",
       "    </tr>\n",
       "  </thead>\n",
       "  <tbody>\n",
       "    <tr>\n",
       "      <th>0</th>\n",
       "      <td>9.30</td>\n",
       "      <td>0.017047</td>\n",
       "      <td>249.8092</td>\n",
       "      <td>11</td>\n",
       "      <td>0.984978</td>\n",
       "      <td>0</td>\n",
       "      <td>1</td>\n",
       "      <td>0</td>\n",
       "      <td>1</td>\n",
       "      <td>0</td>\n",
       "      <td>...</td>\n",
       "      <td>1</td>\n",
       "      <td>0</td>\n",
       "      <td>-1.0</td>\n",
       "      <td>-1.0</td>\n",
       "      <td>0.0</td>\n",
       "      <td>0.0</td>\n",
       "      <td>0.0</td>\n",
       "      <td>0.0</td>\n",
       "      <td>3.0</td>\n",
       "      <td>0.0</td>\n",
       "    </tr>\n",
       "    <tr>\n",
       "      <th>1</th>\n",
       "      <td>5.92</td>\n",
       "      <td>0.020278</td>\n",
       "      <td>48.2692</td>\n",
       "      <td>1</td>\n",
       "      <td>-1.217837</td>\n",
       "      <td>1</td>\n",
       "      <td>0</td>\n",
       "      <td>1</td>\n",
       "      <td>1</td>\n",
       "      <td>0</td>\n",
       "      <td>...</td>\n",
       "      <td>0</td>\n",
       "      <td>0</td>\n",
       "      <td>0.0</td>\n",
       "      <td>-4.0</td>\n",
       "      <td>0.0</td>\n",
       "      <td>0.0</td>\n",
       "      <td>-1.0</td>\n",
       "      <td>0.0</td>\n",
       "      <td>1.0</td>\n",
       "      <td>-1.0</td>\n",
       "    </tr>\n",
       "    <tr>\n",
       "      <th>2</th>\n",
       "      <td>17.50</td>\n",
       "      <td>0.017760</td>\n",
       "      <td>141.6180</td>\n",
       "      <td>11</td>\n",
       "      <td>0.220282</td>\n",
       "      <td>0</td>\n",
       "      <td>1</td>\n",
       "      <td>0</td>\n",
       "      <td>1</td>\n",
       "      <td>0</td>\n",
       "      <td>...</td>\n",
       "      <td>1</td>\n",
       "      <td>0</td>\n",
       "      <td>-1.0</td>\n",
       "      <td>-1.0</td>\n",
       "      <td>0.0</td>\n",
       "      <td>0.0</td>\n",
       "      <td>0.0</td>\n",
       "      <td>0.0</td>\n",
       "      <td>2.0</td>\n",
       "      <td>0.0</td>\n",
       "    </tr>\n",
       "    <tr>\n",
       "      <th>3</th>\n",
       "      <td>19.20</td>\n",
       "      <td>0.001000</td>\n",
       "      <td>182.0950</td>\n",
       "      <td>12</td>\n",
       "      <td>-0.834969</td>\n",
       "      <td>0</td>\n",
       "      <td>1</td>\n",
       "      <td>1</td>\n",
       "      <td>0</td>\n",
       "      <td>1</td>\n",
       "      <td>...</td>\n",
       "      <td>0</td>\n",
       "      <td>0</td>\n",
       "      <td>0.0</td>\n",
       "      <td>-4.0</td>\n",
       "      <td>0.0</td>\n",
       "      <td>0.0</td>\n",
       "      <td>3.0</td>\n",
       "      <td>-1.0</td>\n",
       "      <td>0.0</td>\n",
       "      <td>1.0</td>\n",
       "    </tr>\n",
       "    <tr>\n",
       "      <th>4</th>\n",
       "      <td>8.93</td>\n",
       "      <td>0.001000</td>\n",
       "      <td>53.8614</td>\n",
       "      <td>23</td>\n",
       "      <td>-0.566490</td>\n",
       "      <td>0</td>\n",
       "      <td>0</td>\n",
       "      <td>0</td>\n",
       "      <td>0</td>\n",
       "      <td>0</td>\n",
       "      <td>...</td>\n",
       "      <td>1</td>\n",
       "      <td>0</td>\n",
       "      <td>1.0</td>\n",
       "      <td>-3.0</td>\n",
       "      <td>0.0</td>\n",
       "      <td>0.0</td>\n",
       "      <td>2.0</td>\n",
       "      <td>0.0</td>\n",
       "      <td>0.0</td>\n",
       "      <td>3.0</td>\n",
       "    </tr>\n",
       "  </tbody>\n",
       "</table>\n",
       "<p>5 rows × 23 columns</p>\n",
       "</div>"
      ],
      "text/plain": [
       "   Item_Weight  Item_Visibility  Item_MRP  Outlet_Establishment_Year  \\\n",
       "0         9.30         0.017047  249.8092                         11   \n",
       "1         5.92         0.020278   48.2692                          1   \n",
       "2        17.50         0.017760  141.6180                         11   \n",
       "3        19.20         0.001000  182.0950                         12   \n",
       "4         8.93         0.001000   53.8614                         23   \n",
       "\n",
       "   Item_Outlet_Sales  Item_Identifier_DR  Item_Identifier_FD  \\\n",
       "0           0.984978                   0                   1   \n",
       "1          -1.217837                   1                   0   \n",
       "2           0.220282                   0                   1   \n",
       "3          -0.834969                   0                   1   \n",
       "4          -0.566490                   0                   0   \n",
       "\n",
       "   Item_Fat_Content_Regular  Outlet_Size_Medium  Outlet_Size_Small  ...  \\\n",
       "0                         0                   1                  0  ...   \n",
       "1                         1                   1                  0  ...   \n",
       "2                         0                   1                  0  ...   \n",
       "3                         1                   0                  1  ...   \n",
       "4                         0                   0                  0  ...   \n",
       "\n",
       "   Outlet_Type_Supermarket Type1  Outlet_Type_Supermarket Type3  Out_ID_H0  \\\n",
       "0                              1                              0       -1.0   \n",
       "1                              0                              0        0.0   \n",
       "2                              1                              0       -1.0   \n",
       "3                              0                              0        0.0   \n",
       "4                              1                              0        1.0   \n",
       "\n",
       "   Out_ID_H1  Out_ID_H2  Out_ID_H3    0    1    2    3  \n",
       "0       -1.0        0.0        0.0  0.0  0.0  3.0  0.0  \n",
       "1       -4.0        0.0        0.0 -1.0  0.0  1.0 -1.0  \n",
       "2       -1.0        0.0        0.0  0.0  0.0  2.0  0.0  \n",
       "3       -4.0        0.0        0.0  3.0 -1.0  0.0  1.0  \n",
       "4       -3.0        0.0        0.0  2.0  0.0  0.0  3.0  \n",
       "\n",
       "[5 rows x 23 columns]"
      ]
     },
     "execution_count": 106,
     "metadata": {},
     "output_type": "execute_result"
    }
   ],
   "source": [
    "train_df.head()"
   ]
  },
  {
   "cell_type": "code",
   "execution_count": 107,
   "metadata": {},
   "outputs": [],
   "source": [
    "#Renaming the columns using a dictioanry\n",
    "train_df.rename(columns = {0: 'IT_H0', 1: 'IT_H1', 2: 'IT_H2', 3: 'IT_H3'}, inplace=True)"
   ]
  },
  {
   "cell_type": "markdown",
   "metadata": {},
   "source": [
    "#### Moving the target variable column to the end"
   ]
  },
  {
   "cell_type": "code",
   "execution_count": 108,
   "metadata": {},
   "outputs": [
    {
     "data": {
      "text/plain": [
       "['Item_Weight',\n",
       " 'Item_Visibility',\n",
       " 'Item_MRP',\n",
       " 'Outlet_Establishment_Year',\n",
       " 'Item_Outlet_Sales',\n",
       " 'Item_Identifier_DR',\n",
       " 'Item_Identifier_FD',\n",
       " 'Item_Fat_Content_Regular',\n",
       " 'Outlet_Size_Medium',\n",
       " 'Outlet_Size_Small',\n",
       " 'Outlet_Location_Type_Tier 2',\n",
       " 'Outlet_Location_Type_Tier 3',\n",
       " 'Outlet_Type_Grocery Store',\n",
       " 'Outlet_Type_Supermarket Type1',\n",
       " 'Outlet_Type_Supermarket Type3',\n",
       " 'Out_ID_H0',\n",
       " 'Out_ID_H1',\n",
       " 'Out_ID_H2',\n",
       " 'Out_ID_H3',\n",
       " 'IT_H0',\n",
       " 'IT_H1',\n",
       " 'IT_H2',\n",
       " 'IT_H3']"
      ]
     },
     "execution_count": 108,
     "metadata": {},
     "output_type": "execute_result"
    }
   ],
   "source": [
    "#Getting a list of column names to rearrange them\n",
    "cols = train_df.columns.tolist()\n",
    "cols"
   ]
  },
  {
   "cell_type": "code",
   "execution_count": 109,
   "metadata": {},
   "outputs": [
    {
     "data": {
      "text/html": [
       "<div>\n",
       "<style scoped>\n",
       "    .dataframe tbody tr th:only-of-type {\n",
       "        vertical-align: middle;\n",
       "    }\n",
       "\n",
       "    .dataframe tbody tr th {\n",
       "        vertical-align: top;\n",
       "    }\n",
       "\n",
       "    .dataframe thead th {\n",
       "        text-align: right;\n",
       "    }\n",
       "</style>\n",
       "<table border=\"1\" class=\"dataframe\">\n",
       "  <thead>\n",
       "    <tr style=\"text-align: right;\">\n",
       "      <th></th>\n",
       "      <th>Item_Weight</th>\n",
       "      <th>Item_Visibility</th>\n",
       "      <th>Item_MRP</th>\n",
       "      <th>Outlet_Establishment_Year</th>\n",
       "      <th>Item_Identifier_DR</th>\n",
       "      <th>Item_Identifier_FD</th>\n",
       "      <th>Item_Fat_Content_Regular</th>\n",
       "      <th>Outlet_Size_Medium</th>\n",
       "      <th>Outlet_Size_Small</th>\n",
       "      <th>Outlet_Location_Type_Tier 2</th>\n",
       "      <th>...</th>\n",
       "      <th>Outlet_Type_Supermarket Type3</th>\n",
       "      <th>Out_ID_H0</th>\n",
       "      <th>Out_ID_H1</th>\n",
       "      <th>Out_ID_H2</th>\n",
       "      <th>Out_ID_H3</th>\n",
       "      <th>IT_H0</th>\n",
       "      <th>IT_H1</th>\n",
       "      <th>IT_H2</th>\n",
       "      <th>IT_H3</th>\n",
       "      <th>Item_Outlet_Sales</th>\n",
       "    </tr>\n",
       "  </thead>\n",
       "  <tbody>\n",
       "    <tr>\n",
       "      <th>0</th>\n",
       "      <td>9.30</td>\n",
       "      <td>0.017047</td>\n",
       "      <td>249.8092</td>\n",
       "      <td>11</td>\n",
       "      <td>0</td>\n",
       "      <td>1</td>\n",
       "      <td>0</td>\n",
       "      <td>1</td>\n",
       "      <td>0</td>\n",
       "      <td>0</td>\n",
       "      <td>...</td>\n",
       "      <td>0</td>\n",
       "      <td>-1.0</td>\n",
       "      <td>-1.0</td>\n",
       "      <td>0.0</td>\n",
       "      <td>0.0</td>\n",
       "      <td>0.0</td>\n",
       "      <td>0.0</td>\n",
       "      <td>3.0</td>\n",
       "      <td>0.0</td>\n",
       "      <td>0.984978</td>\n",
       "    </tr>\n",
       "    <tr>\n",
       "      <th>1</th>\n",
       "      <td>5.92</td>\n",
       "      <td>0.020278</td>\n",
       "      <td>48.2692</td>\n",
       "      <td>1</td>\n",
       "      <td>1</td>\n",
       "      <td>0</td>\n",
       "      <td>1</td>\n",
       "      <td>1</td>\n",
       "      <td>0</td>\n",
       "      <td>0</td>\n",
       "      <td>...</td>\n",
       "      <td>0</td>\n",
       "      <td>0.0</td>\n",
       "      <td>-4.0</td>\n",
       "      <td>0.0</td>\n",
       "      <td>0.0</td>\n",
       "      <td>-1.0</td>\n",
       "      <td>0.0</td>\n",
       "      <td>1.0</td>\n",
       "      <td>-1.0</td>\n",
       "      <td>-1.217837</td>\n",
       "    </tr>\n",
       "    <tr>\n",
       "      <th>2</th>\n",
       "      <td>17.50</td>\n",
       "      <td>0.017760</td>\n",
       "      <td>141.6180</td>\n",
       "      <td>11</td>\n",
       "      <td>0</td>\n",
       "      <td>1</td>\n",
       "      <td>0</td>\n",
       "      <td>1</td>\n",
       "      <td>0</td>\n",
       "      <td>0</td>\n",
       "      <td>...</td>\n",
       "      <td>0</td>\n",
       "      <td>-1.0</td>\n",
       "      <td>-1.0</td>\n",
       "      <td>0.0</td>\n",
       "      <td>0.0</td>\n",
       "      <td>0.0</td>\n",
       "      <td>0.0</td>\n",
       "      <td>2.0</td>\n",
       "      <td>0.0</td>\n",
       "      <td>0.220282</td>\n",
       "    </tr>\n",
       "    <tr>\n",
       "      <th>3</th>\n",
       "      <td>19.20</td>\n",
       "      <td>0.001000</td>\n",
       "      <td>182.0950</td>\n",
       "      <td>12</td>\n",
       "      <td>0</td>\n",
       "      <td>1</td>\n",
       "      <td>1</td>\n",
       "      <td>0</td>\n",
       "      <td>1</td>\n",
       "      <td>0</td>\n",
       "      <td>...</td>\n",
       "      <td>0</td>\n",
       "      <td>0.0</td>\n",
       "      <td>-4.0</td>\n",
       "      <td>0.0</td>\n",
       "      <td>0.0</td>\n",
       "      <td>3.0</td>\n",
       "      <td>-1.0</td>\n",
       "      <td>0.0</td>\n",
       "      <td>1.0</td>\n",
       "      <td>-0.834969</td>\n",
       "    </tr>\n",
       "    <tr>\n",
       "      <th>4</th>\n",
       "      <td>8.93</td>\n",
       "      <td>0.001000</td>\n",
       "      <td>53.8614</td>\n",
       "      <td>23</td>\n",
       "      <td>0</td>\n",
       "      <td>0</td>\n",
       "      <td>0</td>\n",
       "      <td>0</td>\n",
       "      <td>0</td>\n",
       "      <td>0</td>\n",
       "      <td>...</td>\n",
       "      <td>0</td>\n",
       "      <td>1.0</td>\n",
       "      <td>-3.0</td>\n",
       "      <td>0.0</td>\n",
       "      <td>0.0</td>\n",
       "      <td>2.0</td>\n",
       "      <td>0.0</td>\n",
       "      <td>0.0</td>\n",
       "      <td>3.0</td>\n",
       "      <td>-0.566490</td>\n",
       "    </tr>\n",
       "  </tbody>\n",
       "</table>\n",
       "<p>5 rows × 23 columns</p>\n",
       "</div>"
      ],
      "text/plain": [
       "   Item_Weight  Item_Visibility  Item_MRP  Outlet_Establishment_Year  \\\n",
       "0         9.30         0.017047  249.8092                         11   \n",
       "1         5.92         0.020278   48.2692                          1   \n",
       "2        17.50         0.017760  141.6180                         11   \n",
       "3        19.20         0.001000  182.0950                         12   \n",
       "4         8.93         0.001000   53.8614                         23   \n",
       "\n",
       "   Item_Identifier_DR  Item_Identifier_FD  Item_Fat_Content_Regular  \\\n",
       "0                   0                   1                         0   \n",
       "1                   1                   0                         1   \n",
       "2                   0                   1                         0   \n",
       "3                   0                   1                         1   \n",
       "4                   0                   0                         0   \n",
       "\n",
       "   Outlet_Size_Medium  Outlet_Size_Small  Outlet_Location_Type_Tier 2  ...  \\\n",
       "0                   1                  0                            0  ...   \n",
       "1                   1                  0                            0  ...   \n",
       "2                   1                  0                            0  ...   \n",
       "3                   0                  1                            0  ...   \n",
       "4                   0                  0                            0  ...   \n",
       "\n",
       "   Outlet_Type_Supermarket Type3  Out_ID_H0  Out_ID_H1  Out_ID_H2  Out_ID_H3  \\\n",
       "0                              0       -1.0       -1.0        0.0        0.0   \n",
       "1                              0        0.0       -4.0        0.0        0.0   \n",
       "2                              0       -1.0       -1.0        0.0        0.0   \n",
       "3                              0        0.0       -4.0        0.0        0.0   \n",
       "4                              0        1.0       -3.0        0.0        0.0   \n",
       "\n",
       "   IT_H0  IT_H1  IT_H2  IT_H3  Item_Outlet_Sales  \n",
       "0    0.0    0.0    3.0    0.0           0.984978  \n",
       "1   -1.0    0.0    1.0   -1.0          -1.217837  \n",
       "2    0.0    0.0    2.0    0.0           0.220282  \n",
       "3    3.0   -1.0    0.0    1.0          -0.834969  \n",
       "4    2.0    0.0    0.0    3.0          -0.566490  \n",
       "\n",
       "[5 rows x 23 columns]"
      ]
     },
     "execution_count": 109,
     "metadata": {},
     "output_type": "execute_result"
    }
   ],
   "source": [
    "#Putting target variable at the end\n",
    "cols = cols[:4] + cols[5:] + [cols[4]]\n",
    "train_df = train_df[cols]\n",
    "train_df.head()"
   ]
  },
  {
   "cell_type": "markdown",
   "metadata": {},
   "source": [
    "### Encoding the test data"
   ]
  },
  {
   "cell_type": "code",
   "execution_count": 110,
   "metadata": {},
   "outputs": [],
   "source": [
    "#Using OneHotEncoder for variables with four levels or fewer\n",
    "\n",
    "onehotlabels_test = enc.transform(test_df[['Item_Identifier', 'Item_Fat_Content', 'Outlet_Size', \n",
    "                                           'Outlet_Location_Type', 'Outlet_Type']])"
   ]
  },
  {
   "cell_type": "code",
   "execution_count": 111,
   "metadata": {},
   "outputs": [
    {
     "data": {
      "text/plain": [
       "Index(['Item_Identifier_DR', 'Item_Identifier_FD', 'Item_Identifier_NC',\n",
       "       'Item_Fat_Content_Low Fat', 'Item_Fat_Content_Regular',\n",
       "       'Outlet_Size_High', 'Outlet_Size_Medium', 'Outlet_Size_Small',\n",
       "       'Outlet_Location_Type_Tier 1', 'Outlet_Location_Type_Tier 2',\n",
       "       'Outlet_Location_Type_Tier 3', 'Outlet_Type_Grocery Store',\n",
       "       'Outlet_Type_Supermarket Type1', 'Outlet_Type_Supermarket Type2',\n",
       "       'Outlet_Type_Supermarket Type3'],\n",
       "      dtype='object')"
      ]
     },
     "execution_count": 111,
     "metadata": {},
     "output_type": "execute_result"
    }
   ],
   "source": [
    "#Converting the encoded columns into a dataframe and using the same col_names variable that was created for the train set\n",
    "\n",
    "encoded_columns_test = pd.DataFrame(onehotlabels_test.toarray().astype(int), columns = col_names)\n",
    "encoded_columns_test.columns"
   ]
  },
  {
   "cell_type": "code",
   "execution_count": 112,
   "metadata": {},
   "outputs": [],
   "source": [
    "#Dropping some columns since we only need n-1 columns to represent n levels\n",
    "\n",
    "encoded_columns_test = encoded_columns_test.drop(['Item_Identifier_NC', 'Item_Fat_Content_Low Fat', 'Outlet_Size_High', \n",
    "                                       'Outlet_Location_Type_Tier 1', 'Outlet_Type_Supermarket Type2'], axis =1)"
   ]
  },
  {
   "cell_type": "code",
   "execution_count": 113,
   "metadata": {},
   "outputs": [],
   "source": [
    "#Merging the encoded columns with the original dataframe\n",
    "\n",
    "test_df = pd.concat([test_df, encoded_columns_test], axis = 1)"
   ]
  },
  {
   "cell_type": "code",
   "execution_count": 114,
   "metadata": {},
   "outputs": [],
   "source": [
    "#Dropping the columns that have been encoded\n",
    "test_df = test_df.drop(['Item_Identifier', 'Item_Fat_Content', 'Outlet_Size', 'Outlet_Location_Type', \n",
    "                          'Outlet_Type'], axis = 1)"
   ]
  },
  {
   "cell_type": "markdown",
   "metadata": {},
   "source": [
    "Encoding the Outlet_Identifier column"
   ]
  },
  {
   "cell_type": "code",
   "execution_count": 115,
   "metadata": {},
   "outputs": [],
   "source": [
    "#Transforming the Outlet_Identifier column\n",
    "hashed_features_OI_test = fh_OI.transform(test_df['Outlet_Identifier'])"
   ]
  },
  {
   "cell_type": "code",
   "execution_count": 116,
   "metadata": {},
   "outputs": [],
   "source": [
    "#Converting the hash columns to an array\n",
    "hashed_features_OI_test = hashed_features_OI_test.toarray()\n",
    "\n",
    "#Concatenating the hash columns with the original dataframe\n",
    "test_df = pd.concat([test_df, pd.DataFrame(hashed_features_OI_test)], axis = 1)\n",
    "\n",
    "#Dropping the original column\n",
    "test_df = test_df.drop(['Outlet_Identifier'], axis = 1)"
   ]
  },
  {
   "cell_type": "code",
   "execution_count": 117,
   "metadata": {},
   "outputs": [
    {
     "data": {
      "text/html": [
       "<div>\n",
       "<style scoped>\n",
       "    .dataframe tbody tr th:only-of-type {\n",
       "        vertical-align: middle;\n",
       "    }\n",
       "\n",
       "    .dataframe tbody tr th {\n",
       "        vertical-align: top;\n",
       "    }\n",
       "\n",
       "    .dataframe thead th {\n",
       "        text-align: right;\n",
       "    }\n",
       "</style>\n",
       "<table border=\"1\" class=\"dataframe\">\n",
       "  <thead>\n",
       "    <tr style=\"text-align: right;\">\n",
       "      <th></th>\n",
       "      <th>Item_Weight</th>\n",
       "      <th>Item_Visibility</th>\n",
       "      <th>Item_Type</th>\n",
       "      <th>Item_MRP</th>\n",
       "      <th>Outlet_Establishment_Year</th>\n",
       "      <th>Item_Identifier_DR</th>\n",
       "      <th>Item_Identifier_FD</th>\n",
       "      <th>Item_Fat_Content_Regular</th>\n",
       "      <th>Outlet_Size_Medium</th>\n",
       "      <th>Outlet_Size_Small</th>\n",
       "      <th>Outlet_Location_Type_Tier 2</th>\n",
       "      <th>Outlet_Location_Type_Tier 3</th>\n",
       "      <th>Outlet_Type_Grocery Store</th>\n",
       "      <th>Outlet_Type_Supermarket Type1</th>\n",
       "      <th>Outlet_Type_Supermarket Type3</th>\n",
       "      <th>0</th>\n",
       "      <th>1</th>\n",
       "      <th>2</th>\n",
       "      <th>3</th>\n",
       "    </tr>\n",
       "  </thead>\n",
       "  <tbody>\n",
       "    <tr>\n",
       "      <th>0</th>\n",
       "      <td>20.750</td>\n",
       "      <td>0.008565</td>\n",
       "      <td>Snack Foods</td>\n",
       "      <td>107.8622</td>\n",
       "      <td>11</td>\n",
       "      <td>0</td>\n",
       "      <td>1</td>\n",
       "      <td>0</td>\n",
       "      <td>1</td>\n",
       "      <td>0</td>\n",
       "      <td>0</td>\n",
       "      <td>0</td>\n",
       "      <td>0</td>\n",
       "      <td>1</td>\n",
       "      <td>0</td>\n",
       "      <td>-1.0</td>\n",
       "      <td>-1.0</td>\n",
       "      <td>0.0</td>\n",
       "      <td>0.0</td>\n",
       "    </tr>\n",
       "    <tr>\n",
       "      <th>1</th>\n",
       "      <td>8.300</td>\n",
       "      <td>0.039428</td>\n",
       "      <td>Dairy</td>\n",
       "      <td>87.3198</td>\n",
       "      <td>3</td>\n",
       "      <td>0</td>\n",
       "      <td>1</td>\n",
       "      <td>1</td>\n",
       "      <td>0</td>\n",
       "      <td>1</td>\n",
       "      <td>1</td>\n",
       "      <td>0</td>\n",
       "      <td>0</td>\n",
       "      <td>1</td>\n",
       "      <td>0</td>\n",
       "      <td>1.0</td>\n",
       "      <td>-3.0</td>\n",
       "      <td>0.0</td>\n",
       "      <td>0.0</td>\n",
       "    </tr>\n",
       "    <tr>\n",
       "      <th>2</th>\n",
       "      <td>14.600</td>\n",
       "      <td>0.100575</td>\n",
       "      <td>Others</td>\n",
       "      <td>241.7538</td>\n",
       "      <td>12</td>\n",
       "      <td>0</td>\n",
       "      <td>0</td>\n",
       "      <td>0</td>\n",
       "      <td>0</td>\n",
       "      <td>1</td>\n",
       "      <td>0</td>\n",
       "      <td>1</td>\n",
       "      <td>1</td>\n",
       "      <td>0</td>\n",
       "      <td>0</td>\n",
       "      <td>0.0</td>\n",
       "      <td>-4.0</td>\n",
       "      <td>0.0</td>\n",
       "      <td>0.0</td>\n",
       "    </tr>\n",
       "    <tr>\n",
       "      <th>3</th>\n",
       "      <td>7.315</td>\n",
       "      <td>0.016388</td>\n",
       "      <td>Snack Foods</td>\n",
       "      <td>155.0340</td>\n",
       "      <td>3</td>\n",
       "      <td>0</td>\n",
       "      <td>1</td>\n",
       "      <td>0</td>\n",
       "      <td>0</td>\n",
       "      <td>1</td>\n",
       "      <td>1</td>\n",
       "      <td>0</td>\n",
       "      <td>0</td>\n",
       "      <td>1</td>\n",
       "      <td>0</td>\n",
       "      <td>1.0</td>\n",
       "      <td>-3.0</td>\n",
       "      <td>0.0</td>\n",
       "      <td>0.0</td>\n",
       "    </tr>\n",
       "    <tr>\n",
       "      <th>4</th>\n",
       "      <td>13.600</td>\n",
       "      <td>0.119599</td>\n",
       "      <td>Dairy</td>\n",
       "      <td>234.2300</td>\n",
       "      <td>25</td>\n",
       "      <td>0</td>\n",
       "      <td>1</td>\n",
       "      <td>1</td>\n",
       "      <td>1</td>\n",
       "      <td>0</td>\n",
       "      <td>0</td>\n",
       "      <td>1</td>\n",
       "      <td>0</td>\n",
       "      <td>0</td>\n",
       "      <td>1</td>\n",
       "      <td>1.0</td>\n",
       "      <td>-2.0</td>\n",
       "      <td>0.0</td>\n",
       "      <td>1.0</td>\n",
       "    </tr>\n",
       "  </tbody>\n",
       "</table>\n",
       "</div>"
      ],
      "text/plain": [
       "   Item_Weight  Item_Visibility    Item_Type  Item_MRP  \\\n",
       "0       20.750         0.008565  Snack Foods  107.8622   \n",
       "1        8.300         0.039428        Dairy   87.3198   \n",
       "2       14.600         0.100575       Others  241.7538   \n",
       "3        7.315         0.016388  Snack Foods  155.0340   \n",
       "4       13.600         0.119599        Dairy  234.2300   \n",
       "\n",
       "   Outlet_Establishment_Year  Item_Identifier_DR  Item_Identifier_FD  \\\n",
       "0                         11                   0                   1   \n",
       "1                          3                   0                   1   \n",
       "2                         12                   0                   0   \n",
       "3                          3                   0                   1   \n",
       "4                         25                   0                   1   \n",
       "\n",
       "   Item_Fat_Content_Regular  Outlet_Size_Medium  Outlet_Size_Small  \\\n",
       "0                         0                   1                  0   \n",
       "1                         1                   0                  1   \n",
       "2                         0                   0                  1   \n",
       "3                         0                   0                  1   \n",
       "4                         1                   1                  0   \n",
       "\n",
       "   Outlet_Location_Type_Tier 2  Outlet_Location_Type_Tier 3  \\\n",
       "0                            0                            0   \n",
       "1                            1                            0   \n",
       "2                            0                            1   \n",
       "3                            1                            0   \n",
       "4                            0                            1   \n",
       "\n",
       "   Outlet_Type_Grocery Store  Outlet_Type_Supermarket Type1  \\\n",
       "0                          0                              1   \n",
       "1                          0                              1   \n",
       "2                          1                              0   \n",
       "3                          0                              1   \n",
       "4                          0                              0   \n",
       "\n",
       "   Outlet_Type_Supermarket Type3    0    1    2    3  \n",
       "0                              0 -1.0 -1.0  0.0  0.0  \n",
       "1                              0  1.0 -3.0  0.0  0.0  \n",
       "2                              0  0.0 -4.0  0.0  0.0  \n",
       "3                              0  1.0 -3.0  0.0  0.0  \n",
       "4                              1  1.0 -2.0  0.0  1.0  "
      ]
     },
     "execution_count": 117,
     "metadata": {},
     "output_type": "execute_result"
    }
   ],
   "source": [
    "test_df.head()"
   ]
  },
  {
   "cell_type": "code",
   "execution_count": 118,
   "metadata": {},
   "outputs": [],
   "source": [
    "#Renaming the columns using a dictioanry\n",
    "test_df.rename(columns = {0: 'Out_ID_H0', 1: 'Out_ID_H1', 2: 'Out_ID_H2', 3: 'Out_ID_H3'}, inplace=True)"
   ]
  },
  {
   "cell_type": "markdown",
   "metadata": {},
   "source": [
    "Encoding the Item_Type column"
   ]
  },
  {
   "cell_type": "code",
   "execution_count": 119,
   "metadata": {},
   "outputs": [],
   "source": [
    "#Transforming the Item_Type column\n",
    "hashed_features_IT_test = fh_IT.transform(test_df['Item_Type'])"
   ]
  },
  {
   "cell_type": "code",
   "execution_count": 120,
   "metadata": {},
   "outputs": [],
   "source": [
    "#Converting the hash columns to an array\n",
    "hashed_features_IT_test = hashed_features_IT_test.toarray()\n",
    "\n",
    "#Concatenating the hash columns with the original dataframe\n",
    "test_df = pd.concat([test_df, pd.DataFrame(hashed_features_IT_test)], axis = 1)\n",
    "\n",
    "#Dropping the original column\n",
    "test_df = test_df.drop(['Item_Type'], axis = 1)"
   ]
  },
  {
   "cell_type": "code",
   "execution_count": 121,
   "metadata": {},
   "outputs": [],
   "source": [
    "#Renaming the columns using a dictioanry\n",
    "test_df.rename(columns = {0: 'IT_H0', 1: 'IT_H1', 2: 'IT_H2', 3: 'IT_H3'}, inplace=True)"
   ]
  },
  {
   "cell_type": "code",
   "execution_count": 122,
   "metadata": {},
   "outputs": [
    {
     "data": {
      "text/html": [
       "<div>\n",
       "<style scoped>\n",
       "    .dataframe tbody tr th:only-of-type {\n",
       "        vertical-align: middle;\n",
       "    }\n",
       "\n",
       "    .dataframe tbody tr th {\n",
       "        vertical-align: top;\n",
       "    }\n",
       "\n",
       "    .dataframe thead th {\n",
       "        text-align: right;\n",
       "    }\n",
       "</style>\n",
       "<table border=\"1\" class=\"dataframe\">\n",
       "  <thead>\n",
       "    <tr style=\"text-align: right;\">\n",
       "      <th></th>\n",
       "      <th>Item_Weight</th>\n",
       "      <th>Item_Visibility</th>\n",
       "      <th>Item_MRP</th>\n",
       "      <th>Outlet_Establishment_Year</th>\n",
       "      <th>Item_Identifier_DR</th>\n",
       "      <th>Item_Identifier_FD</th>\n",
       "      <th>Item_Fat_Content_Regular</th>\n",
       "      <th>Outlet_Size_Medium</th>\n",
       "      <th>Outlet_Size_Small</th>\n",
       "      <th>Outlet_Location_Type_Tier 2</th>\n",
       "      <th>...</th>\n",
       "      <th>Outlet_Type_Supermarket Type1</th>\n",
       "      <th>Outlet_Type_Supermarket Type3</th>\n",
       "      <th>Out_ID_H0</th>\n",
       "      <th>Out_ID_H1</th>\n",
       "      <th>Out_ID_H2</th>\n",
       "      <th>Out_ID_H3</th>\n",
       "      <th>IT_H0</th>\n",
       "      <th>IT_H1</th>\n",
       "      <th>IT_H2</th>\n",
       "      <th>IT_H3</th>\n",
       "    </tr>\n",
       "  </thead>\n",
       "  <tbody>\n",
       "    <tr>\n",
       "      <th>0</th>\n",
       "      <td>20.750</td>\n",
       "      <td>0.008565</td>\n",
       "      <td>107.8622</td>\n",
       "      <td>11</td>\n",
       "      <td>0</td>\n",
       "      <td>1</td>\n",
       "      <td>0</td>\n",
       "      <td>1</td>\n",
       "      <td>0</td>\n",
       "      <td>0</td>\n",
       "      <td>...</td>\n",
       "      <td>1</td>\n",
       "      <td>0</td>\n",
       "      <td>-1.0</td>\n",
       "      <td>-1.0</td>\n",
       "      <td>0.0</td>\n",
       "      <td>0.0</td>\n",
       "      <td>-1.0</td>\n",
       "      <td>-1.0</td>\n",
       "      <td>0.0</td>\n",
       "      <td>1.0</td>\n",
       "    </tr>\n",
       "    <tr>\n",
       "      <th>1</th>\n",
       "      <td>8.300</td>\n",
       "      <td>0.039428</td>\n",
       "      <td>87.3198</td>\n",
       "      <td>3</td>\n",
       "      <td>0</td>\n",
       "      <td>1</td>\n",
       "      <td>1</td>\n",
       "      <td>0</td>\n",
       "      <td>1</td>\n",
       "      <td>1</td>\n",
       "      <td>...</td>\n",
       "      <td>1</td>\n",
       "      <td>0</td>\n",
       "      <td>1.0</td>\n",
       "      <td>-3.0</td>\n",
       "      <td>0.0</td>\n",
       "      <td>0.0</td>\n",
       "      <td>0.0</td>\n",
       "      <td>0.0</td>\n",
       "      <td>3.0</td>\n",
       "      <td>0.0</td>\n",
       "    </tr>\n",
       "    <tr>\n",
       "      <th>2</th>\n",
       "      <td>14.600</td>\n",
       "      <td>0.100575</td>\n",
       "      <td>241.7538</td>\n",
       "      <td>12</td>\n",
       "      <td>0</td>\n",
       "      <td>0</td>\n",
       "      <td>0</td>\n",
       "      <td>0</td>\n",
       "      <td>1</td>\n",
       "      <td>0</td>\n",
       "      <td>...</td>\n",
       "      <td>0</td>\n",
       "      <td>0</td>\n",
       "      <td>0.0</td>\n",
       "      <td>-4.0</td>\n",
       "      <td>0.0</td>\n",
       "      <td>0.0</td>\n",
       "      <td>0.0</td>\n",
       "      <td>0.0</td>\n",
       "      <td>1.0</td>\n",
       "      <td>-1.0</td>\n",
       "    </tr>\n",
       "    <tr>\n",
       "      <th>3</th>\n",
       "      <td>7.315</td>\n",
       "      <td>0.016388</td>\n",
       "      <td>155.0340</td>\n",
       "      <td>3</td>\n",
       "      <td>0</td>\n",
       "      <td>1</td>\n",
       "      <td>0</td>\n",
       "      <td>0</td>\n",
       "      <td>1</td>\n",
       "      <td>1</td>\n",
       "      <td>...</td>\n",
       "      <td>1</td>\n",
       "      <td>0</td>\n",
       "      <td>1.0</td>\n",
       "      <td>-3.0</td>\n",
       "      <td>0.0</td>\n",
       "      <td>0.0</td>\n",
       "      <td>-1.0</td>\n",
       "      <td>-1.0</td>\n",
       "      <td>0.0</td>\n",
       "      <td>1.0</td>\n",
       "    </tr>\n",
       "    <tr>\n",
       "      <th>4</th>\n",
       "      <td>13.600</td>\n",
       "      <td>0.119599</td>\n",
       "      <td>234.2300</td>\n",
       "      <td>25</td>\n",
       "      <td>0</td>\n",
       "      <td>1</td>\n",
       "      <td>1</td>\n",
       "      <td>1</td>\n",
       "      <td>0</td>\n",
       "      <td>0</td>\n",
       "      <td>...</td>\n",
       "      <td>0</td>\n",
       "      <td>1</td>\n",
       "      <td>1.0</td>\n",
       "      <td>-2.0</td>\n",
       "      <td>0.0</td>\n",
       "      <td>1.0</td>\n",
       "      <td>0.0</td>\n",
       "      <td>0.0</td>\n",
       "      <td>3.0</td>\n",
       "      <td>0.0</td>\n",
       "    </tr>\n",
       "  </tbody>\n",
       "</table>\n",
       "<p>5 rows × 22 columns</p>\n",
       "</div>"
      ],
      "text/plain": [
       "   Item_Weight  Item_Visibility  Item_MRP  Outlet_Establishment_Year  \\\n",
       "0       20.750         0.008565  107.8622                         11   \n",
       "1        8.300         0.039428   87.3198                          3   \n",
       "2       14.600         0.100575  241.7538                         12   \n",
       "3        7.315         0.016388  155.0340                          3   \n",
       "4       13.600         0.119599  234.2300                         25   \n",
       "\n",
       "   Item_Identifier_DR  Item_Identifier_FD  Item_Fat_Content_Regular  \\\n",
       "0                   0                   1                         0   \n",
       "1                   0                   1                         1   \n",
       "2                   0                   0                         0   \n",
       "3                   0                   1                         0   \n",
       "4                   0                   1                         1   \n",
       "\n",
       "   Outlet_Size_Medium  Outlet_Size_Small  Outlet_Location_Type_Tier 2  ...  \\\n",
       "0                   1                  0                            0  ...   \n",
       "1                   0                  1                            1  ...   \n",
       "2                   0                  1                            0  ...   \n",
       "3                   0                  1                            1  ...   \n",
       "4                   1                  0                            0  ...   \n",
       "\n",
       "   Outlet_Type_Supermarket Type1  Outlet_Type_Supermarket Type3  Out_ID_H0  \\\n",
       "0                              1                              0       -1.0   \n",
       "1                              1                              0        1.0   \n",
       "2                              0                              0        0.0   \n",
       "3                              1                              0        1.0   \n",
       "4                              0                              1        1.0   \n",
       "\n",
       "   Out_ID_H1  Out_ID_H2  Out_ID_H3  IT_H0  IT_H1  IT_H2  IT_H3  \n",
       "0       -1.0        0.0        0.0   -1.0   -1.0    0.0    1.0  \n",
       "1       -3.0        0.0        0.0    0.0    0.0    3.0    0.0  \n",
       "2       -4.0        0.0        0.0    0.0    0.0    1.0   -1.0  \n",
       "3       -3.0        0.0        0.0   -1.0   -1.0    0.0    1.0  \n",
       "4       -2.0        0.0        1.0    0.0    0.0    3.0    0.0  \n",
       "\n",
       "[5 rows x 22 columns]"
      ]
     },
     "execution_count": 122,
     "metadata": {},
     "output_type": "execute_result"
    }
   ],
   "source": [
    "test_df.head()"
   ]
  },
  {
   "cell_type": "markdown",
   "metadata": {},
   "source": [
    "### Scaling the continuous variables"
   ]
  },
  {
   "cell_type": "code",
   "execution_count": 123,
   "metadata": {},
   "outputs": [
    {
     "data": {
      "text/html": [
       "<div>\n",
       "<style scoped>\n",
       "    .dataframe tbody tr th:only-of-type {\n",
       "        vertical-align: middle;\n",
       "    }\n",
       "\n",
       "    .dataframe tbody tr th {\n",
       "        vertical-align: top;\n",
       "    }\n",
       "\n",
       "    .dataframe thead th {\n",
       "        text-align: right;\n",
       "    }\n",
       "</style>\n",
       "<table border=\"1\" class=\"dataframe\">\n",
       "  <thead>\n",
       "    <tr style=\"text-align: right;\">\n",
       "      <th></th>\n",
       "      <th>Item_Weight</th>\n",
       "      <th>Item_Visibility</th>\n",
       "      <th>Item_MRP</th>\n",
       "      <th>Outlet_Establishment_Year</th>\n",
       "    </tr>\n",
       "  </thead>\n",
       "  <tbody>\n",
       "    <tr>\n",
       "      <th>count</th>\n",
       "      <td>8523.000000</td>\n",
       "      <td>8523.000000</td>\n",
       "      <td>8523.000000</td>\n",
       "      <td>8523.000000</td>\n",
       "    </tr>\n",
       "    <tr>\n",
       "      <th>mean</th>\n",
       "      <td>12.873623</td>\n",
       "      <td>0.067132</td>\n",
       "      <td>140.992782</td>\n",
       "      <td>12.168133</td>\n",
       "    </tr>\n",
       "    <tr>\n",
       "      <th>std</th>\n",
       "      <td>4.645893</td>\n",
       "      <td>0.051598</td>\n",
       "      <td>62.275067</td>\n",
       "      <td>8.371760</td>\n",
       "    </tr>\n",
       "    <tr>\n",
       "      <th>min</th>\n",
       "      <td>4.555000</td>\n",
       "      <td>0.001000</td>\n",
       "      <td>31.290000</td>\n",
       "      <td>1.000000</td>\n",
       "    </tr>\n",
       "    <tr>\n",
       "      <th>25%</th>\n",
       "      <td>8.785000</td>\n",
       "      <td>0.027989</td>\n",
       "      <td>93.826500</td>\n",
       "      <td>6.000000</td>\n",
       "    </tr>\n",
       "    <tr>\n",
       "      <th>50%</th>\n",
       "      <td>12.600000</td>\n",
       "      <td>0.054931</td>\n",
       "      <td>143.012800</td>\n",
       "      <td>11.000000</td>\n",
       "    </tr>\n",
       "    <tr>\n",
       "      <th>75%</th>\n",
       "      <td>16.850000</td>\n",
       "      <td>0.095585</td>\n",
       "      <td>185.643700</td>\n",
       "      <td>23.000000</td>\n",
       "    </tr>\n",
       "    <tr>\n",
       "      <th>max</th>\n",
       "      <td>21.350000</td>\n",
       "      <td>0.329391</td>\n",
       "      <td>266.888400</td>\n",
       "      <td>25.000000</td>\n",
       "    </tr>\n",
       "  </tbody>\n",
       "</table>\n",
       "</div>"
      ],
      "text/plain": [
       "       Item_Weight  Item_Visibility     Item_MRP  Outlet_Establishment_Year\n",
       "count  8523.000000      8523.000000  8523.000000                8523.000000\n",
       "mean     12.873623         0.067132   140.992782                  12.168133\n",
       "std       4.645893         0.051598    62.275067                   8.371760\n",
       "min       4.555000         0.001000    31.290000                   1.000000\n",
       "25%       8.785000         0.027989    93.826500                   6.000000\n",
       "50%      12.600000         0.054931   143.012800                  11.000000\n",
       "75%      16.850000         0.095585   185.643700                  23.000000\n",
       "max      21.350000         0.329391   266.888400                  25.000000"
      ]
     },
     "execution_count": 123,
     "metadata": {},
     "output_type": "execute_result"
    }
   ],
   "source": [
    "train_df[['Item_Weight', 'Item_Visibility', 'Item_MRP', 'Outlet_Establishment_Year']].describe()"
   ]
  },
  {
   "cell_type": "code",
   "execution_count": 124,
   "metadata": {},
   "outputs": [],
   "source": [
    "#Creating a standard scaler object\n",
    "scaler = StandardScaler()"
   ]
  },
  {
   "cell_type": "code",
   "execution_count": 125,
   "metadata": {},
   "outputs": [],
   "source": [
    "#Making a list of columns that are to be scaled\n",
    "var_for_scaling = ['Item_Weight', 'Item_Visibility', 'Item_MRP', 'Outlet_Establishment_Year']"
   ]
  },
  {
   "cell_type": "code",
   "execution_count": 126,
   "metadata": {},
   "outputs": [],
   "source": [
    "#Scaling the columns\n",
    "train_df[var_for_scaling] = scaler.fit_transform(train_df[var_for_scaling])"
   ]
  },
  {
   "cell_type": "code",
   "execution_count": 127,
   "metadata": {},
   "outputs": [
    {
     "data": {
      "text/html": [
       "<div>\n",
       "<style scoped>\n",
       "    .dataframe tbody tr th:only-of-type {\n",
       "        vertical-align: middle;\n",
       "    }\n",
       "\n",
       "    .dataframe tbody tr th {\n",
       "        vertical-align: top;\n",
       "    }\n",
       "\n",
       "    .dataframe thead th {\n",
       "        text-align: right;\n",
       "    }\n",
       "</style>\n",
       "<table border=\"1\" class=\"dataframe\">\n",
       "  <thead>\n",
       "    <tr style=\"text-align: right;\">\n",
       "      <th></th>\n",
       "      <th>Item_Weight</th>\n",
       "      <th>Item_Visibility</th>\n",
       "      <th>Item_MRP</th>\n",
       "      <th>Outlet_Establishment_Year</th>\n",
       "      <th>Item_Identifier_DR</th>\n",
       "      <th>Item_Identifier_FD</th>\n",
       "      <th>Item_Fat_Content_Regular</th>\n",
       "      <th>Outlet_Size_Medium</th>\n",
       "      <th>Outlet_Size_Small</th>\n",
       "      <th>Outlet_Location_Type_Tier 2</th>\n",
       "      <th>...</th>\n",
       "      <th>Outlet_Type_Supermarket Type3</th>\n",
       "      <th>Out_ID_H0</th>\n",
       "      <th>Out_ID_H1</th>\n",
       "      <th>Out_ID_H2</th>\n",
       "      <th>Out_ID_H3</th>\n",
       "      <th>IT_H0</th>\n",
       "      <th>IT_H1</th>\n",
       "      <th>IT_H2</th>\n",
       "      <th>IT_H3</th>\n",
       "      <th>Item_Outlet_Sales</th>\n",
       "    </tr>\n",
       "  </thead>\n",
       "  <tbody>\n",
       "    <tr>\n",
       "      <th>0</th>\n",
       "      <td>-0.769246</td>\n",
       "      <td>-0.970732</td>\n",
       "      <td>1.747454</td>\n",
       "      <td>-0.139541</td>\n",
       "      <td>0</td>\n",
       "      <td>1</td>\n",
       "      <td>0</td>\n",
       "      <td>1</td>\n",
       "      <td>0</td>\n",
       "      <td>0</td>\n",
       "      <td>...</td>\n",
       "      <td>0</td>\n",
       "      <td>-1.0</td>\n",
       "      <td>-1.0</td>\n",
       "      <td>0.0</td>\n",
       "      <td>0.0</td>\n",
       "      <td>0.0</td>\n",
       "      <td>0.0</td>\n",
       "      <td>3.0</td>\n",
       "      <td>0.0</td>\n",
       "      <td>0.984978</td>\n",
       "    </tr>\n",
       "    <tr>\n",
       "      <th>1</th>\n",
       "      <td>-1.496813</td>\n",
       "      <td>-0.908111</td>\n",
       "      <td>-1.489023</td>\n",
       "      <td>-1.334103</td>\n",
       "      <td>1</td>\n",
       "      <td>0</td>\n",
       "      <td>1</td>\n",
       "      <td>1</td>\n",
       "      <td>0</td>\n",
       "      <td>0</td>\n",
       "      <td>...</td>\n",
       "      <td>0</td>\n",
       "      <td>0.0</td>\n",
       "      <td>-4.0</td>\n",
       "      <td>0.0</td>\n",
       "      <td>0.0</td>\n",
       "      <td>-1.0</td>\n",
       "      <td>0.0</td>\n",
       "      <td>1.0</td>\n",
       "      <td>-1.0</td>\n",
       "      <td>-1.217837</td>\n",
       "    </tr>\n",
       "    <tr>\n",
       "      <th>2</th>\n",
       "      <td>0.995858</td>\n",
       "      <td>-0.956917</td>\n",
       "      <td>0.010040</td>\n",
       "      <td>-0.139541</td>\n",
       "      <td>0</td>\n",
       "      <td>1</td>\n",
       "      <td>0</td>\n",
       "      <td>1</td>\n",
       "      <td>0</td>\n",
       "      <td>0</td>\n",
       "      <td>...</td>\n",
       "      <td>0</td>\n",
       "      <td>-1.0</td>\n",
       "      <td>-1.0</td>\n",
       "      <td>0.0</td>\n",
       "      <td>0.0</td>\n",
       "      <td>0.0</td>\n",
       "      <td>0.0</td>\n",
       "      <td>2.0</td>\n",
       "      <td>0.0</td>\n",
       "      <td>0.220282</td>\n",
       "    </tr>\n",
       "    <tr>\n",
       "      <th>3</th>\n",
       "      <td>1.361794</td>\n",
       "      <td>-1.281758</td>\n",
       "      <td>0.660050</td>\n",
       "      <td>-0.020085</td>\n",
       "      <td>0</td>\n",
       "      <td>1</td>\n",
       "      <td>1</td>\n",
       "      <td>0</td>\n",
       "      <td>1</td>\n",
       "      <td>0</td>\n",
       "      <td>...</td>\n",
       "      <td>0</td>\n",
       "      <td>0.0</td>\n",
       "      <td>-4.0</td>\n",
       "      <td>0.0</td>\n",
       "      <td>0.0</td>\n",
       "      <td>3.0</td>\n",
       "      <td>-1.0</td>\n",
       "      <td>0.0</td>\n",
       "      <td>1.0</td>\n",
       "      <td>-0.834969</td>\n",
       "    </tr>\n",
       "    <tr>\n",
       "      <th>4</th>\n",
       "      <td>-0.848890</td>\n",
       "      <td>-1.281758</td>\n",
       "      <td>-1.399220</td>\n",
       "      <td>1.293934</td>\n",
       "      <td>0</td>\n",
       "      <td>0</td>\n",
       "      <td>0</td>\n",
       "      <td>0</td>\n",
       "      <td>0</td>\n",
       "      <td>0</td>\n",
       "      <td>...</td>\n",
       "      <td>0</td>\n",
       "      <td>1.0</td>\n",
       "      <td>-3.0</td>\n",
       "      <td>0.0</td>\n",
       "      <td>0.0</td>\n",
       "      <td>2.0</td>\n",
       "      <td>0.0</td>\n",
       "      <td>0.0</td>\n",
       "      <td>3.0</td>\n",
       "      <td>-0.566490</td>\n",
       "    </tr>\n",
       "  </tbody>\n",
       "</table>\n",
       "<p>5 rows × 23 columns</p>\n",
       "</div>"
      ],
      "text/plain": [
       "   Item_Weight  Item_Visibility  Item_MRP  Outlet_Establishment_Year  \\\n",
       "0    -0.769246        -0.970732  1.747454                  -0.139541   \n",
       "1    -1.496813        -0.908111 -1.489023                  -1.334103   \n",
       "2     0.995858        -0.956917  0.010040                  -0.139541   \n",
       "3     1.361794        -1.281758  0.660050                  -0.020085   \n",
       "4    -0.848890        -1.281758 -1.399220                   1.293934   \n",
       "\n",
       "   Item_Identifier_DR  Item_Identifier_FD  Item_Fat_Content_Regular  \\\n",
       "0                   0                   1                         0   \n",
       "1                   1                   0                         1   \n",
       "2                   0                   1                         0   \n",
       "3                   0                   1                         1   \n",
       "4                   0                   0                         0   \n",
       "\n",
       "   Outlet_Size_Medium  Outlet_Size_Small  Outlet_Location_Type_Tier 2  ...  \\\n",
       "0                   1                  0                            0  ...   \n",
       "1                   1                  0                            0  ...   \n",
       "2                   1                  0                            0  ...   \n",
       "3                   0                  1                            0  ...   \n",
       "4                   0                  0                            0  ...   \n",
       "\n",
       "   Outlet_Type_Supermarket Type3  Out_ID_H0  Out_ID_H1  Out_ID_H2  Out_ID_H3  \\\n",
       "0                              0       -1.0       -1.0        0.0        0.0   \n",
       "1                              0        0.0       -4.0        0.0        0.0   \n",
       "2                              0       -1.0       -1.0        0.0        0.0   \n",
       "3                              0        0.0       -4.0        0.0        0.0   \n",
       "4                              0        1.0       -3.0        0.0        0.0   \n",
       "\n",
       "   IT_H0  IT_H1  IT_H2  IT_H3  Item_Outlet_Sales  \n",
       "0    0.0    0.0    3.0    0.0           0.984978  \n",
       "1   -1.0    0.0    1.0   -1.0          -1.217837  \n",
       "2    0.0    0.0    2.0    0.0           0.220282  \n",
       "3    3.0   -1.0    0.0    1.0          -0.834969  \n",
       "4    2.0    0.0    0.0    3.0          -0.566490  \n",
       "\n",
       "[5 rows x 23 columns]"
      ]
     },
     "execution_count": 127,
     "metadata": {},
     "output_type": "execute_result"
    }
   ],
   "source": [
    "train_df.head()"
   ]
  },
  {
   "cell_type": "markdown",
   "metadata": {},
   "source": [
    "### Splitting the data set"
   ]
  },
  {
   "cell_type": "code",
   "execution_count": 128,
   "metadata": {},
   "outputs": [],
   "source": [
    "#Splitting the data 70-30\n",
    "\n",
    "train_df, val_df = train_test_split(train_df, train_size = 0.7, test_size = 0.3, random_state = 100)"
   ]
  },
  {
   "cell_type": "code",
   "execution_count": 129,
   "metadata": {},
   "outputs": [],
   "source": [
    "#Splitting into X_train and y_train (and X_val and y_val)\n",
    "\n",
    "y_train = train_df.pop('Item_Outlet_Sales')\n",
    "X_train = train_df\n",
    "\n",
    "y_val = val_df.pop('Item_Outlet_Sales')\n",
    "X_val = val_df"
   ]
  },
  {
   "cell_type": "code",
   "execution_count": 130,
   "metadata": {},
   "outputs": [
    {
     "name": "stdout",
     "output_type": "stream",
     "text": [
      "(5966, 22)\n",
      "(5966,)\n",
      "(2557, 22)\n",
      "(2557,)\n"
     ]
    }
   ],
   "source": [
    "print(X_train.shape)\n",
    "print(y_train.shape)\n",
    "print(X_val.shape)\n",
    "print(y_val.shape)"
   ]
  },
  {
   "cell_type": "markdown",
   "metadata": {},
   "source": [
    "## Model Building"
   ]
  },
  {
   "cell_type": "markdown",
   "metadata": {},
   "source": [
    "### 1. Linear Regression Model"
   ]
  },
  {
   "cell_type": "code",
   "execution_count": 131,
   "metadata": {},
   "outputs": [
    {
     "data": {
      "text/plain": [
       "LinearRegression()"
      ]
     },
     "execution_count": 131,
     "metadata": {},
     "output_type": "execute_result"
    }
   ],
   "source": [
    "#Creating a linear regression object with an intercept\n",
    "lm = LinearRegression(fit_intercept=True)\n",
    "\n",
    "#Fitting the model on the train set\n",
    "lm.fit(X_train, y_train)"
   ]
  },
  {
   "cell_type": "code",
   "execution_count": 132,
   "metadata": {},
   "outputs": [
    {
     "name": "stdout",
     "output_type": "stream",
     "text": [
      "Train dataset RMSE:  0.5633\n",
      "Validation dataset RMSE:  0.5661\n"
     ]
    }
   ],
   "source": [
    "#Making predictions on the train and validation set\n",
    "y_train_predictions_lr = lm.predict(X_train)\n",
    "y_val_predictions_lr = lm.predict(X_val)\n",
    "\n",
    "print('Train dataset RMSE: ', round(np.sqrt(mean_squared_error(y_train, y_train_predictions_lr)), 4))\n",
    "print('Validation dataset RMSE: ', round(np.sqrt(mean_squared_error(y_val, y_val_predictions_lr)), 4))"
   ]
  },
  {
   "cell_type": "code",
   "execution_count": 133,
   "metadata": {},
   "outputs": [
    {
     "name": "stdout",
     "output_type": "stream",
     "text": [
      "Train set R-squared value: 0.6865\n",
      "Validation set R-squared value: 0.6703\n"
     ]
    }
   ],
   "source": [
    "#Calculating the R-squared value for the train and val sets\n",
    "lr_train_score = r2_score(y_train, y_train_predictions_lr)\n",
    "lr_val_score = r2_score(y_val, y_val_predictions_lr)\n",
    "\n",
    "print(\"Train set R-squared value: {:.4f}\" .format(lr_train_score))\n",
    "print(\"Validation set R-squared value: {:.4f}\" .format(lr_val_score))"
   ]
  },
  {
   "cell_type": "markdown",
   "metadata": {},
   "source": [
    "### 2. Decision Tree Model"
   ]
  },
  {
   "cell_type": "code",
   "execution_count": 134,
   "metadata": {},
   "outputs": [
    {
     "name": "stdout",
     "output_type": "stream",
     "text": [
      "Fitting 5 folds for each of 336 candidates, totalling 1680 fits\n"
     ]
    },
    {
     "name": "stderr",
     "output_type": "stream",
     "text": [
      "[Parallel(n_jobs=-1)]: Using backend LokyBackend with 12 concurrent workers.\n",
      "[Parallel(n_jobs=-1)]: Done  26 tasks      | elapsed:    4.0s\n",
      "[Parallel(n_jobs=-1)]: Done 920 tasks      | elapsed:    6.3s\n",
      "[Parallel(n_jobs=-1)]: Done 1680 out of 1680 | elapsed:    7.8s finished\n"
     ]
    },
    {
     "data": {
      "text/plain": [
       "GridSearchCV(cv=5, estimator=DecisionTreeRegressor(random_state=100), n_jobs=-1,\n",
       "             param_grid={'max_depth': [4, 8, 12, 16],\n",
       "                         'max_features': ['auto', 'log2'],\n",
       "                         'max_leaf_nodes': [10, 25, 50, 75, 100, 125, 150],\n",
       "                         'min_samples_leaf': [10, 25, 50, 75, 100, 125]},\n",
       "             verbose=1)"
      ]
     },
     "execution_count": 134,
     "metadata": {},
     "output_type": "execute_result"
    }
   ],
   "source": [
    "#Creating the parameter grid\n",
    "param_grid = {\n",
    "    'max_depth': [4, 8, 12, 16],\n",
    "    'min_samples_leaf': [10, 25, 50, 75, 100, 125],\n",
    "    'max_leaf_nodes': [10, 25, 50, 75, 100, 125, 150],\n",
    "    'max_features' : ['auto', 'log2']\n",
    "}\n",
    "\n",
    "n_folds = 5\n",
    "\n",
    "# Instantiate the grid search model\n",
    "dtree_grid = DecisionTreeRegressor(random_state=100)\n",
    "grid_search_dtree = GridSearchCV(estimator = dtree_grid, param_grid = param_grid, \n",
    "                          cv = n_folds, verbose = 1, n_jobs=-1)\n",
    "\n",
    "# Fit the grid search to the data\n",
    "grid_search_dtree.fit(X_train, y_train)"
   ]
  },
  {
   "cell_type": "code",
   "execution_count": 135,
   "metadata": {},
   "outputs": [
    {
     "name": "stdout",
     "output_type": "stream",
     "text": [
      "best score 0.688813467980166\n",
      "DecisionTreeRegressor(max_depth=8, max_features='auto', max_leaf_nodes=25,\n",
      "                      min_samples_leaf=50, random_state=100)\n"
     ]
    }
   ],
   "source": [
    "# printing the optimal accuracy score and hyperparameters\n",
    "print(\"best score\", grid_search_dtree.best_score_)\n",
    "print(grid_search_dtree.best_estimator_)"
   ]
  },
  {
   "cell_type": "code",
   "execution_count": 136,
   "metadata": {},
   "outputs": [
    {
     "name": "stdout",
     "output_type": "stream",
     "text": [
      "Train set R-squared value: 0.7054\n",
      "Validation set R-squared value: 0.6782\n"
     ]
    }
   ],
   "source": [
    "# model with optimal hyperparameters\n",
    "dtree = DecisionTreeRegressor(max_depth=8,\n",
    "                              max_features = 'auto',\n",
    "                              max_leaf_nodes=25,\n",
    "                              min_samples_leaf=50,\n",
    "                              random_state = 100\n",
    "                             )\n",
    "\n",
    "dtree.fit(X_train, y_train)\n",
    "\n",
    "#Calculating the R-squared value for the train and val sets\n",
    "dtree_train_score = dtree.score(X_train, y_train)\n",
    "dtree_val_score = dtree.score(X_val, y_val)\n",
    "\n",
    "#Checking the R-squared value\n",
    "print(\"Train set R-squared value: {:.4f}\" .format(dtree_train_score))\n",
    "print(\"Validation set R-squared value: {:.4f}\" .format(dtree_val_score))"
   ]
  },
  {
   "cell_type": "markdown",
   "metadata": {},
   "source": [
    "### 3. Random Forest"
   ]
  },
  {
   "cell_type": "code",
   "execution_count": 137,
   "metadata": {},
   "outputs": [
    {
     "name": "stdout",
     "output_type": "stream",
     "text": [
      "Fitting 5 folds for each of 1250 candidates, totalling 6250 fits\n"
     ]
    },
    {
     "name": "stderr",
     "output_type": "stream",
     "text": [
      "[Parallel(n_jobs=-1)]: Using backend LokyBackend with 12 concurrent workers.\n",
      "[Parallel(n_jobs=-1)]: Done  26 tasks      | elapsed:    3.6s\n",
      "[Parallel(n_jobs=-1)]: Done 176 tasks      | elapsed:   20.7s\n",
      "[Parallel(n_jobs=-1)]: Done 426 tasks      | elapsed:   47.3s\n",
      "[Parallel(n_jobs=-1)]: Done 776 tasks      | elapsed:  1.2min\n",
      "[Parallel(n_jobs=-1)]: Done 1226 tasks      | elapsed:  1.6min\n",
      "[Parallel(n_jobs=-1)]: Done 1776 tasks      | elapsed:  2.9min\n",
      "[Parallel(n_jobs=-1)]: Done 2426 tasks      | elapsed:  3.5min\n",
      "[Parallel(n_jobs=-1)]: Done 3176 tasks      | elapsed:  5.3min\n",
      "[Parallel(n_jobs=-1)]: Done 4026 tasks      | elapsed:  6.4min\n",
      "[Parallel(n_jobs=-1)]: Done 4976 tasks      | elapsed:  7.9min\n",
      "[Parallel(n_jobs=-1)]: Done 6026 tasks      | elapsed:  9.9min\n",
      "[Parallel(n_jobs=-1)]: Done 6250 out of 6250 | elapsed: 10.1min finished\n"
     ]
    },
    {
     "data": {
      "text/plain": [
       "GridSearchCV(cv=5, estimator=RandomForestRegressor(random_state=100), n_jobs=-1,\n",
       "             param_grid={'max_depth': [4, 6, 8, 12, 14],\n",
       "                         'max_features': ['auto', 'log2'],\n",
       "                         'max_leaf_nodes': [10, 25, 50, 75, 100],\n",
       "                         'min_samples_leaf': [10, 25, 50, 75, 100],\n",
       "                         'n_estimators': [50, 100, 150, 175, 200]},\n",
       "             verbose=1)"
      ]
     },
     "execution_count": 137,
     "metadata": {},
     "output_type": "execute_result"
    }
   ],
   "source": [
    "#Creating the parameter grid\n",
    "param_grid = {\n",
    "    'n_estimators': [50, 100, 150, 175, 200],\n",
    "    'max_depth': [4, 6, 8, 12, 14],\n",
    "    'min_samples_leaf': [10, 25, 50, 75, 100],\n",
    "    'max_leaf_nodes': [10, 25, 50, 75, 100],\n",
    "    'max_features' : ['auto', 'log2']\n",
    "}\n",
    "\n",
    "n_folds = 5\n",
    "\n",
    "# Instantiate the grid search model\n",
    "rf_grid = RandomForestRegressor(random_state=100)\n",
    "grid_search_rf = GridSearchCV(estimator = rf_grid, param_grid = param_grid, \n",
    "                          cv = n_folds, verbose = 1, n_jobs=-1)\n",
    "\n",
    "# Fit the grid search to the data\n",
    "grid_search_rf.fit(X_train, y_train)"
   ]
  },
  {
   "cell_type": "code",
   "execution_count": 138,
   "metadata": {},
   "outputs": [
    {
     "name": "stdout",
     "output_type": "stream",
     "text": [
      "best score 0.6979384497622021\n",
      "RandomForestRegressor(max_depth=6, max_leaf_nodes=25, min_samples_leaf=25,\n",
      "                      n_estimators=200, random_state=100)\n"
     ]
    }
   ],
   "source": [
    "# printing the optimal accuracy score and hyperparameters\n",
    "print(\"best score\", grid_search_rf.best_score_)\n",
    "print(grid_search_rf.best_estimator_)"
   ]
  },
  {
   "cell_type": "code",
   "execution_count": 139,
   "metadata": {},
   "outputs": [
    {
     "name": "stdout",
     "output_type": "stream",
     "text": [
      "Train set R-squared value: 0.7112\n",
      "Validation set R-squared value: 0.6871\n"
     ]
    }
   ],
   "source": [
    "# model with optimal hyperparameters\n",
    "rf = RandomForestRegressor(max_depth=6,\n",
    "                           max_leaf_nodes=25,\n",
    "                           min_samples_leaf=25,\n",
    "                           n_estimators=200,\n",
    "                           random_state=100\n",
    "                           )\n",
    "\n",
    "rf.fit(X_train, y_train)\n",
    "\n",
    "#Calculating the R-squared value for the train and val sets\n",
    "rf_train_score = rf.score(X_train, y_train)\n",
    "rf_val_score = rf.score(X_val, y_val)\n",
    "\n",
    "#Checking the R-squared value\n",
    "print(\"Train set R-squared value: {:.4f}\" .format(rf_train_score))\n",
    "print(\"Validation set R-squared value: {:.4f}\" .format(rf_val_score))"
   ]
  },
  {
   "cell_type": "markdown",
   "metadata": {},
   "source": [
    "### 4. XGBoost"
   ]
  },
  {
   "cell_type": "code",
   "execution_count": 140,
   "metadata": {
    "scrolled": true
   },
   "outputs": [
    {
     "name": "stdout",
     "output_type": "stream",
     "text": [
      "Fitting 5 folds for each of 60000 candidates, totalling 300000 fits\n"
     ]
    },
    {
     "name": "stderr",
     "output_type": "stream",
     "text": [
      "[Parallel(n_jobs=-1)]: Using backend LokyBackend with 12 concurrent workers.\n",
      "[Parallel(n_jobs=-1)]: Done  26 tasks      | elapsed:    6.9s\n",
      "[Parallel(n_jobs=-1)]: Done 176 tasks      | elapsed:   14.0s\n",
      "[Parallel(n_jobs=-1)]: Done 426 tasks      | elapsed:   29.9s\n",
      "[Parallel(n_jobs=-1)]: Done 776 tasks      | elapsed:   47.5s\n",
      "[Parallel(n_jobs=-1)]: Done 1226 tasks      | elapsed:  1.2min\n",
      "[Parallel(n_jobs=-1)]: Done 1776 tasks      | elapsed:  1.7min\n",
      "[Parallel(n_jobs=-1)]: Done 2426 tasks      | elapsed:  2.3min\n",
      "[Parallel(n_jobs=-1)]: Done 3176 tasks      | elapsed:  3.2min\n",
      "[Parallel(n_jobs=-1)]: Done 4026 tasks      | elapsed:  4.4min\n",
      "[Parallel(n_jobs=-1)]: Done 4976 tasks      | elapsed:  5.6min\n",
      "[Parallel(n_jobs=-1)]: Done 6026 tasks      | elapsed:  7.2min\n",
      "[Parallel(n_jobs=-1)]: Done 7176 tasks      | elapsed:  8.8min\n",
      "[Parallel(n_jobs=-1)]: Done 8426 tasks      | elapsed: 11.8min\n",
      "[Parallel(n_jobs=-1)]: Done 9776 tasks      | elapsed: 15.1min\n",
      "[Parallel(n_jobs=-1)]: Done 11226 tasks      | elapsed: 16.6min\n",
      "[Parallel(n_jobs=-1)]: Done 12776 tasks      | elapsed: 17.9min\n",
      "[Parallel(n_jobs=-1)]: Done 14426 tasks      | elapsed: 20.0min\n",
      "[Parallel(n_jobs=-1)]: Done 16176 tasks      | elapsed: 24.7min\n",
      "[Parallel(n_jobs=-1)]: Done 18026 tasks      | elapsed: 68.5min\n",
      "[Parallel(n_jobs=-1)]: Done 19976 tasks      | elapsed: 72.2min\n",
      "[Parallel(n_jobs=-1)]: Done 22026 tasks      | elapsed: 73.5min\n",
      "[Parallel(n_jobs=-1)]: Done 24176 tasks      | elapsed: 75.2min\n",
      "[Parallel(n_jobs=-1)]: Done 26426 tasks      | elapsed: 77.7min\n",
      "[Parallel(n_jobs=-1)]: Done 28776 tasks      | elapsed: 81.4min\n",
      "[Parallel(n_jobs=-1)]: Done 31226 tasks      | elapsed: 84.4min\n",
      "[Parallel(n_jobs=-1)]: Done 33776 tasks      | elapsed: 86.6min\n",
      "[Parallel(n_jobs=-1)]: Done 36426 tasks      | elapsed: 89.8min\n",
      "[Parallel(n_jobs=-1)]: Done 39176 tasks      | elapsed: 95.0min\n",
      "[Parallel(n_jobs=-1)]: Done 42026 tasks      | elapsed: 98.3min\n",
      "[Parallel(n_jobs=-1)]: Done 44976 tasks      | elapsed: 101.1min\n",
      "[Parallel(n_jobs=-1)]: Done 48026 tasks      | elapsed: 105.1min\n",
      "[Parallel(n_jobs=-1)]: Done 51176 tasks      | elapsed: 109.3min\n",
      "[Parallel(n_jobs=-1)]: Done 54426 tasks      | elapsed: 111.8min\n",
      "[Parallel(n_jobs=-1)]: Done 57776 tasks      | elapsed: 116.0min\n",
      "[Parallel(n_jobs=-1)]: Done 61226 tasks      | elapsed: 121.2min\n",
      "[Parallel(n_jobs=-1)]: Done 64776 tasks      | elapsed: 124.3min\n",
      "[Parallel(n_jobs=-1)]: Done 68426 tasks      | elapsed: 130.0min\n",
      "[Parallel(n_jobs=-1)]: Done 72176 tasks      | elapsed: 134.5min\n",
      "[Parallel(n_jobs=-1)]: Done 76026 tasks      | elapsed: 138.5min\n",
      "[Parallel(n_jobs=-1)]: Done 79976 tasks      | elapsed: 145.6min\n",
      "[Parallel(n_jobs=-1)]: Done 84026 tasks      | elapsed: 148.9min\n",
      "[Parallel(n_jobs=-1)]: Done 88176 tasks      | elapsed: 155.0min\n",
      "[Parallel(n_jobs=-1)]: Done 92426 tasks      | elapsed: 162.0min\n",
      "[Parallel(n_jobs=-1)]: Done 96776 tasks      | elapsed: 168.0min\n",
      "[Parallel(n_jobs=-1)]: Done 101226 tasks      | elapsed: 176.4min\n",
      "[Parallel(n_jobs=-1)]: Done 105776 tasks      | elapsed: 181.8min\n",
      "[Parallel(n_jobs=-1)]: Done 110426 tasks      | elapsed: 191.5min\n",
      "[Parallel(n_jobs=-1)]: Done 115176 tasks      | elapsed: 196.9min\n",
      "[Parallel(n_jobs=-1)]: Done 120026 tasks      | elapsed: 207.7min\n",
      "[Parallel(n_jobs=-1)]: Done 124976 tasks      | elapsed: 214.0min\n",
      "[Parallel(n_jobs=-1)]: Done 130026 tasks      | elapsed: 226.8min\n",
      "[Parallel(n_jobs=-1)]: Done 135176 tasks      | elapsed: 231.3min\n",
      "[Parallel(n_jobs=-1)]: Done 140426 tasks      | elapsed: 240.2min\n",
      "[Parallel(n_jobs=-1)]: Done 145776 tasks      | elapsed: 245.1min\n",
      "[Parallel(n_jobs=-1)]: Done 151226 tasks      | elapsed: 256.1min\n",
      "[Parallel(n_jobs=-1)]: Done 156776 tasks      | elapsed: 264.7min\n",
      "[Parallel(n_jobs=-1)]: Done 162426 tasks      | elapsed: 275.6min\n",
      "[Parallel(n_jobs=-1)]: Done 168176 tasks      | elapsed: 285.5min\n",
      "[Parallel(n_jobs=-1)]: Done 174026 tasks      | elapsed: 297.2min\n",
      "[Parallel(n_jobs=-1)]: Done 179976 tasks      | elapsed: 369.7min\n",
      "[Parallel(n_jobs=-1)]: Done 186026 tasks      | elapsed: 376.4min\n",
      "[Parallel(n_jobs=-1)]: Done 192176 tasks      | elapsed: 387.2min\n",
      "[Parallel(n_jobs=-1)]: Done 198426 tasks      | elapsed: 397.1min\n",
      "[Parallel(n_jobs=-1)]: Done 204776 tasks      | elapsed: 404.9min\n",
      "[Parallel(n_jobs=-1)]: Done 211226 tasks      | elapsed: 415.4min\n",
      "[Parallel(n_jobs=-1)]: Done 217776 tasks      | elapsed: 424.5min\n",
      "[Parallel(n_jobs=-1)]: Done 224426 tasks      | elapsed: 435.8min\n",
      "[Parallel(n_jobs=-1)]: Done 231176 tasks      | elapsed: 449.2min\n",
      "[Parallel(n_jobs=-1)]: Done 238026 tasks      | elapsed: 460.5min\n",
      "[Parallel(n_jobs=-1)]: Done 244976 tasks      | elapsed: 472.2min\n",
      "[Parallel(n_jobs=-1)]: Done 252026 tasks      | elapsed: 487.9min\n",
      "[Parallel(n_jobs=-1)]: Done 259176 tasks      | elapsed: 501.0min\n",
      "[Parallel(n_jobs=-1)]: Done 266426 tasks      | elapsed: 510.3min\n",
      "[Parallel(n_jobs=-1)]: Done 273776 tasks      | elapsed: 521.8min\n",
      "[Parallel(n_jobs=-1)]: Done 281226 tasks      | elapsed: 535.7min\n",
      "[Parallel(n_jobs=-1)]: Done 288776 tasks      | elapsed: 548.6min\n",
      "[Parallel(n_jobs=-1)]: Done 296426 tasks      | elapsed: 560.3min\n",
      "[Parallel(n_jobs=-1)]: Done 300000 out of 300000 | elapsed: 569.0min finished\n"
     ]
    },
    {
     "data": {
      "text/plain": [
       "GridSearchCV(cv=5,\n",
       "             estimator=XGBRegressor(base_score=None, booster=None,\n",
       "                                    colsample_bylevel=None,\n",
       "                                    colsample_bynode=None,\n",
       "                                    colsample_bytree=None, gamma=None,\n",
       "                                    gpu_id=None, importance_type='gain',\n",
       "                                    interaction_constraints=None,\n",
       "                                    learning_rate=None, max_delta_step=None,\n",
       "                                    max_depth=None, min_child_weight=None,\n",
       "                                    missing=nan, monotone_constraints=None,\n",
       "                                    n_estimators=100, n_jobs=...\n",
       "                                    scale_pos_weight=None, subsample=None,\n",
       "                                    tree_method=None, validate_parameters=None,\n",
       "                                    verbosity=None),\n",
       "             n_jobs=-1,\n",
       "             param_grid={'colsample_bytree': [0.5, 0.6, 0.7, 0.8, 0.9],\n",
       "                         'gamma': [0, 0.1, 0.2, 0.3, 0.4, 0.5],\n",
       "                         'max_depth': [4, 6, 8, 12],\n",
       "                         'min_child_weight': [2, 4, 6, 8, 10],\n",
       "                         'n_estimators': [50, 75, 100, 125],\n",
       "                         'reg_alpha': [0, 0.001, 0.01, 0.1, 0.25],\n",
       "                         'reg_lambda': [0, 0.001, 0.01, 0.1, 0.25]},\n",
       "             verbose=1)"
      ]
     },
     "execution_count": 140,
     "metadata": {},
     "output_type": "execute_result"
    }
   ],
   "source": [
    "#Creating the parameter grid\n",
    "param_grid = {\n",
    "    'n_estimators': [50, 75, 100, 125],\n",
    "    'max_depth': [4, 6, 8, 12],\n",
    "    'min_child_weight': [2, 4, 6, 8, 10],            #Minimum sum of instance weight (hessian) needed in a child\n",
    "    'colsample_bytree': [0.5, 0.6, 0.7, 0.8, 0.9],   #Subsample ratio of columns when constructing each tree\n",
    "    'reg_alpha': [0, 0.001, 0.01, 0.1, 0.25],\n",
    "    'reg_lambda': [0, 0.001, 0.01, 0.1, 0.25],\n",
    "    'gamma': [0, 0.1, 0.2, 0.3, 0.4, 0.5]            #Minimum loss reduction required to make a further partition on a leaf node of the tree\n",
    "}\n",
    "\n",
    "n_folds = 5\n",
    "\n",
    "# Instantiate the grid search model\n",
    "xgb_grid = XGBRegressor(random_state=100)\n",
    "grid_search_xgb = GridSearchCV(estimator = xgb_grid, param_grid = param_grid, \n",
    "                          cv = n_folds, verbose = 1, n_jobs=-1)\n",
    "\n",
    "# Fit the grid search to the data\n",
    "grid_search_xgb.fit(X_train, y_train)"
   ]
  },
  {
   "cell_type": "code",
   "execution_count": 141,
   "metadata": {},
   "outputs": [
    {
     "name": "stdout",
     "output_type": "stream",
     "text": [
      "best score 0.6918518780234801\n",
      "XGBRegressor(base_score=0.5, booster='gbtree', colsample_bylevel=1,\n",
      "             colsample_bynode=1, colsample_bytree=0.9, gamma=0.5, gpu_id=-1,\n",
      "             importance_type='gain', interaction_constraints='',\n",
      "             learning_rate=0.300000012, max_delta_step=0, max_depth=4,\n",
      "             min_child_weight=10, missing=nan, monotone_constraints='()',\n",
      "             n_estimators=50, n_jobs=12, num_parallel_tree=1, random_state=100,\n",
      "             reg_alpha=0.001, reg_lambda=0.1, scale_pos_weight=1, subsample=1,\n",
      "             tree_method='exact', validate_parameters=1, verbosity=None)\n"
     ]
    }
   ],
   "source": [
    "# printing the optimal accuracy score and hyperparameters\n",
    "print(\"best score\", grid_search_xgb.best_score_)\n",
    "print(grid_search_xgb.best_estimator_)"
   ]
  },
  {
   "cell_type": "code",
   "execution_count": 142,
   "metadata": {},
   "outputs": [
    {
     "data": {
      "text/plain": [
       "XGBRegressor(base_score=0.5, booster='gbtree', colsample_bylevel=1,\n",
       "             colsample_bynode=1, colsample_bytree=0.9, gamma=0.5, gpu_id=-1,\n",
       "             importance_type='gain', interaction_constraints='',\n",
       "             learning_rate=0.3, max_delta_step=0, max_depth=4,\n",
       "             min_child_weight=10, missing=nan, monotone_constraints='()',\n",
       "             n_estimators=50, n_jobs=12, num_parallel_tree=1, random_state=0,\n",
       "             reg_alpha=0.001, reg_lambda=0.1, scale_pos_weight=1, subsample=1,\n",
       "             tree_method='exact', validate_parameters=1, verbosity=None)"
      ]
     },
     "execution_count": 142,
     "metadata": {},
     "output_type": "execute_result"
    }
   ],
   "source": [
    "xgb_model = XGBRegressor(colsample_bytree = 0.9, gamma = 0.5, learning_rate = 0.3, max_depth = 4, \n",
    "                         min_child_weight = 10, n_estimators = 50, reg_alpha = 0.001, reg_lambda = 0.1)\n",
    "\n",
    "xgb_model.fit(X_train, y_train)"
   ]
  },
  {
   "cell_type": "code",
   "execution_count": 143,
   "metadata": {},
   "outputs": [
    {
     "name": "stdout",
     "output_type": "stream",
     "text": [
      "Train set R-squared value: 0.7441\n",
      "Validation set R-squared value: 0.6756\n"
     ]
    }
   ],
   "source": [
    "#Making predictions using the xgb model\n",
    "\n",
    "train_predictions = xgb_model.predict(X_train)\n",
    "val_predictions = xgb_model.predict(X_val)\n",
    "\n",
    "#Calculating the R-squared value for the train and val sets\n",
    "xgb_train_score = r2_score(y_train, train_predictions)\n",
    "xgb_val_score = r2_score(y_val, val_predictions)\n",
    "\n",
    "print(\"Train set R-squared value: {:.4f}\" .format(xgb_train_score))\n",
    "print(\"Validation set R-squared value: {:.4f}\" .format(xgb_val_score))"
   ]
  },
  {
   "cell_type": "markdown",
   "metadata": {},
   "source": [
    "### 5. LGBM"
   ]
  },
  {
   "cell_type": "code",
   "execution_count": 144,
   "metadata": {
    "scrolled": true
   },
   "outputs": [
    {
     "name": "stdout",
     "output_type": "stream",
     "text": [
      "Fitting 5 folds for each of 75000 candidates, totalling 375000 fits\n"
     ]
    },
    {
     "name": "stderr",
     "output_type": "stream",
     "text": [
      "[Parallel(n_jobs=-1)]: Using backend LokyBackend with 12 concurrent workers.\n",
      "[Parallel(n_jobs=-1)]: Done  26 tasks      | elapsed:    3.5s\n",
      "[Parallel(n_jobs=-1)]: Done 176 tasks      | elapsed:   27.5s\n",
      "[Parallel(n_jobs=-1)]: Done 426 tasks      | elapsed:  1.2min\n",
      "[Parallel(n_jobs=-1)]: Done 776 tasks      | elapsed:  2.1min\n",
      "[Parallel(n_jobs=-1)]: Done 1226 tasks      | elapsed:  3.4min\n",
      "[Parallel(n_jobs=-1)]: Done 1776 tasks      | elapsed:  4.9min\n",
      "[Parallel(n_jobs=-1)]: Done 2426 tasks      | elapsed:  6.7min\n",
      "[Parallel(n_jobs=-1)]: Done 3176 tasks      | elapsed:  8.7min\n",
      "[Parallel(n_jobs=-1)]: Done 4026 tasks      | elapsed: 11.3min\n",
      "[Parallel(n_jobs=-1)]: Done 4976 tasks      | elapsed: 508.7min\n",
      "[Parallel(n_jobs=-1)]: Done 6026 tasks      | elapsed: 511.2min\n",
      "[Parallel(n_jobs=-1)]: Done 7176 tasks      | elapsed: 514.2min\n",
      "[Parallel(n_jobs=-1)]: Done 8426 tasks      | elapsed: 517.2min\n",
      "[Parallel(n_jobs=-1)]: Done 9776 tasks      | elapsed: 520.4min\n",
      "[Parallel(n_jobs=-1)]: Done 11226 tasks      | elapsed: 523.8min\n",
      "[Parallel(n_jobs=-1)]: Done 12776 tasks      | elapsed: 527.3min\n",
      "[Parallel(n_jobs=-1)]: Done 14426 tasks      | elapsed: 531.4min\n",
      "[Parallel(n_jobs=-1)]: Done 16176 tasks      | elapsed: 535.7min\n",
      "[Parallel(n_jobs=-1)]: Done 18026 tasks      | elapsed: 540.5min\n",
      "[Parallel(n_jobs=-1)]: Done 19976 tasks      | elapsed: 545.5min\n",
      "[Parallel(n_jobs=-1)]: Done 22026 tasks      | elapsed: 550.4min\n",
      "[Parallel(n_jobs=-1)]: Done 24176 tasks      | elapsed: 555.4min\n",
      "[Parallel(n_jobs=-1)]: Done 26426 tasks      | elapsed: 560.8min\n",
      "[Parallel(n_jobs=-1)]: Done 28776 tasks      | elapsed: 566.6min\n",
      "[Parallel(n_jobs=-1)]: Done 31226 tasks      | elapsed: 572.7min\n",
      "[Parallel(n_jobs=-1)]: Done 33776 tasks      | elapsed: 579.0min\n",
      "[Parallel(n_jobs=-1)]: Done 36426 tasks      | elapsed: 585.3min\n",
      "[Parallel(n_jobs=-1)]: Done 39176 tasks      | elapsed: 591.9min\n",
      "[Parallel(n_jobs=-1)]: Done 42026 tasks      | elapsed: 599.0min\n",
      "[Parallel(n_jobs=-1)]: Done 44976 tasks      | elapsed: 606.3min\n",
      "[Parallel(n_jobs=-1)]: Done 48026 tasks      | elapsed: 613.9min\n",
      "[Parallel(n_jobs=-1)]: Done 51176 tasks      | elapsed: 621.6min\n",
      "[Parallel(n_jobs=-1)]: Done 54426 tasks      | elapsed: 629.9min\n",
      "[Parallel(n_jobs=-1)]: Done 57776 tasks      | elapsed: 638.3min\n",
      "[Parallel(n_jobs=-1)]: Done 61226 tasks      | elapsed: 646.6min\n",
      "[Parallel(n_jobs=-1)]: Done 64776 tasks      | elapsed: 655.3min\n",
      "[Parallel(n_jobs=-1)]: Done 68426 tasks      | elapsed: 664.3min\n",
      "[Parallel(n_jobs=-1)]: Done 72176 tasks      | elapsed: 673.8min\n",
      "[Parallel(n_jobs=-1)]: Done 76026 tasks      | elapsed: 684.3min\n",
      "[Parallel(n_jobs=-1)]: Done 79976 tasks      | elapsed: 696.0min\n",
      "[Parallel(n_jobs=-1)]: Done 84026 tasks      | elapsed: 707.3min\n",
      "[Parallel(n_jobs=-1)]: Done 88176 tasks      | elapsed: 717.7min\n",
      "[Parallel(n_jobs=-1)]: Done 92426 tasks      | elapsed: 728.3min\n",
      "[Parallel(n_jobs=-1)]: Done 96776 tasks      | elapsed: 739.0min\n",
      "[Parallel(n_jobs=-1)]: Done 101226 tasks      | elapsed: 749.6min\n",
      "[Parallel(n_jobs=-1)]: Done 105776 tasks      | elapsed: 760.9min\n",
      "[Parallel(n_jobs=-1)]: Done 110426 tasks      | elapsed: 772.2min\n",
      "[Parallel(n_jobs=-1)]: Done 115176 tasks      | elapsed: 783.7min\n",
      "[Parallel(n_jobs=-1)]: Done 120026 tasks      | elapsed: 795.9min\n",
      "[Parallel(n_jobs=-1)]: Done 124976 tasks      | elapsed: 807.7min\n",
      "[Parallel(n_jobs=-1)]: Done 130026 tasks      | elapsed: 820.3min\n",
      "[Parallel(n_jobs=-1)]: Done 135176 tasks      | elapsed: 832.8min\n",
      "[Parallel(n_jobs=-1)]: Done 140426 tasks      | elapsed: 845.2min\n",
      "[Parallel(n_jobs=-1)]: Done 145776 tasks      | elapsed: 858.4min\n",
      "[Parallel(n_jobs=-1)]: Done 151226 tasks      | elapsed: 871.2min\n",
      "[Parallel(n_jobs=-1)]: Done 156776 tasks      | elapsed: 887.7min\n",
      "[Parallel(n_jobs=-1)]: Done 162426 tasks      | elapsed: 904.1min\n",
      "[Parallel(n_jobs=-1)]: Done 168176 tasks      | elapsed: 921.5min\n",
      "[Parallel(n_jobs=-1)]: Done 174026 tasks      | elapsed: 938.2min\n",
      "[Parallel(n_jobs=-1)]: Done 179976 tasks      | elapsed: 954.6min\n",
      "[Parallel(n_jobs=-1)]: Done 186026 tasks      | elapsed: 970.8min\n",
      "[Parallel(n_jobs=-1)]: Done 192176 tasks      | elapsed: 987.0min\n",
      "[Parallel(n_jobs=-1)]: Done 198426 tasks      | elapsed: 1002.6min\n",
      "[Parallel(n_jobs=-1)]: Done 204776 tasks      | elapsed: 1019.3min\n",
      "[Parallel(n_jobs=-1)]: Done 211226 tasks      | elapsed: 1037.0min\n",
      "[Parallel(n_jobs=-1)]: Done 217776 tasks      | elapsed: 1056.7min\n",
      "[Parallel(n_jobs=-1)]: Done 224426 tasks      | elapsed: 1074.6min\n",
      "[Parallel(n_jobs=-1)]: Done 231176 tasks      | elapsed: 1092.4min\n",
      "[Parallel(n_jobs=-1)]: Done 238026 tasks      | elapsed: 1109.9min\n",
      "[Parallel(n_jobs=-1)]: Done 244976 tasks      | elapsed: 1129.0min\n",
      "[Parallel(n_jobs=-1)]: Done 252026 tasks      | elapsed: 1147.5min\n",
      "[Parallel(n_jobs=-1)]: Done 259176 tasks      | elapsed: 1166.5min\n",
      "[Parallel(n_jobs=-1)]: Done 266426 tasks      | elapsed: 1185.2min\n",
      "[Parallel(n_jobs=-1)]: Done 273776 tasks      | elapsed: 1204.9min\n",
      "[Parallel(n_jobs=-1)]: Done 281226 tasks      | elapsed: 1226.4min\n",
      "[Parallel(n_jobs=-1)]: Done 288776 tasks      | elapsed: 1249.2min\n",
      "[Parallel(n_jobs=-1)]: Done 296426 tasks      | elapsed: 1268.7min\n",
      "[Parallel(n_jobs=-1)]: Done 304176 tasks      | elapsed: 1287.5min\n",
      "[Parallel(n_jobs=-1)]: Done 312026 tasks      | elapsed: 1306.7min\n",
      "[Parallel(n_jobs=-1)]: Done 319976 tasks      | elapsed: 1326.2min\n",
      "[Parallel(n_jobs=-1)]: Done 328026 tasks      | elapsed: 1345.4min\n",
      "[Parallel(n_jobs=-1)]: Done 336176 tasks      | elapsed: 1365.0min\n",
      "[Parallel(n_jobs=-1)]: Done 344426 tasks      | elapsed: 1385.2min\n",
      "[Parallel(n_jobs=-1)]: Done 352776 tasks      | elapsed: 1405.3min\n",
      "[Parallel(n_jobs=-1)]: Done 361226 tasks      | elapsed: 1425.9min\n",
      "[Parallel(n_jobs=-1)]: Done 369776 tasks      | elapsed: 1447.3min\n",
      "[Parallel(n_jobs=-1)]: Done 375000 out of 375000 | elapsed: 1459.9min finished\n"
     ]
    },
    {
     "name": "stdout",
     "output_type": "stream",
     "text": [
      "[LightGBM] [Warning] feature_fraction is set=0.9, colsample_bytree=1.0 will be ignored. Current value: feature_fraction=0.9\n",
      "[LightGBM] [Warning] lambda_l1 is set=0.05, reg_alpha=0.0 will be ignored. Current value: lambda_l1=0.05\n",
      "[LightGBM] [Warning] bagging_fraction is set=0.5, subsample=1.0 will be ignored. Current value: bagging_fraction=0.5\n",
      "[LightGBM] [Warning] lambda_l2 is set=0.01, reg_lambda=0.0 will be ignored. Current value: lambda_l2=0.01\n"
     ]
    },
    {
     "data": {
      "text/plain": [
       "GridSearchCV(cv=5,\n",
       "             estimator=LGBMRegressor(bagging_seed=100, boosting_type='dart',\n",
       "                                     num_iterations=100, random_state=100),\n",
       "             n_jobs=-1,\n",
       "             param_grid={'bagging_fraction': [0.5, 0.6, 0.7, 0.8, 0.9, 1],\n",
       "                         'feature_fraction': [0.5, 0.6, 0.7, 0.8, 0.9],\n",
       "                         'lambda_l1': [0, 0.01, 0.05, 0.1, 0.25],\n",
       "                         'lambda_l2': [0, 0.01, 0.05, 0.1, 0.25],\n",
       "                         'max_bin': [100, 155, 255, 355],\n",
       "                         'max_depth': [6, 8, 10, 12, 14],\n",
       "                         'num_leaves': [32, 64, 128, 160, 192]},\n",
       "             verbose=1)"
      ]
     },
     "execution_count": 144,
     "metadata": {},
     "output_type": "execute_result"
    }
   ],
   "source": [
    "#Defining the parameter grid\n",
    "\n",
    "param_grid = { 'num_leaves': [32, 64, 128, 160, 192],\n",
    "               'max_depth': [6, 8, 10, 12, 14],\n",
    "               'max_bin' : [100, 155, 255, 355],                       #Max number of bins that feature values will be bucketed in; default = 100\n",
    "               'feature_fraction' : [0.5, 0.6, 0.7, 0.8, 0.9],         #Percentage of features selected for training each tree\n",
    "               'bagging_fraction' : [0.5, 0.6, 0.7, 0.8, 0.9, 1],\n",
    "               'lambda_l1': [0, 0.01, 0.05, 0.1, 0.25],\n",
    "               'lambda_l2' : [0, 0.01, 0.05, 0.1, 0.25]\n",
    "              }\n",
    "\n",
    "\n",
    "#Specify the number of folds (note that StratifiedKFold can't be used with a continuous target variable)\n",
    "n_folds = 5\n",
    "\n",
    "\n",
    "# Instantiate the LGBM classifier\n",
    "lgbm_grid = LGBMRegressor(random_state = 100, \n",
    "                bagging_seed = 100,               #Random seed for bagging\n",
    "                boosting_type = 'dart',           #gbdt = Dropouts meet Multiple Additive Regression Trees\n",
    "                n_jobs = -1,                       \n",
    "                num_iterations = 100              #Number of boosting iterations (default = 100); we can change this once the hyperparameters have been tuned\n",
    "               )\n",
    "\n",
    "\n",
    "grid_search_lgbm = GridSearchCV(estimator = lgbm_grid, param_grid = param_grid, cv = n_folds, verbose=1, n_jobs=-1)\n",
    "\n",
    "\n",
    "# Fit the grid search to the data\n",
    "grid_search_lgbm.fit(X_train, y_train)"
   ]
  },
  {
   "cell_type": "code",
   "execution_count": 145,
   "metadata": {},
   "outputs": [
    {
     "name": "stdout",
     "output_type": "stream",
     "text": [
      "{'bagging_fraction': 0.5, 'feature_fraction': 0.9, 'lambda_l1': 0.05, 'lambda_l2': 0.01, 'max_bin': 155, 'max_depth': 6, 'num_leaves': 32}\n",
      "0.6864285194598972\n"
     ]
    }
   ],
   "source": [
    "#Viewing the best parameters from the grid search\n",
    "print(grid_search_lgbm.best_params_)\n",
    "print(grid_search_lgbm.best_score_)"
   ]
  },
  {
   "cell_type": "code",
   "execution_count": 147,
   "metadata": {},
   "outputs": [
    {
     "name": "stdout",
     "output_type": "stream",
     "text": [
      "[LightGBM] [Warning] Find whitespaces in feature_names, replace with underlines\n",
      "[LightGBM] [Warning] Auto-choosing row-wise multi-threading, the overhead of testing was 0.000714 seconds.\n",
      "You can set `force_row_wise=true` to remove the overhead.\n",
      "And if memory is not enough, you can set `force_col_wise=true`.\n",
      "[LightGBM] [Info] Total Bins 527\n",
      "[LightGBM] [Info] Number of data points in the train set: 5966, number of used features: 21\n",
      "[LightGBM] [Info] Start training from score -0.003236\n",
      "[LightGBM] [Warning] No further splits with positive gain, best gain: -inf\n"
     ]
    }
   ],
   "source": [
    "#Fitting a model without specifying categorical columns\n",
    "\n",
    "params = {'bagging_fraction': 0.5,\n",
    "          'feature_fraction': 0.9,\n",
    "          'lambda_l1': 0.05,\n",
    "          'lambda_l2': 0.01,\n",
    "          'max_bin': 155,\n",
    "          'max_depth': 6,\n",
    "          'num_leaves': 32,\n",
    "          'objective': 'regression',             \n",
    "          'boosting_type': 'dart',         #dart = Dropouts meet multiple Additive Regression Trees\n",
    "          'metric': 'rmse',\n",
    "          'n_jobs': -1,                   \n",
    "          'num_iterations': 100                   \n",
    "         }\n",
    "\n",
    "\n",
    "#Creating a dataset for fitting this model\n",
    "d_train_nocat = lgb.Dataset(X_train, y_train)\n",
    "\n",
    "#Training a model without passing the validation set\n",
    "model_lgb_nocat = lgb.train(params, d_train_nocat, verbose_eval=50)"
   ]
  },
  {
   "cell_type": "code",
   "execution_count": 148,
   "metadata": {},
   "outputs": [
    {
     "name": "stdout",
     "output_type": "stream",
     "text": [
      "Train set R-squared value: 0.7266\n",
      "Validation set R-squared value: 0.6801\n"
     ]
    }
   ],
   "source": [
    "#Making predictions using the lgb model\n",
    "train_predictions = model_lgb_nocat.predict(X_train)\n",
    "val_predictions = model_lgb_nocat.predict(X_val)\n",
    "\n",
    "#Calculating the R-squared value for the train and val sets\n",
    "lgb_train_score_nocat = r2_score(y_train, train_predictions)\n",
    "lgb_val_score_nocat = r2_score(y_val, val_predictions)\n",
    "\n",
    "print(\"Train set R-squared value: {:.4f}\" .format(lgb_train_score_nocat))\n",
    "print(\"Validation set R-squared value: {:.4f}\" .format(lgb_val_score_nocat))"
   ]
  },
  {
   "cell_type": "code",
   "execution_count": 149,
   "metadata": {},
   "outputs": [
    {
     "name": "stdout",
     "output_type": "stream",
     "text": [
      "[LightGBM] [Warning] Met negative value in categorical features, will convert it to NaN\n",
      "[LightGBM] [Warning] Met negative value in categorical features, will convert it to NaN\n",
      "[LightGBM] [Warning] Met negative value in categorical features, will convert it to NaN\n",
      "[LightGBM] [Warning] Find whitespaces in feature_names, replace with underlines\n",
      "[LightGBM] [Warning] Auto-choosing row-wise multi-threading, the overhead of testing was 0.000680 seconds.\n",
      "You can set `force_row_wise=true` to remove the overhead.\n",
      "And if memory is not enough, you can set `force_col_wise=true`.\n",
      "[LightGBM] [Info] Total Bins 531\n",
      "[LightGBM] [Info] Number of data points in the train set: 5966, number of used features: 20\n",
      "[LightGBM] [Info] Start training from score -0.003236\n",
      "[LightGBM] [Warning] No further splits with positive gain, best gain: -inf\n",
      "[LightGBM] [Warning] No further splits with positive gain, best gain: -inf\n",
      "[LightGBM] [Warning] No further splits with positive gain, best gain: -inf\n"
     ]
    }
   ],
   "source": [
    "#Fitting a lgb model by specifying categorical columns\n",
    "\n",
    "params = {'bagging_fraction': 0.5,\n",
    "          'feature_fraction': 0.9,\n",
    "          'lambda_l1': 0.05,\n",
    "          'lambda_l2': 0.01,\n",
    "          'max_bin': 155,\n",
    "          'max_depth': 6,\n",
    "          'num_leaves': 32,\n",
    "          'objective': 'regression',             \n",
    "          'boosting_type': 'dart',         #dart = Dropouts meet multiple Additive Regression Trees\n",
    "          'metric': 'rmse',\n",
    "          'n_jobs': -1,                   \n",
    "          'num_iterations': 100                   \n",
    "         }\n",
    "\n",
    "\n",
    "#Creating a list of categorical features in the dataset\n",
    "cat_feature_names = ['Item_Identifier_DR', 'Item_Identifier_FD', 'Item_Fat_Content_Regular', 'Outlet_Size_Medium', \n",
    "                     'Outlet_Size_Small', 'Outlet_Location_Type_Tier 2', 'Outlet_Location_Type_Tier 3', \n",
    "                     'Outlet_Type_Grocery Store', 'Outlet_Type_Supermarket Type1', 'Outlet_Type_Supermarket Type3', \n",
    "                     'Out_ID_H0', 'Out_ID_H1', 'Out_ID_H2', 'Out_ID_H3', 'IT_H0', 'IT_H1', 'IT_H2', 'IT_H3']\n",
    "\n",
    "\n",
    "#Creating a dataset for fitting this model\n",
    "d_train_cat = lgb.Dataset(X_train, y_train)\n",
    "\n",
    "#Training a model without passing the validation set\n",
    "model_lgb_cat = lgb.train(params, d_train_cat, categorical_feature = cat_feature_names, verbose_eval=50)"
   ]
  },
  {
   "cell_type": "code",
   "execution_count": 150,
   "metadata": {},
   "outputs": [
    {
     "name": "stdout",
     "output_type": "stream",
     "text": [
      "Train set R-squared value: 0.7257\n",
      "Validation set R-squared value: 0.6807\n"
     ]
    }
   ],
   "source": [
    "#Making predictions using the lgb model\n",
    "train_predictions = model_lgb_cat.predict(X_train)\n",
    "val_predictions = model_lgb_cat.predict(X_val)\n",
    "\n",
    "#Calculating the R-squared value for the train and val sets\n",
    "lgb_train_score_cat = r2_score(y_train, train_predictions)\n",
    "lgb_val_score_cat = r2_score(y_val, val_predictions)\n",
    "\n",
    "print(\"Train set R-squared value: {:.4f}\" .format(lgb_train_score_cat))\n",
    "print(\"Validation set R-squared value: {:.4f}\" .format(lgb_val_score_cat))"
   ]
  },
  {
   "cell_type": "markdown",
   "metadata": {},
   "source": [
    "The R-squared value for the train set is higher when the categorical features list is not passed. The R-squared value for the test set is the same for both models."
   ]
  },
  {
   "cell_type": "markdown",
   "metadata": {},
   "source": [
    "### 6. CatBoost"
   ]
  },
  {
   "cell_type": "code",
   "execution_count": 151,
   "metadata": {
    "scrolled": true
   },
   "outputs": [
    {
     "name": "stdout",
     "output_type": "stream",
     "text": [
      "Fitting 5 folds for each of 2400 candidates, totalling 12000 fits\n"
     ]
    },
    {
     "name": "stderr",
     "output_type": "stream",
     "text": [
      "[Parallel(n_jobs=-1)]: Using backend LokyBackend with 12 concurrent workers.\n",
      "[Parallel(n_jobs=-1)]: Done  26 tasks      | elapsed:   10.1s\n",
      "[Parallel(n_jobs=-1)]: Done 176 tasks      | elapsed:   15.9s\n",
      "[Parallel(n_jobs=-1)]: Done 681 tasks      | elapsed:   23.8s\n",
      "[Parallel(n_jobs=-1)]: Done 1211 tasks      | elapsed:   35.6s\n",
      "[Parallel(n_jobs=-1)]: Done 2168 tasks      | elapsed:   56.5s\n",
      "[Parallel(n_jobs=-1)]: Done 3218 tasks      | elapsed:  1.3min\n",
      "[Parallel(n_jobs=-1)]: Done 4286 tasks      | elapsed:  1.7min\n",
      "[Parallel(n_jobs=-1)]: Done 5771 tasks      | elapsed:  2.2min\n",
      "[Parallel(n_jobs=-1)]: Done 7310 tasks      | elapsed:  2.7min\n",
      "[Parallel(n_jobs=-1)]: Done 9164 tasks      | elapsed:  3.3min\n",
      "[Parallel(n_jobs=-1)]: Done 11281 tasks      | elapsed:  4.1min\n",
      "[Parallel(n_jobs=-1)]: Done 11977 out of 12000 | elapsed:  4.3min remaining:    0.4s\n",
      "[Parallel(n_jobs=-1)]: Done 12000 out of 12000 | elapsed:  4.4min finished\n"
     ]
    },
    {
     "name": "stdout",
     "output_type": "stream",
     "text": [
      "0:\tlearn: 0.9435737\ttotal: 154ms\tremaining: 7.52s\n",
      "1:\tlearn: 0.8871782\ttotal: 158ms\tremaining: 3.79s\n",
      "2:\tlearn: 0.8408712\ttotal: 160ms\tremaining: 2.5s\n",
      "3:\tlearn: 0.7971525\ttotal: 161ms\tremaining: 1.85s\n",
      "4:\tlearn: 0.7638283\ttotal: 163ms\tremaining: 1.46s\n",
      "5:\tlearn: 0.7346068\ttotal: 166ms\tremaining: 1.22s\n",
      "6:\tlearn: 0.7097957\ttotal: 170ms\tremaining: 1.04s\n",
      "7:\tlearn: 0.6862935\ttotal: 171ms\tremaining: 899ms\n",
      "8:\tlearn: 0.6661010\ttotal: 173ms\tremaining: 787ms\n",
      "9:\tlearn: 0.6473978\ttotal: 174ms\tremaining: 698ms\n",
      "10:\tlearn: 0.6313494\ttotal: 176ms\tremaining: 625ms\n",
      "11:\tlearn: 0.6192792\ttotal: 180ms\tremaining: 569ms\n",
      "12:\tlearn: 0.6087120\ttotal: 182ms\tremaining: 518ms\n",
      "13:\tlearn: 0.5993884\ttotal: 184ms\tremaining: 473ms\n",
      "14:\tlearn: 0.5920755\ttotal: 186ms\tremaining: 435ms\n",
      "15:\tlearn: 0.5850440\ttotal: 191ms\tremaining: 406ms\n",
      "16:\tlearn: 0.5789285\ttotal: 193ms\tremaining: 375ms\n",
      "17:\tlearn: 0.5738436\ttotal: 197ms\tremaining: 351ms\n",
      "18:\tlearn: 0.5700920\ttotal: 215ms\tremaining: 351ms\n",
      "19:\tlearn: 0.5662943\ttotal: 218ms\tremaining: 327ms\n",
      "20:\tlearn: 0.5635025\ttotal: 223ms\tremaining: 308ms\n",
      "21:\tlearn: 0.5605584\ttotal: 225ms\tremaining: 286ms\n",
      "22:\tlearn: 0.5586613\ttotal: 227ms\tremaining: 267ms\n",
      "23:\tlearn: 0.5567445\ttotal: 245ms\tremaining: 266ms\n",
      "24:\tlearn: 0.5553737\ttotal: 249ms\tremaining: 249ms\n",
      "25:\tlearn: 0.5540733\ttotal: 252ms\tremaining: 232ms\n",
      "26:\tlearn: 0.5529061\ttotal: 254ms\tremaining: 217ms\n",
      "27:\tlearn: 0.5517470\ttotal: 259ms\tremaining: 204ms\n",
      "28:\tlearn: 0.5509843\ttotal: 261ms\tremaining: 189ms\n",
      "29:\tlearn: 0.5502186\ttotal: 264ms\tremaining: 176ms\n",
      "30:\tlearn: 0.5495589\ttotal: 266ms\tremaining: 163ms\n",
      "31:\tlearn: 0.5488560\ttotal: 268ms\tremaining: 151ms\n",
      "32:\tlearn: 0.5483280\ttotal: 271ms\tremaining: 139ms\n",
      "33:\tlearn: 0.5477447\ttotal: 273ms\tremaining: 128ms\n",
      "34:\tlearn: 0.5473160\ttotal: 275ms\tremaining: 118ms\n",
      "35:\tlearn: 0.5468005\ttotal: 277ms\tremaining: 108ms\n",
      "36:\tlearn: 0.5464343\ttotal: 279ms\tremaining: 98ms\n",
      "37:\tlearn: 0.5460023\ttotal: 281ms\tremaining: 88.7ms\n",
      "38:\tlearn: 0.5456947\ttotal: 283ms\tremaining: 79.9ms\n",
      "39:\tlearn: 0.5453569\ttotal: 285ms\tremaining: 71.3ms\n",
      "40:\tlearn: 0.5450536\ttotal: 287ms\tremaining: 63.1ms\n",
      "41:\tlearn: 0.5448281\ttotal: 302ms\tremaining: 57.5ms\n",
      "42:\tlearn: 0.5444889\ttotal: 304ms\tremaining: 49.5ms\n",
      "43:\tlearn: 0.5441938\ttotal: 306ms\tremaining: 41.7ms\n",
      "44:\tlearn: 0.5440103\ttotal: 308ms\tremaining: 34.2ms\n",
      "45:\tlearn: 0.5438621\ttotal: 310ms\tremaining: 26.9ms\n",
      "46:\tlearn: 0.5436884\ttotal: 312ms\tremaining: 19.9ms\n",
      "47:\tlearn: 0.5434736\ttotal: 314ms\tremaining: 13.1ms\n",
      "48:\tlearn: 0.5432602\ttotal: 316ms\tremaining: 6.45ms\n",
      "49:\tlearn: 0.5429550\ttotal: 318ms\tremaining: 0us\n"
     ]
    },
    {
     "data": {
      "text/plain": [
       "GridSearchCV(cv=5,\n",
       "             estimator=<catboost.core.CatBoostRegressor object at 0x000002479627B250>,\n",
       "             n_jobs=-1,\n",
       "             param_grid={'l2_leaf_reg': [0.5, 1, 2, 3, 4, 5],\n",
       "                         'learning_rate': [0.001, 0.01, 0.05, 0.1, 0.25],\n",
       "                         'max_depth': [4, 6, 8, 10],\n",
       "                         'n_estimators': [25, 50, 75, 100],\n",
       "                         'num_leaves': [16, 32, 64, 96, 128]},\n",
       "             verbose=1)"
      ]
     },
     "execution_count": 151,
     "metadata": {},
     "output_type": "execute_result"
    }
   ],
   "source": [
    "#Defining the parameter grid\n",
    "\n",
    "param_grid = {'n_estimators': [25, 50, 75, 100],\n",
    "              'learning_rate': [0.001, 0.01, 0.05, 0.1, 0.25],\n",
    "              'max_depth': [4, 6, 8, 10],\n",
    "              'num_leaves': [16, 32, 64, 96, 128],\n",
    "              'l2_leaf_reg': [0.5, 1, 2, 3, 4, 5]\n",
    "              }\n",
    "\n",
    "\n",
    "#Specify the number of folds (note that StratifiedKFold can't be used with a continuous target variable)\n",
    "n_folds = 5\n",
    "\n",
    "\n",
    "# Instantiate the LGBM classifier\n",
    "cb_grid = CatBoostRegressor(random_state = 100,\n",
    "                              loss_function = 'RMSE'\n",
    "                            )\n",
    "\n",
    "\n",
    "grid_search_cb = GridSearchCV(estimator = cb_grid, param_grid = param_grid, cv = n_folds, verbose=1, n_jobs=-1)\n",
    "\n",
    "\n",
    "# Fit the grid search to the data\n",
    "grid_search_cb.fit(X_train, y_train)"
   ]
  },
  {
   "cell_type": "code",
   "execution_count": 152,
   "metadata": {},
   "outputs": [
    {
     "name": "stdout",
     "output_type": "stream",
     "text": [
      "{'l2_leaf_reg': 0.5, 'learning_rate': 0.1, 'max_depth': 4, 'n_estimators': 50, 'num_leaves': 16}\n",
      "0.7016854067724779\n"
     ]
    }
   ],
   "source": [
    "#Viewing the best parameters from the grid search\n",
    "print(grid_search_cb.best_params_)\n",
    "print(grid_search_cb.best_score_)"
   ]
  },
  {
   "cell_type": "code",
   "execution_count": 153,
   "metadata": {
    "scrolled": true
   },
   "outputs": [
    {
     "name": "stdout",
     "output_type": "stream",
     "text": [
      "0:\tlearn: 0.9415872\ttotal: 8.53ms\tremaining: 418ms\n",
      "1:\tlearn: 0.8873503\ttotal: 12.3ms\tremaining: 296ms\n",
      "2:\tlearn: 0.8376702\ttotal: 15.2ms\tremaining: 238ms\n",
      "3:\tlearn: 0.7987150\ttotal: 21.2ms\tremaining: 244ms\n",
      "4:\tlearn: 0.7618042\ttotal: 24ms\tremaining: 216ms\n",
      "5:\tlearn: 0.7307031\ttotal: 27.1ms\tremaining: 199ms\n",
      "6:\tlearn: 0.7031037\ttotal: 30.4ms\tremaining: 187ms\n",
      "7:\tlearn: 0.6800642\ttotal: 33.7ms\tremaining: 177ms\n",
      "8:\tlearn: 0.6603954\ttotal: 36.4ms\tremaining: 166ms\n",
      "9:\tlearn: 0.6445629\ttotal: 39.3ms\tremaining: 157ms\n",
      "10:\tlearn: 0.6303966\ttotal: 42.4ms\tremaining: 150ms\n",
      "11:\tlearn: 0.6203656\ttotal: 45.5ms\tremaining: 144ms\n",
      "12:\tlearn: 0.6101816\ttotal: 48.5ms\tremaining: 138ms\n",
      "13:\tlearn: 0.6003809\ttotal: 51.8ms\tremaining: 133ms\n",
      "14:\tlearn: 0.5923070\ttotal: 63.9ms\tremaining: 149ms\n",
      "15:\tlearn: 0.5863929\ttotal: 69.1ms\tremaining: 147ms\n",
      "16:\tlearn: 0.5806633\ttotal: 72ms\tremaining: 140ms\n",
      "17:\tlearn: 0.5760976\ttotal: 75.5ms\tremaining: 134ms\n",
      "18:\tlearn: 0.5715454\ttotal: 78.3ms\tremaining: 128ms\n",
      "19:\tlearn: 0.5682309\ttotal: 84.1ms\tremaining: 126ms\n",
      "20:\tlearn: 0.5655633\ttotal: 87.1ms\tremaining: 120ms\n",
      "21:\tlearn: 0.5625084\ttotal: 90.1ms\tremaining: 115ms\n",
      "22:\tlearn: 0.5600915\ttotal: 96.2ms\tremaining: 113ms\n",
      "23:\tlearn: 0.5582718\ttotal: 99.3ms\tremaining: 108ms\n",
      "24:\tlearn: 0.5562156\ttotal: 111ms\tremaining: 111ms\n",
      "25:\tlearn: 0.5548515\ttotal: 115ms\tremaining: 106ms\n",
      "26:\tlearn: 0.5532781\ttotal: 124ms\tremaining: 106ms\n",
      "27:\tlearn: 0.5523106\ttotal: 128ms\tremaining: 100ms\n",
      "28:\tlearn: 0.5515711\ttotal: 138ms\tremaining: 99.8ms\n",
      "29:\tlearn: 0.5506438\ttotal: 141ms\tremaining: 94.2ms\n",
      "30:\tlearn: 0.5499367\ttotal: 153ms\tremaining: 93.9ms\n",
      "31:\tlearn: 0.5493865\ttotal: 156ms\tremaining: 87.6ms\n",
      "32:\tlearn: 0.5488769\ttotal: 158ms\tremaining: 81.4ms\n",
      "33:\tlearn: 0.5481108\ttotal: 160ms\tremaining: 75.4ms\n",
      "34:\tlearn: 0.5475081\ttotal: 163ms\tremaining: 69.7ms\n",
      "35:\tlearn: 0.5472925\ttotal: 165ms\tremaining: 64.2ms\n",
      "36:\tlearn: 0.5470380\ttotal: 168ms\tremaining: 59ms\n",
      "37:\tlearn: 0.5465760\ttotal: 183ms\tremaining: 57.8ms\n",
      "38:\tlearn: 0.5463856\ttotal: 199ms\tremaining: 56.1ms\n",
      "39:\tlearn: 0.5459458\ttotal: 203ms\tremaining: 50.9ms\n",
      "40:\tlearn: 0.5456536\ttotal: 207ms\tremaining: 45.5ms\n",
      "41:\tlearn: 0.5454078\ttotal: 211ms\tremaining: 40.1ms\n",
      "42:\tlearn: 0.5451938\ttotal: 215ms\tremaining: 34.9ms\n",
      "43:\tlearn: 0.5449810\ttotal: 219ms\tremaining: 29.8ms\n",
      "44:\tlearn: 0.5447057\ttotal: 223ms\tremaining: 24.7ms\n",
      "45:\tlearn: 0.5444799\ttotal: 225ms\tremaining: 19.6ms\n",
      "46:\tlearn: 0.5441568\ttotal: 229ms\tremaining: 14.6ms\n",
      "47:\tlearn: 0.5439864\ttotal: 232ms\tremaining: 9.65ms\n",
      "48:\tlearn: 0.5436681\ttotal: 240ms\tremaining: 4.91ms\n",
      "49:\tlearn: 0.5435526\ttotal: 244ms\tremaining: 0us\n"
     ]
    },
    {
     "data": {
      "text/plain": [
       "<catboost.core.CatBoostRegressor at 0x247afd00fa0>"
      ]
     },
     "execution_count": 153,
     "metadata": {},
     "output_type": "execute_result"
    }
   ],
   "source": [
    "#Fitting a CatBoost model\n",
    "cb_model = CatBoostRegressor(l2_leaf_reg = 0.5, learning_rate = 0.1, max_depth = 4, n_estimators = 50, \n",
    "                             num_leaves = 16)\n",
    "cb_model.fit(X_train, y_train)"
   ]
  },
  {
   "cell_type": "code",
   "execution_count": 154,
   "metadata": {},
   "outputs": [
    {
     "name": "stdout",
     "output_type": "stream",
     "text": [
      "Train set R-squared value: 0.7081\n",
      "Validation set R-squared value: 0.6890\n"
     ]
    }
   ],
   "source": [
    "#Making predictions using the CatBoost model\n",
    "train_predictions = cb_model.predict(X_train)\n",
    "val_predictions = cb_model.predict(X_val)\n",
    "\n",
    "#Calculating the R-squared value for the train and val sets\n",
    "cb_train_score = r2_score(y_train, train_predictions)\n",
    "cb_val_score = r2_score(y_val, val_predictions)\n",
    "\n",
    "print(\"Train set R-squared value: {:.4f}\" .format(cb_train_score))\n",
    "print(\"Validation set R-squared value: {:.4f}\" .format(cb_val_score))"
   ]
  },
  {
   "cell_type": "markdown",
   "metadata": {},
   "source": [
    "#### Checking the validation R-squared scores of these different models"
   ]
  },
  {
   "cell_type": "code",
   "execution_count": 155,
   "metadata": {},
   "outputs": [
    {
     "name": "stdout",
     "output_type": "stream",
     "text": [
      "Linear Regression val:  0.670259\n",
      "Decision Tree val:  0.678209\n",
      "Random Forest val:  0.687142\n",
      "XGBoost val:  0.675617\n",
      "LGB val:  0.680102\n",
      "CatBoost val:  0.68903\n"
     ]
    }
   ],
   "source": [
    "print(\"Linear Regression val: \", round(lr_val_score, 6))\n",
    "print(\"Decision Tree val: \", round(dtree_val_score, 6))\n",
    "print(\"Random Forest val: \", round(rf_val_score, 6))\n",
    "print(\"XGBoost val: \", round(xgb_val_score, 6))\n",
    "print(\"LGB val: \", round(lgb_val_score_nocat, 6))\n",
    "print(\"CatBoost val: \", round(cb_val_score, 6))"
   ]
  },
  {
   "cell_type": "markdown",
   "metadata": {},
   "source": [
    "CatBoost and Random Forest have the best validation R-squared values: 0.689 and 0.6871 respectively."
   ]
  },
  {
   "cell_type": "code",
   "execution_count": null,
   "metadata": {},
   "outputs": [],
   "source": []
  }
 ],
 "metadata": {
  "kernelspec": {
   "display_name": "Python 3",
   "language": "python",
   "name": "python3"
  },
  "language_info": {
   "codemirror_mode": {
    "name": "ipython",
    "version": 3
   },
   "file_extension": ".py",
   "mimetype": "text/x-python",
   "name": "python",
   "nbconvert_exporter": "python",
   "pygments_lexer": "ipython3",
   "version": "3.8.5"
  }
 },
 "nbformat": 4,
 "nbformat_minor": 4
}
